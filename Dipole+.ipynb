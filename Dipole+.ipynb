{
 "cells": [
  {
   "cell_type": "code",
   "execution_count": 1,
   "metadata": {},
   "outputs": [],
   "source": [
    "import numpy as np\n",
    "import math\n",
    "import plotly.graph_objects as go\n"
   ]
  },
  {
   "cell_type": "code",
   "execution_count": 41,
   "metadata": {},
   "outputs": [],
   "source": [
    "t0=0\n",
    "T=1500\n",
    "\n",
    "a=0.5\n",
    "l=0.1\n",
    "\n",
    "x_m_init = a\n",
    "y_m_init = l/2\n",
    "\n",
    "x_p_init = a\n",
    "y_p_init = -l/2\n",
    "\n",
    "v_x_m_init, v_y_m_init, v_x_p_init, v_y_p_init = 0,0,0,0\n",
    "\n",
    "q_m = -10**(-7)\n",
    "q_p = 10**(-7)\n",
    "Q_p = 1\n",
    "\n",
    "mass = 0.1\n",
    "\n",
    "lambda_init = 1\n",
    "M=400\n",
    "\n",
    "a_11=complex(0.5,0.5)\n",
    "\n",
    "tau=(T-t0)/M"
   ]
  },
  {
   "cell_type": "code",
   "execution_count": 42,
   "metadata": {},
   "outputs": [],
   "source": [
    "t=np.linspace(t0,T,M+1)\n",
    "y=np.zeros((M+1,9))\n",
    "\n",
    "y[0,:] = x_m_init,y_m_init,x_p_init,y_p_init, v_x_m_init, v_y_m_init,v_x_p_init,v_y_p_init,lambda_init"
   ]
  },
  {
   "cell_type": "code",
   "execution_count": 44,
   "metadata": {},
   "outputs": [],
   "source": [
    "def func(y):\n",
    "    f_vector = np.zeros((9,1))\n",
    "    f_vector[0]=y[4]\n",
    "    f_vector[1]=y[5]\n",
    "    f_vector[2]=y[6]\n",
    "    f_vector[3]=y[7]\n",
    "    f_vector[4]=-abs(q_m)*Q_p*y[0]/mass/(y[0]**2+y[1]**2)**(3/2) - 2/mass*y[8]*(y[0]-y[2])\n",
    "    f_vector[5]=-abs(q_m)*Q_p*y[1]/mass/(y[0]**2+y[1]**2)**(3/2) - 2/mass*y[8]*(y[1]-y[3])\n",
    "    f_vector[6]=abs(q_p)*Q_p*y[2]/mass/(y[2]**2+y[3]**2)**(3/2) + 2/mass*y[8]*(y[0]-y[2])\n",
    "    f_vector[7]=abs(q_p)*Q_p*y[3]/mass/(y[2]**2+y[3]**2)**(3/2) + 2/mass*y[8]*(y[1]-y[3])\n",
    "    f_vector[8]=l**2-(y[0]-y[2])**2 - (y[1]-y[3])**2\n",
    "    return f_vector\n",
    "\n",
    "def func_y(y):\n",
    "    f_y_matrix = np.zeros((9,9))\n",
    "    f_y_matrix[0,4]=1\n",
    "    f_y_matrix[1,5]=1\n",
    "    f_y_matrix[2,6]=1\n",
    "    f_y_matrix[3,7]=1\n",
    "    \n",
    "    f_y_matrix[4,0] =-abs(q_m)*Q_p/mass*(y[1]**2-2*y[0]**2)/(y[0]**2+y[1]**2)**(5/2) - 2/mass*y[8]\n",
    "    f_y_matrix[4,1]= -abs(q_m)*Q_p/mass*(-3*y[0]*y[1])/(y[0]**2+y[1]**2)**(5/2) \n",
    "    f_y_matrix[4,2] = 2/mass*y[8]\n",
    "    f_y_matrix[4,8] = -2/mass*(y[0]-y[2])\n",
    "    \n",
    "    f_y_matrix[5,0] = -abs(q_m)*Q_p/mass*(-3*y[0]*y[1])/(y[0]**2+y[1]**2)**(5/2)\n",
    "    f_y_matrix[5,1] = -abs(q_m)*Q_p/mass*(y[0]**2-2*y[1]**2)/(y[0]**2+y[1]**2)**(5/2)-2/mass*y[8]\n",
    "    f_y_matrix[5,3] = 2/mass*y[8]\n",
    "    f_y_matrix[5,8]=-2/mass*(y[1]-y[3])\n",
    "    \n",
    "    f_y_matrix[6,0]=2/mass*y[8]\n",
    "    f_y_matrix[6,2]=abs(q_p)*Q_p/mass*(y[3]**2 -2*y[2]**2)/(y[2]**2+y[3]**2)**(5/2)-2/mass*y[8]\n",
    "    f_y_matrix[6,2]=abs(q_p)*Q_p/mass*(-3*y[2]*y[3])/(y[2]**2+y[3]**2)**(5/2)\n",
    "    f_y_matrix[6,8] = 2/mass*(y[0]-y[2])\n",
    "   \n",
    "    f_y_matrix[7,1]=2/mass*y[8]\n",
    "    f_y_matrix[7,2]=abs(q_p)*Q_p/mass*(-3*y[2]*y[3])/(y[3]**2+y[2]**2)**(5/2)\n",
    "    f_y_matrix[7,3]=abs(q_p)*Q_p/mass*(y[2]**2-2*y[3]**2)/(y[3]**2+y[2]**2)**(5/2)-2/mass*y[8]\n",
    "    f_y_matrix[7,8]=2/mass*(y[1]-y[3])\n",
    "    \n",
    "    f_y_matrix[8,0]=-2*(y[0]-y[2])\n",
    "    f_y_matrix[8,1]=-2*(y[1]-y[3])\n",
    "    f_y_matrix[8,2]=2*(y[0]-y[2])\n",
    "    f_y_matrix[8,3]=2*(y[1]-y[3])\n",
    "\n",
    "    return f_y_matrix\n",
    "\n",
    "def D(N):\n",
    "    d_matrix = np.eye(N)\n",
    "    d_matrix[N-1,N-1]=0.001\n",
    "    return d_matrix\n",
    "    \n",
    "    "
   ]
  },
  {
   "cell_type": "code",
   "execution_count": 45,
   "metadata": {},
   "outputs": [],
   "source": [
    "for m in range(M):\n",
    "    #w = np.dot(np.linalg.inv(D(9) - a_11*tau*func_y(y[m,:])),func(y[m,:]))\n",
    "    w=np.linalg.solve(D(9) - a_11*tau*func_y(y[m,:]),func(y[m,:]))\n",
    "    for i in range(9):\n",
    "        \n",
    "        y[m+1,i] = y[m,i] + tau*w[i].real"
   ]
  },
  {
   "cell_type": "code",
   "execution_count": 49,
   "metadata": {},
   "outputs": [
    {
     "data": {
      "application/vnd.plotly.v1+json": {
       "config": {
        "plotlyServerURL": "https://plot.ly"
       },
       "data": [
        {
         "type": "scatter",
         "x": [
          0.5,
          0.5
         ],
         "y": [
          0.05,
          -0.05
         ]
        }
       ],
       "frames": [
        {
         "data": [
          {
           "marker": {
            "color": "blue",
            "size": 8
           },
           "mode": "markers+lines",
           "name": "solution",
           "type": "scatter",
           "x": [
            0.5,
            0.5
           ],
           "y": [
            0.05,
            -0.05
           ]
          }
         ]
        },
        {
         "data": [
          {
           "marker": {
            "color": "blue",
            "size": 8
           },
           "mode": "markers+lines",
           "name": "solution",
           "type": "scatter",
           "x": [
            0.4999998029739499,
            0.5000000014147286
           ],
           "y": [
            0.04997883521410678,
            -0.04998452217723541
           ]
          }
         ]
        },
        {
         "data": [
          {
           "marker": {
            "color": "blue",
            "size": 8
           },
           "mode": "markers+lines",
           "name": "solution",
           "type": "scatter",
           "x": [
            0.49996887537149587,
            0.5000292630573291
           ],
           "y": [
            0.0499887088589441,
            -0.05001116426144711
           ]
          }
         ]
        },
        {
         "data": [
          {
           "marker": {
            "color": "blue",
            "size": 8
           },
           "mode": "markers+lines",
           "name": "solution",
           "type": "scatter",
           "x": [
            0.4998864320105398,
            0.5001119318042445
           ],
           "y": [
            0.04997478737435493,
            -0.05002509460660087
           ]
          }
         ]
        },
        {
         "data": [
          {
           "marker": {
            "color": "blue",
            "size": 8
           },
           "mode": "markers+lines",
           "name": "solution",
           "type": "scatter",
           "x": [
            0.4997485775893199,
            0.5002499876811406
           ],
           "y": [
            0.04995494058248894,
            -0.05004418301877068
           ]
          }
         ]
        },
        {
         "data": [
          {
           "marker": {
            "color": "blue",
            "size": 8
           },
           "mode": "markers+lines",
           "name": "solution",
           "type": "scatter",
           "x": [
            0.4995552572713016,
            0.5004434173970921
           ],
           "y": [
            0.049928771434572146,
            -0.050068032356786675
           ]
          }
         ]
        },
        {
         "data": [
          {
           "marker": {
            "color": "blue",
            "size": 8
           },
           "mode": "markers+lines",
           "name": "solution",
           "type": "scatter",
           "x": [
            0.4993064365767178,
            0.5006921762450031
           ],
           "y": [
            0.04989563702743491,
            -0.05009599946344139
           ]
          }
         ]
        },
        {
         "data": [
          {
           "marker": {
            "color": "blue",
            "size": 8
           },
           "mode": "markers+lines",
           "name": "solution",
           "type": "scatter",
           "x": [
            0.49900207860339924,
            0.500996197335161
           ],
           "y": [
            0.049854710366983454,
            -0.05012725680058883
           ]
          }
         ]
        },
        {
         "data": [
          {
           "marker": {
            "color": "blue",
            "size": 8
           },
           "mode": "markers+lines",
           "name": "solution",
           "type": "scatter",
           "x": [
            0.4986421492275259,
            0.5013553862473363
           ],
           "y": [
            0.04980498064248885,
            -0.05016079255867722
           ]
          }
         ]
        },
        {
         "data": [
          {
           "marker": {
            "color": "blue",
            "size": 8
           },
           "mode": "markers+lines",
           "name": "solution",
           "type": "scatter",
           "x": [
            0.4982266236730024,
            0.5017696144061006
           ],
           "y": [
            0.04974525368452978,
            -0.05019541091355896
           ]
          }
         ]
        },
        {
         "data": [
          {
           "marker": {
            "color": "blue",
            "size": 8
           },
           "mode": "markers+lines",
           "name": "solution",
           "type": "scatter",
           "x": [
            0.4977554942700462,
            0.5022387112737121
           ],
           "y": [
            0.04967415268934226,
            -0.05022973251334255
           ]
          }
         ]
        },
        {
         "data": [
          {
           "marker": {
            "color": "blue",
            "size": 8
           },
           "mode": "markers+lines",
           "name": "solution",
           "type": "scatter",
           "x": [
            0.4972287793939118,
            0.5027624553722156
           ],
           "y": [
            0.049590119296387576,
            -0.050262195282117325
           ]
          }
         ]
        },
        {
         "data": [
          {
           "marker": {
            "color": "blue",
            "size": 8
           },
           "mode": "markers+lines",
           "name": "solution",
           "type": "scatter",
           "x": [
            0.4966465335694237,
            0.5033405641521362
           ],
           "y": [
            0.04949141511909372,
            -0.05029105564053688
           ]
          }
         ]
        },
        {
         "data": [
          {
           "marker": {
            "color": "blue",
            "size": 8
           },
           "mode": "markers+lines",
           "name": "solution",
           "type": "scatter",
           "x": [
            0.4960088587200695,
            0.5039726827325377
           ],
           "y": [
            0.049376123841223994,
            -0.0503143902557588
           ]
          }
         ]
        },
        {
         "data": [
          {
           "marker": {
            "color": "blue",
            "size": 8
           },
           "mode": "markers+lines",
           "name": "solution",
           "type": "scatter",
           "x": [
            0.4953159165316859,
            0.5046583715464213
           ],
           "y": [
            0.04924215400330414,
            -0.050330098445233964
           ]
          }
         ]
        },
        {
         "data": [
          {
           "marker": {
            "color": "blue",
            "size": 8
           },
           "mode": "markers+lines",
           "name": "solution",
           "type": "scatter",
           "x": [
            0.4945679418900672,
            0.5053970929366333
           ],
           "y": [
            0.049087242614800984,
            -0.05033590537012255
           ]
          }
         ]
        },
        {
         "data": [
          {
           "marker": {
            "color": "blue",
            "size": 8
           },
           "mode": "markers+lines",
           "name": "solution",
           "type": "scatter",
           "x": [
            0.49376525733899235,
            0.506188196760797
           ],
           "y": [
            0.04890895973804996,
            -0.05032936616444623
           ]
          }
         ]
        },
        {
         "data": [
          {
           "marker": {
            "color": "blue",
            "size": 8
           },
           "mode": "markers+lines",
           "name": "solution",
           "type": "scatter",
           "x": [
            0.4929082884900602,
            0.5070309050794097
           ],
           "y": [
            0.04870471419899279,
            -0.050307871155186396
           ]
          }
         ]
        },
        {
         "data": [
          {
           "marker": {
            "color": "blue",
            "size": 8
           },
           "mode": "markers+lines",
           "name": "solution",
           "type": "scatter",
           "x": [
            0.49199758029825297,
            0.5079242960192423
           ],
           "y": [
            0.04847176058727653,
            -0.050268652336073645
           ]
          }
         ]
        },
        {
         "data": [
          {
           "marker": {
            "color": "blue",
            "size": 8
           },
           "mode": "markers+lines",
           "name": "solution",
           "type": "scatter",
           "x": [
            0.4910338140972554,
            0.508867286924614
           ],
           "y": [
            0.04820720771380303,
            -0.05020879126341011
           ]
          }
         ]
        },
        {
         "data": [
          {
           "marker": {
            "color": "blue",
            "size": 8
           },
           "mode": "markers+lines",
           "name": "solution",
           "type": "scatter",
           "x": [
            0.4900178252662364,
            0.5098586169319783
           ],
           "y": [
            0.047908028696972776,
            -0.050125228545496336
           ]
          }
         ]
        },
        {
         "data": [
          {
           "marker": {
            "color": "blue",
            "size": 8
           },
           "mode": "markers+lines",
           "name": "solution",
           "type": "scatter",
           "x": [
            0.48895062137511297,
            0.5108968291284854
           ],
           "y": [
            0.04757107284916726,
            -0.05001477509763051
           ]
          }
         ]
        },
        {
         "data": [
          {
           "marker": {
            "color": "blue",
            "size": 8
           },
           "mode": "markers+lines",
           "name": "solution",
           "type": "scatter",
           "x": [
            0.48783340062839126,
            0.5119802524826563
           ],
           "y": [
            0.04719307953194016,
            -0.049874125331696675
           ]
          }
         ]
        },
        {
         "data": [
          {
           "marker": {
            "color": "blue",
            "size": 8
           },
           "mode": "markers+lines",
           "name": "solution",
           "type": "scatter",
           "x": [
            0.48666757039874153,
            0.5131069837647657
           ],
           "y": [
            0.04677069414138741,
            -0.04969987244251543
           ]
          }
         ]
        },
        {
         "data": [
          {
           "marker": {
            "color": "blue",
            "size": 8
           },
           "mode": "markers+lines",
           "name": "solution",
           "type": "scatter",
           "x": [
            0.4854547656108338,
            0.5142748697056695
           ],
           "y": [
            0.0463004863736578,
            -0.04948852594182066
           ]
          }
         ]
        },
        {
         "data": [
          {
           "marker": {
            "color": "blue",
            "size": 8
           },
           "mode": "markers+lines",
           "name": "solution",
           "type": "scatter",
           "x": [
            0.4841968667040772,
            0.5154814896751678
           ],
           "y": [
            0.04577897090395164,
            -0.049236531574362495
           ]
          }
         ]
        },
        {
         "data": [
          {
           "marker": {
            "color": "blue",
            "size": 8
           },
           "mode": "markers+lines",
           "name": "solution",
           "type": "scatter",
           "x": [
            0.48289601687033906,
            0.516724139193981
           ],
           "y": [
            0.045202630590038574,
            -0.04894029372863339
           ]
          }
         ]
        },
        {
         "data": [
          {
           "marker": {
            "color": "blue",
            "size": 8
           },
           "mode": "markers+lines",
           "name": "solution",
           "type": "scatter",
           "x": [
            0.48155463823018285,
            0.5179998146263066
           ],
           "y": [
            0.04456794228272987,
            -0.04859620042650688
           ]
          }
         ]
        },
        {
         "data": [
          {
           "marker": {
            "color": "blue",
            "size": 8
           },
           "mode": "markers+lines",
           "name": "solution",
           "type": "scatter",
           "x": [
            0.48017544657952854,
            0.5193051994318177
           ],
           "y": [
            0.04387140529033345,
            -0.048200650941147234
           ]
          }
         ]
        },
        {
         "data": [
          {
           "marker": {
            "color": "blue",
            "size": 8
           },
           "mode": "markers+lines",
           "name": "solution",
           "type": "scatter",
           "x": [
            0.4787614643089443,
            0.5206366523857929
           ],
           "y": [
            0.043109572501448264,
            -0.047750086050454416
           ]
          }
         ]
        },
        {
         "data": [
          {
           "marker": {
            "color": "blue",
            "size": 8
           },
           "mode": "markers+lines",
           "name": "solution",
           "type": "scatter",
           "x": [
            0.4773160310712385,
            0.5219901982025924
           ],
           "y": [
            0.042279084120174636,
            -0.047241020883720605
           ]
          }
         ]
        },
        {
         "data": [
          {
           "marker": {
            "color": "blue",
            "size": 8
           },
           "mode": "markers+lines",
           "name": "solution",
           "type": "scatter",
           "x": [
            0.4758428117510283,
            0.5233615210194756
           ],
           "y": [
            0.04137670390974639,
            -0.04667008026192297
           ]
          }
         ]
        },
        {
         "data": [
          {
           "marker": {
            "color": "blue",
            "size": 8
           },
           "mode": "markers+lines",
           "name": "solution",
           "type": "scatter",
           "x": [
            0.4743458012740775,
            0.5247459612131936
           ],
           "y": [
            0.04039935777474962,
            -0.04603403636719217
           ]
          }
         ]
        },
        {
         "data": [
          {
           "marker": {
            "color": "blue",
            "size": 8
           },
           "mode": "markers+lines",
           "name": "solution",
           "type": "scatter",
           "x": [
            0.47282932578614517,
            0.5261385160291121
           ],
           "y": [
            0.03934417443876857,
            -0.045329848504770696
           ]
          }
         ]
        },
        {
         "data": [
          {
           "marker": {
            "color": "blue",
            "size": 8
           },
           "mode": "markers+lines",
           "name": "solution",
           "type": "scatter",
           "x": [
            0.4712980397327174,
            0.5275338444999342
           ],
           "y": [
            0.038208527894102416,
            -0.04455470464182155
           ]
          }
         ]
        },
        {
         "data": [
          {
           "marker": {
            "color": "blue",
            "size": 8
           },
           "mode": "markers+lines",
           "name": "solution",
           "type": "scatter",
           "x": [
            0.4697569183842457,
            0.5289262771163897
           ],
           "y": [
            0.03699008121412759,
            -0.04370606432275937
           ]
          }
         ]
        },
        {
         "data": [
          {
           "marker": {
            "color": "blue",
            "size": 8
           },
           "mode": "markers+lines",
           "name": "solution",
           "type": "scatter",
           "x": [
            0.46821124537835507,
            0.5303098306835443
           ],
           "y": [
            0.035686831228398525,
            -0.04278170247179687
           ]
          }
         ]
        },
        {
         "data": [
          {
           "marker": {
            "color": "blue",
            "size": 8
           },
           "mode": "markers+lines",
           "name": "solution",
           "type": "scatter",
           "x": [
            0.4666665948928141,
            0.5316782287516811
           ],
           "y": [
            0.03429715346765599,
            -0.041779753502073094
           ]
          }
         ]
        },
        {
         "data": [
          {
           "marker": {
            "color": "blue",
            "size": 8
           },
           "mode": "markers+lines",
           "name": "solution",
           "type": "scatter",
           "x": [
            0.46512880812262447,
            0.5330249279482536
           ],
           "y": [
            0.03281984669309284,
            -0.04069875505956084
           ]
          }
         ]
        },
        {
         "data": [
          {
           "marker": {
            "color": "blue",
            "size": 8
           },
           "mode": "markers+lines",
           "name": "solution",
           "type": "scatter",
           "x": [
            0.4636039638128256,
            0.5343431504557201
           ],
           "y": [
            0.031254176234649135,
            -0.039537690642020305
           ]
          }
         ]
        },
        {
         "data": [
          {
           "marker": {
            "color": "blue",
            "size": 8
           },
           "mode": "markers+lines",
           "name": "solution",
           "type": "scatter",
           "x": [
            0.46209834269649785,
            0.5356259227781651
           ],
           "y": [
            0.029599915280522228,
            -0.03829603025225077
           ]
          }
         ]
        },
        {
         "data": [
          {
           "marker": {
            "color": "blue",
            "size": 8
           },
           "mode": "markers+lines",
           "name": "solution",
           "type": "scatter",
           "x": [
            0.46061838580533093,
            0.5368661208171542
           ],
           "y": [
            0.027857383188788904,
            -0.03697376817500875
           ]
          }
         ]
        },
        {
         "data": [
          {
           "marker": {
            "color": "blue",
            "size": 8
           },
           "mode": "markers+lines",
           "name": "solution",
           "type": "scatter",
           "x": [
            0.459170646757494,
            0.538056521134803
           ],
           "y": [
            0.026027479836837814,
            -0.0355714569128962
           ]
          }
         ]
        },
        {
         "data": [
          {
           "marker": {
            "color": "blue",
            "size": 8
           },
           "mode": "markers+lines",
           "name": "solution",
           "type": "scatter",
           "x": [
            0.45776173828287803,
            0.5391898581211685
           ],
           "y": [
            0.024111714990311204,
            -0.03409023628326823
           ]
          }
         ]
        },
        {
         "data": [
          {
           "marker": {
            "color": "blue",
            "size": 8
           },
           "mode": "markers+lines",
           "name": "solution",
           "type": "scatter",
           "x": [
            0.4563982734163294,
            0.540258886606656
           ],
           "y": [
            0.022112231665667257,
            -0.03253185667085202
           ]
          }
         ]
        },
        {
         "data": [
          {
           "marker": {
            "color": "blue",
            "size": 8
           },
           "mode": "markers+lines",
           "name": "solution",
           "type": "scatter",
           "x": [
            0.4550868019711649,
            0.5412564492724271
           ],
           "y": [
            0.020031822484307335,
            -0.03089869545419107
           ]
          }
         ]
        },
        {
         "data": [
          {
           "marker": {
            "color": "blue",
            "size": 8
           },
           "mode": "markers+lines",
           "name": "solution",
           "type": "scatter",
           "x": [
            0.45383374309253016,
            0.542175548018528
           ],
           "y": [
            0.017873938075896885,
            -0.029193765682543886
           ]
          }
         ]
        },
        {
         "data": [
          {
           "marker": {
            "color": "blue",
            "size": 8
           },
           "mode": "markers+lines",
           "name": "solution",
           "type": "scatter",
           "x": [
            0.45264531487611337,
            0.5430094182577944
           ],
           "y": [
            0.015642686687470264,
            -0.02742071617680123
           ]
          }
         ]
        },
        {
         "data": [
          {
           "marker": {
            "color": "blue",
            "size": 8
           },
           "mode": "markers+lines",
           "name": "solution",
           "type": "scatter",
           "x": [
            0.4515274622141865,
            0.5437516049219953
           ],
           "y": [
            0.013342824295097273,
            -0.025583822365224267
           ]
          }
         ]
        },
        {
         "data": [
          {
           "marker": {
            "color": "blue",
            "size": 8
           },
           "mode": "markers+lines",
           "name": "solution",
           "type": "scatter",
           "x": [
            0.45048578418876745,
            0.5443960388045976
           ],
           "y": [
            0.010979734696326463,
            -0.023687967342348445
           ]
          }
         ]
        },
        {
         "data": [
          {
           "marker": {
            "color": "blue",
            "size": 8
           },
           "mode": "markers+lines",
           "name": "solution",
           "type": "scatter",
           "x": [
            0.4495254624612437,
            0.5449371117319391
           ],
           "y": [
            0.008559399281998295,
            -0.021738612854969436
           ]
          }
         ]
        },
        {
         "data": [
          {
           "marker": {
            "color": "blue",
            "size": 8
           },
           "mode": "markers+lines",
           "name": "solution",
           "type": "scatter",
           "x": [
            0.44865119219948846,
            0.5453697489613578
           ],
           "y": [
            0.006088356440423574,
            -0.019741760167908736
           ]
          }
         ]
        },
        {
         "data": [
          {
           "marker": {
            "color": "blue",
            "size": 8
           },
           "mode": "markers+lines",
           "name": "solution",
           "type": "scatter",
           "x": [
            0.4478671171285627,
            0.5456894771600014
           ],
           "y": [
            0.0035736508277127987,
            -0.017703901036776347
           ]
          }
         ]
        },
        {
         "data": [
          {
           "marker": {
            "color": "blue",
            "size": 8
           },
           "mode": "markers+lines",
           "name": "solution",
           "type": "scatter",
           "x": [
            0.4471767702823146,
            0.5458924863290358
           ],
           "y": [
            0.0010227730349853326,
            -0.0156319593052028
           ]
          }
         ]
        },
        {
         "data": [
          {
           "marker": {
            "color": "blue",
            "size": 8
           },
           "mode": "markers+lines",
           "name": "solution",
           "type": "scatter",
           "x": [
            0.44658302196569594,
            0.5459756841097755
           ],
           "y": [
            -0.0015564095161698073,
            -0.013533223937837928
           ]
          }
         ]
        },
        {
         "data": [
          {
           "marker": {
            "color": "blue",
            "size": 8
           },
           "mode": "markers+lines",
           "name": "solution",
           "type": "scatter",
           "x": [
            0.4460880363095489,
            0.5459367410427395
           ],
           "y": [
            -0.004155729328293925,
            -0.011415274584113124
           ]
          }
         ]
        },
        {
         "data": [
          {
           "marker": {
            "color": "blue",
            "size": 8
           },
           "mode": "markers+lines",
           "name": "solution",
           "type": "scatter",
           "x": [
            0.4456932376126279,
            0.545774125546014
           ],
           "y": [
            -0.006766801845764306,
            -0.009285901026966362
           ]
          }
         ]
        },
        {
         "data": [
          {
           "marker": {
            "color": "blue",
            "size": 8
           },
           "mode": "markers+lines",
           "name": "solution",
           "type": "scatter",
           "x": [
            0.4453992874250766,
            0.5454871276299683
           ],
           "y": [
            -0.009381113122791523,
            -0.00715301809141814
           ]
          }
         ]
        },
        {
         "data": [
          {
           "marker": {
            "color": "blue",
            "size": 8
           },
           "mode": "markers+lines",
           "name": "solution",
           "type": "scatter",
           "x": [
            0.44520607304247506,
            0.5450758706619395
           ],
           "y": [
            -0.011990110355321834,
            -0.005024577757492194
           ]
          }
         ]
        },
        {
         "data": [
          {
           "marker": {
            "color": "blue",
            "size": 8
           },
           "mode": "markers+lines",
           "name": "solution",
           "type": "scatter",
           "x": [
            0.44511270776206885,
            0.5445413108243471
           ],
           "y": [
            -0.01458529337948772,
            -0.00290848033042678
           ]
          }
         ]
        },
        {
         "data": [
          {
           "marker": {
            "color": "blue",
            "size": 8
           },
           "mode": "markers+lines",
           "name": "solution",
           "type": "scatter",
           "x": [
            0.445117542917461,
            0.543885224257683
           ],
           "y": [
            -0.017158305197728773,
            -0.0008124865617330232
           ]
          }
         ]
        },
        {
         "data": [
          {
           "marker": {
            "color": "blue",
            "size": 8
           },
           "mode": "markers+lines",
           "name": "solution",
           "type": "scatter",
           "x": [
            0.44521819137082475,
            0.5431101822294364
           ],
           "y": [
            -0.01970101962438784,
            0.0012558674152686133
           ]
          }
         ]
        },
        {
         "data": [
          {
           "marker": {
            "color": "blue",
            "size": 8
           },
           "mode": "markers+lines",
           "name": "solution",
           "type": "scatter",
           "x": [
            0.44541156181872343,
            0.5422195150045255
           ],
           "y": [
            -0.02220562424387089,
            0.0032893505707093118
           ]
          }
         ]
        },
        {
         "data": [
          {
           "marker": {
            "color": "blue",
            "size": 8
           },
           "mode": "markers+lines",
           "name": "solution",
           "type": "scatter",
           "x": [
            0.44569390297403033,
            0.5412172653965825
           ],
           "y": [
            -0.024664697040515826,
            0.005281111281715765
           ]
          }
         ]
        },
        {
         "data": [
          {
           "marker": {
            "color": "blue",
            "size": 8
           },
           "mode": "markers+lines",
           "name": "solution",
           "type": "scatter",
           "x": [
            0.4460608564352691,
            0.5401081332389882
           ],
           "y": [
            -0.027071275280603577,
            0.007224744067931181
           ]
          }
         ]
        },
        {
         "data": [
          {
           "marker": {
            "color": "blue",
            "size": 8
           },
           "mode": "markers+lines",
           "name": "solution",
           "type": "scatter",
           "x": [
            0.44650751685599227,
            0.5388974122195339
           ],
           "y": [
            -0.029418915491035532,
            0.009114347630790356
           ]
          }
         ]
        },
        {
         "data": [
          {
           "marker": {
            "color": "blue",
            "size": 8
           },
           "mode": "markers+lines",
           "name": "solution",
           "type": "scatter",
           "x": [
            0.4470284978871066,
            0.5375909206663069
           ],
           "y": [
            -0.03170174367181623,
            0.010944573354345646
           ]
          }
         ]
        },
        {
         "data": [
          {
           "marker": {
            "color": "blue",
            "size": 8
           },
           "mode": "markers+lines",
           "name": "solution",
           "type": "scatter",
           "x": [
            0.4476180022870638,
            0.5361949279520951
           ],
           "y": [
            -0.03391449518562608,
            0.012710663724757203
           ]
          }
         ]
        },
        {
         "data": [
          {
           "marker": {
            "color": "blue",
            "size": 8
           },
           "mode": "markers+lines",
           "name": "solution",
           "type": "scatter",
           "x": [
            0.4482698945776444,
            0.5347160782013313
           ],
           "y": [
            -0.03605254407283453,
            0.014408480423897752
           ]
          }
         ]
        },
        {
         "data": [
          {
           "marker": {
            "color": "blue",
            "size": 8
           },
           "mode": "markers+lines",
           "name": "solution",
           "type": "scatter",
           "x": [
            0.4489777746624685,
            0.5331613129417602
           ],
           "y": [
            -0.0381119218310281,
            0.01603452213691309
           ]
          }
         ]
        },
        {
         "data": [
          {
           "marker": {
            "color": "blue",
            "size": 8
           },
           "mode": "markers+lines",
           "name": "solution",
           "type": "scatter",
           "x": [
            0.4497350509145454,
            0.5315377942497628
           ],
           "y": [
            -0.04008932596333964,
            0.017585932373092833
           ]
          }
         ]
        },
        {
         "data": [
          {
           "marker": {
            "color": "blue",
            "size": 8
           },
           "mode": "markers+lines",
           "name": "solution",
           "type": "scatter",
           "x": [
            0.4505350113694053,
            0.5298528298026854
           ],
           "y": [
            -0.04198211883097529,
            0.019060497825624446
           ]
          }
         ]
        },
        {
         "data": [
          {
           "marker": {
            "color": "blue",
            "size": 8
           },
           "mode": "markers+lines",
           "name": "solution",
           "type": "scatter",
           "x": [
            0.45137089182185697,
            0.5281138010837813
           ],
           "y": [
            -0.04378831753654852,
            0.020456637983035646
           ]
          }
         ]
        },
        {
         "data": [
          {
           "marker": {
            "color": "blue",
            "size": 8
           },
           "mode": "markers+lines",
           "name": "solution",
           "type": "scatter",
           "x": [
            0.45223593980706644,
            0.5263280957959682
           ],
           "y": [
            -0.045506575713119134,
            0.021773386850387953
           ]
          }
         ]
        },
        {
         "data": [
          {
           "marker": {
            "color": "blue",
            "size": 8
           },
           "mode": "markers+lines",
           "name": "solution",
           "type": "scatter",
           "x": [
            0.45312347364070105,
            0.5245030453396557
           ],
           "y": [
            -0.04713615819870807,
            0.023010367741057657
           ]
          }
         ]
        },
        {
         "data": [
          {
           "marker": {
            "color": "blue",
            "size": 8
           },
           "mode": "markers+lines",
           "name": "solution",
           "type": "scatter",
           "x": [
            0.45402693588943577,
            0.5226458680065833
           ],
           "y": [
            -0.0486769096391852,
            0.024167762161834996
           ]
          }
         ]
        },
        {
         "data": [
          {
           "marker": {
            "color": "blue",
            "size": 8
           },
           "mode": "markers+lines",
           "name": "solution",
           "type": "scatter",
           "x": [
            0.4549399408345307,
            0.5207636183438359
           ],
           "y": [
            -0.050129218087177865,
            0.025246273838361533
           ]
          }
         ]
        },
        {
         "data": [
          {
           "marker": {
            "color": "blue",
            "size": 8
           },
           "mode": "markers+lines",
           "name": "solution",
           "type": "scatter",
           "x": [
            0.4558563156712659,
            0.518863142956337
           ],
           "y": [
            -0.051493974655603125,
            0.026247088919071664
           ]
          }
         ]
        },
        {
         "data": [
          {
           "marker": {
            "color": "blue",
            "size": 8
           },
           "mode": "markers+lines",
           "name": "solution",
           "type": "scatter",
           "x": [
            0.45677013535109895,
            0.516951042846936
           ],
           "y": [
            -0.05277253024690565,
            0.027171833358998348
           ]
          }
         ]
        },
        {
         "data": [
          {
           "marker": {
            "color": "blue",
            "size": 8
           },
           "mode": "markers+lines",
           "name": "solution",
           "type": "scatter",
           "x": [
            0.45767575111831665,
            0.5150336422439586
           ],
           "y": [
            -0.053966650318717,
            0.028022528425549767
           ]
          }
         ]
        },
        {
         "data": [
          {
           "marker": {
            "color": "blue",
            "size": 8
           },
           "mode": "markers+lines",
           "name": "solution",
           "type": "scatter",
           "x": [
            0.4585678129168697,
            0.5131169637385853
           ],
           "y": [
            -0.0550784685690333,
            0.028801545192134174
           ]
          }
         ]
        },
        {
         "data": [
          {
           "marker": {
            "color": "blue",
            "size": 8
           },
           "mode": "markers+lines",
           "name": "solution",
           "type": "scatter",
           "x": [
            0.45944128594537625,
            0.5112067094492897
           ],
           "y": [
            -0.05611044033441643,
            0.029511558797477844
           ]
          }
         ]
        },
        {
         "data": [
          {
           "marker": {
            "color": "blue",
            "size": 8
           },
           "mode": "markers+lines",
           "name": "solution",
           "type": "scatter",
           "x": [
            0.46029146171929347,
            0.5093082478473956
           ],
           "y": [
            -0.05706529639793274,
            0.03015550315332679
           ]
          }
         ]
        },
        {
         "data": [
          {
           "marker": {
            "color": "blue",
            "size": 8
           },
           "mode": "markers+lines",
           "name": "solution",
           "type": "scatter",
           "x": [
            0.4611139640600698,
            0.5074266058154535
           ],
           "y": [
            -0.05794599780370367,
            0.030736526685023594
           ]
          }
         ]
        },
        {
         "data": [
          {
           "marker": {
            "color": "blue",
            "size": 8
           },
           "mode": "markers+lines",
           "name": "solution",
           "type": "scatter",
           "x": [
            0.461904750473338,
            0.5055664654668738
           ],
           "y": [
            -0.0587556921755227,
            0.03125794959161573
           ]
          }
         ]
        },
        {
         "data": [
          {
           "marker": {
            "color": "blue",
            "size": 8
           },
           "mode": "markers+lines",
           "name": "solution",
           "type": "scatter",
           "x": [
            0.4626601094038681,
            0.5037321652290101
           ],
           "y": [
            -0.05949767194077857,
            0.031723223017425625
           ]
          }
         ]
        },
        {
         "data": [
          {
           "marker": {
            "color": "blue",
            "size": 8
           },
           "mode": "markers+lines",
           "name": "solution",
           "type": "scatter",
           "x": [
            0.4633766538662483,
            0.5019277046804139
           ],
           "y": [
            -0.06017533477004637,
            0.03213589043749679
           ]
          }
         ]
        },
        {
         "data": [
          {
           "marker": {
            "color": "blue",
            "size": 8
           },
           "mode": "markers+lines",
           "name": "solution",
           "type": "scatter",
           "x": [
            0.4640513119493326,
            0.5001567526339478
           ],
           "y": [
            -0.06079214645869972,
            0.032499551476543716
           ]
          }
         ]
        },
        {
         "data": [
          {
           "marker": {
            "color": "blue",
            "size": 8
           },
           "mode": "markers+lines",
           "name": "solution",
           "type": "scatter",
           "x": [
            0.4646813146815808,
            0.4984226579686036
           ],
           "y": [
            -0.06135160640077414,
            0.03281782830598344
           ]
          }
         ]
        },
        {
         "data": [
          {
           "marker": {
            "color": "blue",
            "size": 8
           },
           "mode": "markers+lines",
           "name": "solution",
           "type": "scatter",
           "x": [
            0.4652641817255981,
            0.4967284627320699
           ],
           "y": [
            -0.06185721573764056,
            0.033094334696881805
           ]
          }
         ]
        },
        {
         "data": [
          {
           "marker": {
            "color": "blue",
            "size": 8
           },
           "mode": "markers+lines",
           "name": "solution",
           "type": "scatter",
           "x": [
            0.46579770534536324,
            0.49507691706137413
           ],
           "y": [
            -0.06231244820503609,
            0.033332647748421686
           ]
          }
         ]
        },
        {
         "data": [
          {
           "marker": {
            "color": "blue",
            "size": 8
           },
           "mode": "markers+lines",
           "name": "solution",
           "type": "scatter",
           "x": [
            0.4662799330605371,
            0.4934704954985395
           ],
           "y": [
            -0.06272072365156552,
            0.03353628226172265
           ]
          }
         ]
        },
        {
         "data": [
          {
           "marker": {
            "color": "blue",
            "size": 8
           },
           "mode": "markers+lines",
           "name": "solution",
           "type": "scatter",
           "x": [
            0.46670914937036034,
            0.49191141431060437
           ],
           "y": [
            -0.06308538415963158,
            0.033708667687224046
           ]
          }
         ]
        },
        {
         "data": [
          {
           "marker": {
            "color": "blue",
            "size": 8
           },
           "mode": "markers+lines",
           "name": "solution",
           "type": "scatter",
           "x": [
            0.4670838568962739,
            0.4904016494572503
           ],
           "y": [
            -0.06340967266541908,
            0.033853127539944745
           ]
          }
         ]
        },
        {
         "data": [
          {
           "marker": {
            "color": "blue",
            "size": 8
           },
           "mode": "markers+lines",
           "name": "solution",
           "type": "scatter",
           "x": [
            0.46740275725860364,
            0.48894295488357564
           ],
           "y": [
            -0.06369671394748415,
            0.033972861150203405
           ]
          }
         ]
        },
        {
         "data": [
          {
           "marker": {
            "color": "blue",
            "size": 8
           },
           "mode": "markers+lines",
           "name": "solution",
           "type": "scatter",
           "x": [
            0.4676647319693276,
            0.48753688084934693
           ],
           "y": [
            -0.06394949783306125,
            0.034070927597211434
           ]
          }
         ]
        },
        {
         "data": [
          {
           "marker": {
            "color": "blue",
            "size": 8
           },
           "mode": "markers+lines",
           "name": "solution",
           "type": "scatter",
           "x": [
            0.46786882359079357,
            0.486184792038647
           ],
           "y": [
            -0.06417086445674214,
            0.034150231658696274
           ]
          }
         ]
        },
        {
         "data": [
          {
           "marker": {
            "color": "blue",
            "size": 8
           },
           "mode": "markers+lines",
           "name": "solution",
           "type": "scatter",
           "x": [
            0.4680142173798195,
            0.48488788522468046
           ],
           "y": [
            -0.06436349139704849,
            0.03421351160073046
           ]
          }
         ]
        },
        {
         "data": [
          {
           "marker": {
            "color": "blue",
            "size": 8
           },
           "mode": "markers+lines",
           "name": "solution",
           "type": "scatter",
           "x": [
            0.46810022360829134,
            0.4836472062931917
           ],
           "y": [
            -0.06452988251197876,
            0.034263328627608274
           ]
          }
         ]
        },
        {
         "data": [
          {
           "marker": {
            "color": "blue",
            "size": 8
           },
           "mode": "markers+lines",
           "name": "solution",
           "type": "scatter",
           "x": [
            0.4681262607254423,
            0.48246366645423217
           ],
           "y": [
            -0.06467235829425667,
            0.0343020578113321
           ]
          }
         ]
        },
        {
         "data": [
          {
           "marker": {
            "color": "blue",
            "size": 8
           },
           "mode": "markers+lines",
           "name": "solution",
           "type": "scatter",
           "x": [
            0.4680918395036288,
            0.4813380574957192
           ],
           "y": [
            -0.06479304757018979,
            0.03433188032349783
           ]
          }
         ]
        },
        {
         "data": [
          {
           "marker": {
            "color": "blue",
            "size": 8
           },
           "mode": "markers+lines",
           "name": "solution",
           "type": "scatter",
           "x": [
            0.4679965482886804,
            0.48027106595329094
           ],
           "y": [
            -0.06489388037225578,
            0.03435477679860235
           ]
          }
         ]
        },
        {
         "data": [
          {
           "marker": {
            "color": "blue",
            "size": 8
           },
           "mode": "markers+lines",
           "name": "solution",
           "type": "scatter",
           "x": [
            0.46784003945779284,
            0.4792632860893906
           ],
           "y": [
            -0.06497658182432264,
            0.03437252166659391
           ]
          }
         ]
        },
        {
         "data": [
          {
           "marker": {
            "color": "blue",
            "size": 8
           },
           "mode": "markers+lines",
           "name": "solution",
           "type": "scatter",
           "x": [
            0.46762201717238877,
            0.4783152315903832
           ],
           "y": [
            -0.06504266688938469,
            0.03438667830345739
           ]
          }
         ]
        },
        {
         "data": [
          {
           "marker": {
            "color": "blue",
            "size": 8
           },
           "mode": "markers+lines",
           "name": "solution",
           "type": "scatter",
           "x": [
            0.4673422265002617,
            0.477427345903952
           ],
           "y": [
            -0.06509343584252257,
            0.03439859486143973
           ]
          }
         ]
        },
        {
         "data": [
          {
           "marker": {
            "color": "blue",
            "size": 8
           },
           "mode": "markers+lines",
           "name": "solution",
           "type": "scatter",
           "x": [
            0.46700044397047713,
            0.4766000111502137
           ],
           "y": [
            -0.06512997034618864,
            0.03440940065489327
           ]
          }
         ]
        },
        {
         "data": [
          {
           "marker": {
            "color": "blue",
            "size": 8
           },
           "mode": "markers+lines",
           "name": "solution",
           "type": "scatter",
           "x": [
            0.46659646961572177,
            0.4758335555491454
           ],
           "y": [
            -0.06515313002064822,
            0.03442000299341815
           ]
          }
         ]
        },
        {
         "data": [
          {
           "marker": {
            "color": "blue",
            "size": 8
           },
           "mode": "markers+lines",
           "name": "solution",
           "type": "scatter",
           "x": [
            0.4661301205498222,
            0.47512825931428393
           ],
           "y": [
            -0.06516354941928358,
            0.03443108437083125
           ]
          }
         ]
        },
        {
         "data": [
          {
           "marker": {
            "color": "blue",
            "size": 8
           },
           "mode": "markers+lines",
           "name": "solution",
           "type": "scatter",
           "x": [
            0.4656012261227313,
            0.4744843589685073
           ],
           "y": [
            -0.0651616353363462,
            0.03444309993633506
           ]
          }
         ]
        },
        {
         "data": [
          {
           "marker": {
            "color": "blue",
            "size": 8
           },
           "mode": "markers+lines",
           "name": "solution",
           "type": "scatter",
           "x": [
            0.4650096246911026,
            0.47390205004234554
           ],
           "y": [
            -0.06514756439351023,
            0.034456275192992214
           ]
          }
         ]
        },
        {
         "data": [
          {
           "marker": {
            "color": "blue",
            "size": 8
           },
           "mode": "markers+lines",
           "name": "solution",
           "type": "scatter",
           "x": [
            0.4643551620393285,
            0.47338148811900754
           ],
           "y": [
            -0.06512128087115275,
            0.03447060388814668
           ]
          }
         ]
        },
        {
         "data": [
          {
           "marker": {
            "color": "blue",
            "size": 8
           },
           "mode": "markers+lines",
           "name": "solution",
           "type": "scatter",
           "x": [
            0.4636376914832603,
            0.47292278819350253
           ],
           "y": [
            -0.06508249477059828,
            0.03448584608070667
           ]
          }
         ]
        },
        {
         "data": [
          {
           "marker": {
            "color": "blue",
            "size": 8
           },
           "mode": "markers+lines",
           "name": "solution",
           "type": "scatter",
           "x": [
            0.46285707568640777,
            0.47252602231622753
           ],
           "y": [
            -0.06503068011456571,
            0.03450152639116477
           ]
          }
         ]
        },
        {
         "data": [
          {
           "marker": {
            "color": "blue",
            "size": 8
           },
           "mode": "markers+lines",
           "name": "solution",
           "type": "scatter",
           "x": [
            0.46201319021584986,
            0.47219121549457577
           ],
           "y": [
            -0.0649650735146947,
            0.034516932461828874
           ]
          }
         ]
        },
        {
         "data": [
          {
           "marker": {
            "color": "blue",
            "size": 8
           },
           "mode": "markers+lines",
           "name": "solution",
           "type": "scatter",
           "x": [
            0.4611059288619883,
            0.4719183398298791
           ],
           "y": [
            -0.06488467305725401,
            0.03453111367692054
           ]
          }
         ]
        },
        {
         "data": [
          {
           "marker": {
            "color": "blue",
            "size": 8
           },
           "mode": "markers+lines",
           "name": "solution",
           "type": "scatter",
           "x": [
            0.46013521074223357,
            0.4717073068717485
           ],
           "y": [
            -0.06478823758087646,
            0.03454288021489557
           ]
          }
         ]
        },
        {
         "data": [
          {
           "marker": {
            "color": "blue",
            "size": 8
           },
           "mode": "markers+lines",
           "name": "solution",
           "type": "scatter",
           "x": [
            0.45910098920330167,
            0.4715579581780384
           ],
           "y": [
            -0.064674286443332,
            0.03455080252846271
           ]
          }
         ]
        },
        {
         "data": [
          {
           "marker": {
            "color": "blue",
            "size": 8
           },
           "mode": "markers+lines",
           "name": "solution",
           "type": "scatter",
           "x": [
            0.4580032625295956,
            0.4714700540766715
           ],
           "y": [
            -0.06454109989781352,
            0.03455321137119139
           ]
          }
         ]
        },
        {
         "data": [
          {
           "marker": {
            "color": "blue",
            "size": 8
           },
           "mode": "markers+lines",
           "name": "solution",
           "type": "scatter",
           "x": [
            0.4568420864556961,
            0.47144326063586334
           ],
           "y": [
            -0.06438672022279504,
            0.03454819851313418
           ]
          }
         ]
        },
        {
         "data": [
          {
           "marker": {
            "color": "blue",
            "size": 8
           },
           "mode": "markers+lines",
           "name": "solution",
           "type": "scatter",
           "x": [
            0.45561758846885664,
            0.47147713486232706
           ],
           "y": [
            -0.06420895377299832,
            0.034533618311313095
           ]
          }
         ]
        },
        {
         "data": [
          {
           "marker": {
            "color": "blue",
            "size": 8
           },
           "mode": "markers+lines",
           "name": "solution",
           "type": "scatter",
           "x": [
            0.45432998387214524,
            0.4715711081632561
           ],
           "y": [
            -0.0640053741420717,
            0.03450709032393101
           ]
          }
         ]
        },
        {
         "data": [
          {
           "marker": {
            "color": "blue",
            "size": 8
           },
           "mode": "markers+lines",
           "name": "solution",
           "type": "scatter",
           "x": [
            0.4529795935600687,
            0.4717244681277162
           ],
           "y": [
            -0.06377332664986626,
            0.034466003179393884
           ]
          }
         ]
        },
        {
         "data": [
          {
           "marker": {
            "color": "blue",
            "size": 8
           },
           "mode": "markers+lines",
           "name": "solution",
           "type": "scatter",
           "x": [
            0.4515668634357598,
            0.47193633870692264
           ],
           "y": [
            -0.06350993438821716,
            0.03440751993219475
           ]
          }
         ]
        },
        {
         "data": [
          {
           "marker": {
            "color": "blue",
            "size": 8
           },
           "mode": "markers+lines",
           "name": "solution",
           "type": "scatter",
           "x": [
            0.4500923853717259,
            0.4722056589011132
           ],
           "y": [
            -0.06321210607833694,
            0.03432858515685415
           ]
          }
         ]
        },
        {
         "data": [
          {
           "marker": {
            "color": "blue",
            "size": 8
           },
           "mode": "markers+lines",
           "name": "solution",
           "type": "scatter",
           "x": [
            0.44855691958444677,
            0.472531160093661
           ],
           "y": [
            -0.06287654600961695,
            0.034225934047752676
           ]
          }
         ]
        },
        {
         "data": [
          {
           "marker": {
            "color": "blue",
            "size": 8
           },
           "mode": "markers+lines",
           "name": "solution",
           "type": "scatter",
           "x": [
            0.4469614182565223,
            0.47291134221094905
           ],
           "y": [
            -0.06249976634301994,
            0.03409610380604237
           ]
          }
         ]
        },
        {
         "data": [
          {
           "marker": {
            "color": "blue",
            "size": 8
           },
           "mode": "markers+lines",
           "name": "solution",
           "type": "scatter",
           "x": [
            0.44530705019847294,
            0.47334444892948857
           ],
           "y": [
            -0.06207810207140729,
            0.0339354476039705
           ]
          }
         ]
        },
        {
         "data": [
          {
           "marker": {
            "color": "blue",
            "size": 8
           },
           "mode": "markers+lines",
           "name": "solution",
           "type": "scatter",
           "x": [
            0.4435952262956658,
            0.4738284421998229
           ],
           "y": [
            -0.061607728933032874,
            0.03374015142085832
           ]
          }
         ]
        },
        {
         "data": [
          {
           "marker": {
            "color": "blue",
            "size": 8
           },
           "mode": "markers+lines",
           "name": "solution",
           "type": "scatter",
           "x": [
            0.44182762543431836,
            0.47436097640977587
           ],
           "y": [
            -0.06108468457187917,
            0.03350625404249346
           ]
          }
         ]
        },
        {
         "data": [
          {
           "marker": {
            "color": "blue",
            "size": 8
           },
           "mode": "markers+lines",
           "name": "solution",
           "type": "scatter",
           "x": [
            0.4400062205444541,
            0.47493937256723284
           ],
           "y": [
            -0.060504893228222036,
            0.03322967050554975
           ]
          }
         ]
        },
        {
         "data": [
          {
           "marker": {
            "color": "blue",
            "size": 8
           },
           "mode": "markers+lines",
           "name": "solution",
           "type": "scatter",
           "x": [
            0.43813330433760966,
            0.4755605929443106
           ],
           "y": [
            -0.059864194223390524,
            0.0329062192494745
           ]
          }
         ]
        },
        {
         "data": [
          {
           "marker": {
            "color": "blue",
            "size": 8
           },
           "mode": "markers+lines",
           "name": "solution",
           "type": "scatter",
           "x": [
            0.4362115142538692,
            0.47622121668961237
           ],
           "y": [
            -0.05915837447266126,
            0.03253165320863541
           ]
          }
         ]
        },
        {
         "data": [
          {
           "marker": {
            "color": "blue",
            "size": 8
           },
           "mode": "markers+lines",
           "name": "solution",
           "type": "scatter",
           "x": [
            0.4342438560675864,
            0.47691741698208573
           ],
           "y": [
            -0.058383205218061195,
            0.03210169503590908
           ]
          }
         ]
        },
        {
         "data": [
          {
           "marker": {
            "color": "blue",
            "size": 8
           },
           "mode": "markers+lines",
           "name": "solution",
           "type": "scatter",
           "x": [
            0.4322337255354932,
            0.47764494036721267
           ],
           "y": [
            -0.057534483117012564,
            0.031612076593830155
           ]
          }
         ]
        },
        {
         "data": [
          {
           "marker": {
            "color": "blue",
            "size": 8
           },
           "mode": "markers+lines",
           "name": "solution",
           "type": "scatter",
           "x": [
            0.43018492740675013,
            0.4783990889818513
           ],
           "y": [
            -0.05660807575176209,
            0.031058582779482882
           ]
          }
         ]
        },
        {
         "data": [
          {
           "marker": {
            "color": "blue",
            "size": 8
           },
           "mode": "markers+lines",
           "name": "solution",
           "type": "scatter",
           "x": [
            0.42810169105430307,
            0.47917470643549254
           ],
           "y": [
            -0.055599971537053414,
            0.030437099663224457
           ]
          }
         ]
        },
        {
         "data": [
          {
           "marker": {
            "color": "blue",
            "size": 8
           },
           "mode": "markers+lines",
           "name": "solution",
           "type": "scatter",
           "x": [
            0.4259886819336336,
            0.47996616816995
           ],
           "y": [
            -0.054506333898437405,
            0.029743666818055042
           ]
          }
         ]
        },
        {
         "data": [
          {
           "marker": {
            "color": "blue",
            "size": 8
           },
           "mode": "markers+lines",
           "name": "solution",
           "type": "scatter",
           "x": [
            0.42385100803212034,
            0.48076737716294604
           ],
           "y": [
            -0.053323559470260594,
            0.02897453359534735
           ]
          }
         ]
        },
        {
         "data": [
          {
           "marker": {
            "color": "blue",
            "size": 8
           },
           "mode": "markers+lines",
           "name": "solution",
           "type": "scatter",
           "x": [
            0.4216942204438255,
            0.48157176586949413
           ],
           "y": [
            -0.05204833992056569,
            0.028126218963615855
           ]
          }
         ]
        },
        {
         "data": [
          {
           "marker": {
            "color": "blue",
            "size": 8
           },
           "mode": "markers+lines",
           "name": "solution",
           "type": "scatter",
           "x": [
            0.41952430719515893,
            0.4823723053036605
           ],
           "y": [
            -0.05067772685046669,
            0.027195574370676174
           ]
          }
         ]
        },
        {
         "data": [
          {
           "marker": {
            "color": "blue",
            "size": 8
           },
           "mode": "markers+lines",
           "name": "solution",
           "type": "scatter",
           "x": [
            0.4173476794615997,
            0.4831615221469798
           ],
           "y": [
            -0.049209199039578114,
            0.026179848917502697
           ]
          }
         ]
        },
        {
         "data": [
          {
           "marker": {
            "color": "blue",
            "size": 8
           },
           "mode": "markers+lines",
           "name": "solution",
           "type": "scatter",
           "x": [
            0.4151711493598286,
            0.48393152472292894
           ],
           "y": [
            -0.04764073111956678,
            0.0250767559471195
           ]
          }
         ]
        },
        {
         "data": [
          {
           "marker": {
            "color": "blue",
            "size": 8
           },
           "mode": "markers+lines",
           "name": "solution",
           "type": "scatter",
           "x": [
            0.4130018985787252,
            0.4846740385937239
           ],
           "y": [
            -0.04597086255911499,
            0.023884539958177776
           ]
          }
         ]
        },
        {
         "data": [
          {
           "marker": {
            "color": "blue",
            "size": 8
           },
           "mode": "markers+lines",
           "name": "solution",
           "type": "scatter",
           "x": [
            0.41084743723197503,
            0.485380452410809
           ],
           "y": [
            -0.04419876564153305,
            0.022602042556386655
           ]
          }
         ]
        },
        {
         "data": [
          {
           "marker": {
            "color": "blue",
            "size": 8
           },
           "mode": "markers+lines",
           "name": "solution",
           "type": "scatter",
           "x": [
            0.40871555247916197,
            0.4860418744788925
           ],
           "y": [
            -0.04232431091886344,
            0.021228765965444915
           ]
          }
         ]
        },
        {
         "data": [
          {
           "marker": {
            "color": "blue",
            "size": 8
           },
           "mode": "markers+lines",
           "name": "solution",
           "type": "scatter",
           "x": [
            0.406614246674652,
            0.4866492002716188
           ],
           "y": [
            -0.0403481284435555,
            0.01976493244231417
           ]
          }
         ]
        },
        {
         "data": [
          {
           "marker": {
            "color": "blue",
            "size": 8
           },
           "mode": "markers+lines",
           "name": "solution",
           "type": "scatter",
           "x": [
            0.4045516650659406,
            0.4871931908632075
           ],
           "y": [
            -0.03827166292264744,
            0.018211537791255963
           ]
          }
         ]
        },
        {
         "data": [
          {
           "marker": {
            "color": "blue",
            "size": 8
           },
           "mode": "markers+lines",
           "name": "solution",
           "type": "scatter",
           "x": [
            0.4025360133744971,
            0.4876645619155702
           ],
           "y": [
            -0.03609722082363754,
            0.0165703970603948
           ]
          }
         ]
        },
        {
         "data": [
          {
           "marker": {
            "color": "blue",
            "size": 8
           },
           "mode": "markers+lines",
           "name": "solution",
           "type": "scatter",
           "x": [
            0.40057546594820675,
            0.4880540824889474
           ],
           "y": [
            -0.03382800740088454,
            0.014844180448220202
           ]
          }
         ]
        },
        {
         "data": [
          {
           "marker": {
            "color": "blue",
            "size": 8
           },
           "mode": "markers+lines",
           "name": "solution",
           "type": "scatter",
           "x": [
            0.39867806556692126,
            0.4883526825346498
           ],
           "y": [
            -0.03146815162190396,
            0.013036437460328924
           ]
          }
         ]
        },
        {
         "data": [
          {
           "marker": {
            "color": "blue",
            "size": 8
           },
           "mode": "markers+lines",
           "name": "solution",
           "type": "scatter",
           "x": [
            0.39685161639841376,
            0.4885515674945044
           ],
           "y": [
            -0.02902271706901753,
            0.011151607452975262
           ]
          }
         ]
        },
        {
         "data": [
          {
           "marker": {
            "color": "blue",
            "size": 8
           },
           "mode": "markers+lines",
           "name": "solution",
           "type": "scatter",
           "x": [
            0.39510357202335306,
            0.4886423379916362
           ],
           "y": [
            -0.026497697085893897,
            0.009195014891534865
           ]
          }
         ]
        },
        {
         "data": [
          {
           "marker": {
            "color": "blue",
            "size": 8
           },
           "mode": "markers+lines",
           "name": "solution",
           "type": "scatter",
           "x": [
            0.3934409208523016,
            0.4886171121746653
           ],
           "y": [
            -0.023899992738977673,
            0.007172847946732043
           ]
          }
         ]
        },
        {
         "data": [
          {
           "marker": {
            "color": "blue",
            "size": 8
           },
           "mode": "markers+lines",
           "name": "solution",
           "type": "scatter",
           "x": [
            0.3918700716189256,
            0.4884686478996494
           ],
           "y": [
            -0.021237372573137524,
            0.005092119451621642
           ]
          }
         ]
        },
        {
         "data": [
          {
           "marker": {
            "color": "blue",
            "size": 8
           },
           "mode": "markers+lines",
           "name": "solution",
           "type": "scatter",
           "x": [
            0.39039674192298374,
            0.48819046163101176
           ],
           "y": [
            -0.01851841365395548,
            0.0029606097426498022
           ]
          }
         ]
        },
        {
         "data": [
          {
           "marker": {
            "color": "blue",
            "size": 8
           },
           "mode": "markers+lines",
           "name": "solution",
           "type": "scatter",
           "x": [
            0.38902585298552605,
            0.4877769407442771
           ],
           "y": [
            -0.015752423991904824,
            0.0007867914948064582
           ]
          }
         ]
        },
        {
         "data": [
          {
           "marker": {
            "color": "blue",
            "size": 8
           },
           "mode": "markers+lines",
           "name": "solution",
           "type": "scatter",
           "x": [
            0.38776143384099576,
            0.4872234458470165
           ],
           "y": [
            -0.012949347112738516,
            -0.0014202626890511658
           ]
          }
         ]
        },
        {
         "data": [
          {
           "marker": {
            "color": "blue",
            "size": 8
           },
           "mode": "markers+lines",
           "name": "solution",
           "type": "scatter",
           "x": [
            0.3866065381061839,
            0.4865263998214067
           ],
           "y": [
            -0.010119650241249754,
            -0.00365098849283145
           ]
          }
         ]
        },
        {
         "data": [
          {
           "marker": {
            "color": "blue",
            "size": 8
           },
           "mode": "markers+lines",
           "name": "solution",
           "type": "scatter",
           "x": [
            0.38556317622255365,
            0.48568336054460925
           ],
           "y": [
            -0.007274198262340277,
            -0.005895451789104384
           ]
          }
         ]
        },
        {
         "data": [
          {
           "marker": {
            "color": "blue",
            "size": 8
           },
           "mode": "markers+lines",
           "name": "solution",
           "type": "scatter",
           "x": [
            0.38463226566580855,
            0.4846930746624977
           ],
           "y": [
            -0.004424116269720052,
            -0.008143481486687285
           ]
          }
         ]
        },
        {
         "data": [
          {
           "marker": {
            "color": "blue",
            "size": 8
           },
           "mode": "markers+lines",
           "name": "solution",
           "type": "scatter",
           "x": [
            0.38381360106691326,
            0.4835555103655584
           ],
           "y": [
            -0.0015806440636069708,
            -0.010384810050903526
           ]
          }
         ]
        },
        {
         "data": [
          {
           "marker": {
            "color": "blue",
            "size": 8
           },
           "mode": "markers+lines",
           "name": "solution",
           "type": "scatter",
           "x": [
            0.3831058455171058,
            0.4822718678170915
           ],
           "y": [
            0.001245013626650676,
            -0.012609218025215767
           ]
          }
         ]
        },
        {
         "data": [
          {
           "marker": {
            "color": "blue",
            "size": 8
           },
           "mode": "markers+lines",
           "name": "solution",
           "type": "scatter",
           "x": [
            0.38250654357221003,
            0.4808445666751839
           ],
           "y": [
            0.0040418371739367,
            -0.0148066786494757
           ]
          }
         ]
        },
        {
         "data": [
          {
           "marker": {
            "color": "blue",
            "size": 8
           },
           "mode": "markers+lines",
           "name": "solution",
           "type": "scatter",
           "x": [
            0.3820121556737265,
            0.47927721098438886
           ],
           "y": [
            0.006799138262676279,
            -0.016967498621333788
           ]
          }
         ]
        },
        {
         "data": [
          {
           "marker": {
            "color": "blue",
            "size": 8
           },
           "mode": "markers+lines",
           "name": "solution",
           "type": "scatter",
           "x": [
            0.3816181129151097,
            0.47757453253904586
           ],
           "y": [
            0.009506698341568615,
            -0.01908245118919141
           ]
          }
         ]
        },
        {
         "data": [
          {
           "marker": {
            "color": "blue",
            "size": 8
           },
           "mode": "markers+lines",
           "name": "solution",
           "type": "scatter",
           "x": [
            0.38131889035033306,
            0.4757423145864046
           ],
           "y": [
            0.01215489571396143,
            -0.021142898088252163
           ]
          }
         ]
        },
        {
         "data": [
          {
           "marker": {
            "color": "blue",
            "size": 8
           },
           "mode": "markers+lines",
           "name": "solution",
           "type": "scatter",
           "x": [
            0.3811080964122049,
            0.4737872983981808
           ],
           "y": [
            0.014734818152311816,
            -0.02314089731251313
           ]
          }
         ]
        },
        {
         "data": [
          {
           "marker": {
            "color": "blue",
            "size": 8
           },
           "mode": "markers+lines",
           "name": "solution",
           "type": "scatter",
           "x": [
            0.38097857551466996,
            0.4717170757573934
           ],
           "y": [
            0.017238358543283434,
            -0.02506929432025972
           ]
          }
         ]
        },
        {
         "data": [
          {
           "marker": {
            "color": "blue",
            "size": 8
           },
           "mode": "markers+lines",
           "name": "solution",
           "type": "scatter",
           "x": [
            0.38092252057923787,
            0.46953997075939546
           ],
           "y": [
            0.01965829177445182,
            -0.026921794956460722
           ]
          }
         ]
        },
        {
         "data": [
          {
           "marker": {
            "color": "blue",
            "size": 8
           },
           "mode": "markers+lines",
           "name": "solution",
           "type": "scatter",
           "x": [
            0.38093159206014293,
            0.4672649145019372
           ],
           "y": [
            0.021988331815367343,
            -0.028693019096835356
           ]
          }
         ]
        },
        {
         "data": [
          {
           "marker": {
            "color": "blue",
            "size": 8
           },
           "mode": "markers+lines",
           "name": "solution",
           "type": "scatter",
           "x": [
            0.3809970400422276,
            0.4649013162425676
           ],
           "y": [
            0.024223168679052033,
            -0.03037853473087281
           ]
          }
         ]
        },
        {
         "data": [
          {
           "marker": {
            "color": "blue",
            "size": 8
           },
           "mode": "markers+lines",
           "name": "solution",
           "type": "scatter",
           "x": [
            0.38110982613484456,
            0.4624589344483233
           ],
           "y": [
            0.026358485634181333,
            -0.03197487286529936
           ]
          }
         ]
        },
        {
         "data": [
          {
           "marker": {
            "color": "blue",
            "size": 8
           },
           "mode": "markers+lines",
           "name": "solution",
           "type": "scatter",
           "x": [
            0.381260742160549,
            0.45994775087726325
           ],
           "y": [
            0.028390957640553258,
            -0.03347952421378118
           ]
          }
         ]
        },
        {
         "data": [
          {
           "marker": {
            "color": "blue",
            "size": 8
           },
           "mode": "markers+lines",
           "name": "solution",
           "type": "scatter",
           "x": [
            0.3814405230097116,
            0.457377850444611
           ],
           "y": [
            0.030318232478013723,
            -0.03489091912081499
           ]
          }
         ]
        },
        {
         "data": [
          {
           "marker": {
            "color": "blue",
            "size": 8
           },
           "mode": "markers+lines",
           "name": "solution",
           "type": "scatter",
           "x": [
            0.38163995146982055,
            0.4547593091711268
           ],
           "y": [
            0.03213889641897456,
            -0.03620839253542618
           ]
          }
         ]
        },
        {
         "data": [
          {
           "marker": {
            "color": "blue",
            "size": 8
           },
           "mode": "markers+lines",
           "name": "solution",
           "type": "scatter",
           "x": [
            0.3818499533101424,
            0.4521020920202933
           ],
           "y": [
            0.033852426553735576,
            -0.03743213610032064
           ]
          }
         ]
        },
        {
         "data": [
          {
           "marker": {
            "color": "blue",
            "size": 8
           },
           "mode": "markers+lines",
           "name": "solution",
           "type": "scatter",
           "x": [
            0.3820616813804544,
            0.44941596193338273
           ],
           "y": [
            0.03545913202081133,
            -0.0385631395592326
           ]
          }
         ]
        },
        {
         "data": [
          {
           "marker": {
            "color": "blue",
            "size": 8
           },
           "mode": "markers+lines",
           "name": "solution",
           "type": "scatter",
           "x": [
            0.38226658794309465,
            0.4467104008921987
           ],
           "y": [
            0.03696008643239694,
            -0.03960312372011486
           ]
          }
         ]
        },
        {
         "data": [
          {
           "marker": {
            "color": "blue",
            "size": 8
           },
           "mode": "markers+lines",
           "name": "solution",
           "type": "scatter",
           "x": [
            0.3824564848822612,
            0.4439945433974014
           ],
           "y": [
            0.038357053733202334,
            -0.04055446715932928
           ]
          }
         ]
        },
        {
         "data": [
          {
           "marker": {
            "color": "blue",
            "size": 8
           },
           "mode": "markers+lines",
           "name": "solution",
           "type": "scatter",
           "x": [
            0.38262359181051087,
            0.44127712235919614
           ],
           "y": [
            0.03965240960660159,
            -0.041420128729091996
           ]
          }
         ]
        },
        {
         "data": [
          {
           "marker": {
            "color": "blue",
            "size": 8
           },
           "mode": "markers+lines",
           "name": "solution",
           "type": "scatter",
           "x": [
            0.3827605724121447,
            0.43856642706469423
           ],
           "y": [
            0.040849060363410336,
            -0.04220356775463617
           ]
          }
         ]
        },
        {
         "data": [
          {
           "marker": {
            "color": "blue",
            "size": 8
           },
           "mode": "markers+lines",
           "name": "solution",
           "type": "scatter",
           "x": [
            0.3828605596235577,
            0.4358702726155879
           ],
           "y": [
            0.04195036103289958,
            -0.04290866359568347
           ]
          }
         ]
        },
        {
         "data": [
          {
           "marker": {
            "color": "blue",
            "size": 8
           },
           "mode": "markers+lines",
           "name": "solution",
           "type": "scatter",
           "x": [
            0.38291717045232593,
            0.43319598002018195
           ],
           "y": [
            0.04296003413848124,
            -0.043539636014045
           ]
          }
         ]
        },
        {
         "data": [
          {
           "marker": {
            "color": "blue",
            "size": 8
           },
           "mode": "markers+lines",
           "name": "solution",
           "type": "scatter",
           "x": [
            0.38292451138324146,
            0.4305503659716425
           ],
           "y": [
            0.04388209039523044,
            -0.04410096754852248
           ]
          }
         ]
        },
        {
         "data": [
          {
           "marker": {
            "color": "blue",
            "size": 8
           },
           "mode": "markers+lines",
           "name": "solution",
           "type": "scatter",
           "x": [
            0.3828771754160632,
            0.42793974124391276
           ],
           "y": [
            0.044720752323930545,
            -0.0445973288603618
           ]
          }
         ]
        },
        {
         "data": [
          {
           "marker": {
            "color": "blue",
            "size": 8
           },
           "mode": "markers+lines",
           "name": "solution",
           "type": "scatter",
           "x": [
            0.3827702318329421,
            0.4253699165812648
           ],
           "y": [
            0.04548038154504743,
            -0.04503350778552595
           ]
          }
         ]
        },
        {
         "data": [
          {
           "marker": {
            "color": "blue",
            "size": 8
           },
           "mode": "markers+lines",
           "name": "solution",
           "type": "scatter",
           "x": [
            0.382599209810339,
            0.4228462149395614
           ],
           "y": [
            0.04616541030205269,
            -0.04541434261995703
           ]
          }
         ]
        },
        {
         "data": [
          {
           "marker": {
            "color": "blue",
            "size": 8
           },
           "mode": "markers+lines",
           "name": "solution",
           "type": "scatter",
           "x": [
            0.382360076977823,
            0.4203734889496484
           ],
           "y": [
            0.04678027757088102,
            -0.04574465997476376
           ]
          }
         ]
        },
        {
         "data": [
          {
           "marker": {
            "color": "blue",
            "size": 8
           },
           "mode": "markers+lines",
           "name": "solution",
           "type": "scatter",
           "x": [
            0.3820492139911179,
            0.4179561425089137
           ],
           "y": [
            0.04732936994337799,
            -0.046029217372217664
           ]
          }
         ]
        },
        {
         "data": [
          {
           "marker": {
            "color": "blue",
            "size": 8
           },
           "mode": "markers+lines",
           "name": "solution",
           "type": "scatter",
           "x": [
            0.38166338613526385,
            0.4155981554596098
           ],
           "y": [
            0.047816967328361076,
            -0.04627265061155643
           ]
          }
         ]
        },
        {
         "data": [
          {
           "marker": {
            "color": "blue",
            "size": 8
           },
           "mode": "markers+lines",
           "name": "solution",
           "type": "scatter",
           "x": [
            0.38119971291117527,
            0.4133031103764507
           ],
           "y": [
            0.04824719339433377,
            -0.0464794258158547
           ]
          }
         ]
        },
        {
         "data": [
          {
           "marker": {
            "color": "blue",
            "size": 8
           },
           "mode": "markers+lines",
           "name": "solution",
           "type": "scatter",
           "x": [
            0.38065563648981193,
            0.411074220556537
           ],
           "y": [
            0.04862397058217135,
            -0.04665379597688233
           ]
          }
         ]
        },
        {
         "data": [
          {
           "marker": {
            "color": "blue",
            "size": 8
           },
           "mode": "markers+lines",
           "name": "solution",
           "type": "scatter",
           "x": [
            0.38002888984645256,
            0.408914358377903
           ],
           "y": [
            0.048950979442954984,
            -0.046799761742695664
           ]
          }
         ]
        },
        {
         "data": [
          {
           "marker": {
            "color": "blue",
            "size": 8
           },
           "mode": "markers+lines",
           "name": "solution",
           "type": "scatter",
           "x": [
            0.37931746531623484,
            0.40682608326580655
           ],
           "y": [
            0.04923162200400044,
            -0.04692103614118514
           ]
          }
         ]
        },
        {
         "data": [
          {
           "marker": {
            "color": "blue",
            "size": 8
           },
           "mode": "markers+lines",
           "name": "solution",
           "type": "scatter",
           "x": [
            0.3785195842435508,
            0.4048116685759074
           ],
           "y": [
            0.049468988833312175,
            -0.04702101290028945
           ]
          }
         ]
        },
        {
         "data": [
          {
           "marker": {
            "color": "blue",
            "size": 8
           },
           "mode": "markers+lines",
           "name": "solution",
           "type": "scatter",
           "x": [
            0.377633668333778,
            0.4028731267689865
           ],
           "y": [
            0.04966582945749585,
            -0.04710273801043711
           ]
          }
         ]
        },
        {
         "data": [
          {
           "marker": {
            "color": "blue",
            "size": 8
           },
           "mode": "markers+lines",
           "name": "solution",
           "type": "scatter",
           "x": [
            0.3766583132573138,
            0.4010122323117229
           ],
           "y": [
            0.04982452578896639,
            -0.047168884175420187
           ]
          }
         ]
        },
        {
         "data": [
          {
           "marker": {
            "color": "blue",
            "size": 8
           },
           "mode": "markers+lines",
           "name": "solution",
           "type": "scatter",
           "x": [
            0.37559226500358245,
            0.39923054179168255
           ],
           "y": [
            0.049947068233622535,
            -0.0472217278129095
           ]
          }
         ]
        },
        {
         "data": [
          {
           "marker": {
            "color": "blue",
            "size": 8
           },
           "mode": "markers+lines",
           "name": "solution",
           "type": "scatter",
           "x": [
            0.3744343994367496,
            0.397529410781962
           ],
           "y": [
            0.05003503417872474,
            -0.047263128293920535
           ]
          }
         ]
        },
        {
         "data": [
          {
           "marker": {
            "color": "blue",
            "size": 8
           },
           "mode": "markers+lines",
           "name": "solution",
           "type": "scatter",
           "x": [
            0.3731837054650506,
            0.3959100070321788
           ],
           "y": [
            0.05008956860140749,
            -0.04729450915065505
           ]
          }
         ]
        },
        {
         "data": [
          {
           "marker": {
            "color": "blue",
            "size": 8
           },
           "mode": "markers+lines",
           "name": "solution",
           "type": "scatter",
           "x": [
            0.3718392722012578,
            0.39437331959840455
           ],
           "y": [
            0.050111366590157545,
            -0.047316841033369895
           ]
          }
         ]
        },
        {
         "data": [
          {
           "marker": {
            "color": "blue",
            "size": 8
           },
           "mode": "markers+lines",
           "name": "solution",
           "type": "scatter",
           "x": [
            0.3704002804618905,
            0.392920163556243
           ],
           "y": [
            0.05010065763394986,
            -0.04733062625852343
           ]
          }
         ]
        },
        {
         "data": [
          {
           "marker": {
            "color": "blue",
            "size": 8
           },
           "mode": "markers+lines",
           "name": "solution",
           "type": "scatter",
           "x": [
            0.3688659989259591,
            0.39155117996995753
           ],
           "y": [
            0.05005719160594172,
            -0.04733588486181178
           ]
          }
         ]
        },
        {
         "data": [
          {
           "marker": {
            "color": "blue",
            "size": 8
           },
           "mode": "markers+lines",
           "name": "solution",
           "type": "scatter",
           "x": [
            0.3672357852486813,
            0.3902668308180577
           ],
           "y": [
            0.04998022645017219,
            -0.047332142150311965
           ]
          }
         ]
        },
        {
         "data": [
          {
           "marker": {
            "color": "blue",
            "size": 8
           },
           "mode": "markers+lines",
           "name": "solution",
           "type": "scatter",
           "x": [
            0.3655090923997345,
            0.3890673886040984
           ],
           "y": [
            0.04986851767012811,
            -0.04731841783731263
           ]
          }
         ]
        },
        {
         "data": [
          {
           "marker": {
            "color": "blue",
            "size": 8
           },
           "mode": "markers+lines",
           "name": "solution",
           "type": "scatter",
           "x": [
            0.3636854804669372,
            0.3879529204129653
           ],
           "y": [
            0.0497203098168313,
            -0.04729321694102176
           ]
          }
         ]
        },
        {
         "data": [
          {
           "marker": {
            "color": "blue",
            "size": 8
           },
           "mode": "markers+lines",
           "name": "solution",
           "type": "scatter",
           "x": [
            0.36176463413219695,
            0.3869232662102683
           ],
           "y": [
            0.04953333028068258,
            -0.047254522733571745
           ]
          }
         ]
        },
        {
         "data": [
          {
           "marker": {
            "color": "blue",
            "size": 8
           },
           "mode": "markers+lines",
           "name": "solution",
           "type": "scatter",
           "x": [
            0.35974638598425973,
            0.38597801122859143
           ],
           "y": [
            0.04930478580488923,
            -0.04719979213877788
           ]
          }
         ]
        },
        {
         "data": [
          {
           "marker": {
            "color": "blue",
            "size": 8
           },
           "mode": "markers+lines",
           "name": "solution",
           "type": "scatter",
           "x": [
            0.35763074577909537,
            0.3851164523424891
           ],
           "y": [
            0.04903136225783157,
            -0.04712595409482887
           ]
          }
         ]
        },
        {
         "data": [
          {
           "marker": {
            "color": "blue",
            "size": 8
           },
           "mode": "markers+lines",
           "name": "solution",
           "type": "scatter",
           "x": [
            0.3554179356902658,
            0.3843375584077782
           ],
           "y": [
            0.048709228325709675,
            -0.04702941151996604
           ]
          }
         ]
        },
        {
         "data": [
          {
           "marker": {
            "color": "blue",
            "size": 8
           },
           "mode": "markers+lines",
           "name": "solution",
           "type": "scatter",
           "x": [
            0.3531084315047556,
            0.38363992463358965
           ],
           "y": [
            0.0483340439132266,
            -0.04690604764316504
           ]
          }
         ]
        },
        {
         "data": [
          {
           "marker": {
            "color": "blue",
            "size": 8
           },
           "mode": "markers+lines",
           "name": "solution",
           "type": "scatter",
           "x": [
            0.3507030096107546,
            0.38302172117170996
           ],
           "y": [
            0.04790097416619331,
            -0.046751237585108504
           ]
          }
         ]
        },
        {
         "data": [
          {
           "marker": {
            "color": "blue",
            "size": 8
           },
           "mode": "markers+lines",
           "name": "solution",
           "type": "scatter",
           "x": [
            0.34820279948897465,
            0.38248063625096623
           ],
           "y": [
            0.04740471015220176,
            -0.04655986619371974
           ]
          }
         ]
        },
        {
         "data": [
          {
           "marker": {
            "color": "blue",
            "size": 8
           },
           "mode": "markers+lines",
           "name": "solution",
           "type": "scatter",
           "x": [
            0.3456093412545289,
            0.3820138143587476
           ],
           "y": [
            0.04683949734928134,
            -0.046326353248585514
           ]
          }
         ]
        },
        {
         "data": [
          {
           "marker": {
            "color": "blue",
            "size": 8
           },
           "mode": "markers+lines",
           "name": "solution",
           "type": "scatter",
           "x": [
            0.3429246475986998,
            0.3816177901809898
           ],
           "y": [
            0.04619917319185148,
            -0.04604468724389101
           ]
          }
         ]
        },
        {
         "data": [
          {
           "marker": {
            "color": "blue",
            "size": 8
           },
           "mode": "markers+lines",
           "name": "solution",
           "type": "scatter",
           "x": [
            0.340151269246035,
            0.381288419259425
           ],
           "y": [
            0.045477215000955626,
            -0.04570846903276856
           ]
          }
         ]
        },
        {
         "data": [
          {
           "marker": {
            "color": "blue",
            "size": 8
           },
           "mode": "markers+lines",
           "name": "solution",
           "type": "scatter",
           "x": [
            0.33729236276986313,
            0.38102080661322446
           ],
           "y": [
            0.04466679967264037,
            -0.04531096665834838
           ]
          }
         ]
        },
        {
         "data": [
          {
           "marker": {
            "color": "blue",
            "size": 8
           },
           "mode": "markers+lines",
           "name": "solution",
           "type": "scatter",
           "x": [
            0.3343517592974069,
            0.380809234902784
           ],
           "y": [
            0.04376087650341036,
            -0.044845182697593224
           ]
          }
         ]
        },
        {
         "data": [
          {
           "marker": {
            "color": "blue",
            "size": 8
           },
           "mode": "markers+lines",
           "name": "solution",
           "type": "scatter",
           "x": [
            0.33133403228480596,
            0.38064709408602976
           ],
           "y": [
            0.04275225448175004,
            -0.04430393539048397
           ]
          }
         ]
        },
        {
         "data": [
          {
           "marker": {
            "color": "blue",
            "size": 8
           },
           "mode": "markers+lines",
           "name": "solution",
           "type": "scatter",
           "x": [
            0.32824456215557624,
            0.3805268149294545
           ],
           "y": [
            0.041633705254226314,
            -0.04367995470445671
           ]
          }
         ]
        },
        {
         "data": [
          {
           "marker": {
            "color": "blue",
            "size": 8
           },
           "mode": "markers+lines",
           "name": "solution",
           "type": "scatter",
           "x": [
            0.32508959517970626,
            0.38043980918086084
           ],
           "y": [
            0.04039808276575846,
            -0.04296599427519842
           ]
          }
         ]
        },
        {
         "data": [
          {
           "marker": {
            "color": "blue",
            "size": 8
           },
           "mode": "markers+lines",
           "name": "solution",
           "type": "scatter",
           "x": [
            0.321876293535602,
            0.3803764196774458
           ],
           "y": [
            0.03903846025613645,
            -0.0421549598510936
           ]
          }
         ]
        },
        {
         "data": [
          {
           "marker": {
            "color": "blue",
            "size": 8
           },
           "mode": "markers+lines",
           "name": "solution",
           "type": "scatter",
           "x": [
            0.31861277306023494,
            0.38032588413408186
           ],
           "y": [
            0.03754828484698829,
            -0.04124005442953319
           ]
          }
         ]
        },
        {
         "data": [
          {
           "marker": {
            "color": "blue",
            "size": 8
           },
           "mode": "markers+lines",
           "name": "solution",
           "type": "scatter",
           "x": [
            0.31530812477847825,
            0.38027631680697754
           ],
           "y": [
            0.03592154935276793,
            -0.04021493968845052
           ]
          }
         ]
        },
        {
         "data": [
          {
           "marker": {
            "color": "blue",
            "size": 8
           },
           "mode": "markers+lines",
           "name": "solution",
           "type": "scatter",
           "x": [
            0.3119724159444222,
            0.38021471262177486
           ],
           "y": [
            0.03415298017493897,
            -0.03907391256696595
           ]
          }
         ]
        },
        {
         "data": [
          {
           "marker": {
            "color": "blue",
            "size": 8
           },
           "mode": "markers+lines",
           "name": "solution",
           "type": "scatter",
           "x": [
            0.3086166660701613,
            0.3801269786449735
           ],
           "y": [
            0.03223823917375848,
            -0.037812094920597505
           ]
          }
         ]
        },
        {
         "data": [
          {
           "marker": {
            "color": "blue",
            "size": 8
           },
           "mode": "markers+lines",
           "name": "solution",
           "type": "scatter",
           "x": [
            0.30525279331806404,
            0.37999799790231886
           ],
           "y": [
            0.030174136249226546,
            -0.03642563306366411
           ]
          }
         ]
        },
        {
         "data": [
          {
           "marker": {
            "color": "blue",
            "size": 8
           },
           "mode": "markers+lines",
           "name": "solution",
           "type": "scatter",
           "x": [
            0.30189352676011794,
            0.37981173043266864
           ],
           "y": [
            0.02795884800924084,
            -0.03491190272344692
           ]
          }
         ]
        },
        {
         "data": [
          {
           "marker": {
            "color": "blue",
            "size": 8
           },
           "mode": "markers+lines",
           "name": "solution",
           "type": "scatter",
           "x": [
            0.2985522804421952,
            0.3795513560242136
           ],
           "y": [
            0.025592136389069386,
            -0.03326971349850452
           ]
          }
         ]
        },
        {
         "data": [
          {
           "marker": {
            "color": "blue",
            "size": 8
           },
           "mode": "markers+lines",
           "name": "solution",
           "type": "scatter",
           "x": [
            0.29524298601696597,
            0.37919946221843737
           ],
           "y": [
            0.0230755594741446,
            -0.031499505398660255
           ]
          }
         ]
        },
        {
         "data": [
          {
           "marker": {
            "color": "blue",
            "size": 8
           },
           "mode": "markers+lines",
           "name": "solution",
           "type": "scatter",
           "x": [
            0.2919798820076096,
            0.3787382797957552
           ],
           "y": [
            0.02041266517110309,
            -0.029603528546531633
           ]
          }
         ]
        },
        {
         "data": [
          {
           "marker": {
            "color": "blue",
            "size": 8
           },
           "mode": "markers+lines",
           "name": "solution",
           "type": "scatter",
           "x": [
            0.2887772595976752,
            0.37814996600412987
           ],
           "y": [
            0.017609156921114512,
            -0.027585995784641586
           ]
          }
         ]
        },
        {
         "data": [
          {
           "marker": {
            "color": "blue",
            "size": 8
           },
           "mode": "markers+lines",
           "name": "solution",
           "type": "scatter",
           "x": [
            0.2856491672338908,
            0.3774169332274645
           ],
           "y": [
            0.014673019555603071,
            -0.02545319694836177
           ]
          }
         ]
        },
        {
         "data": [
          {
           "marker": {
            "color": "blue",
            "size": 8
           },
           "mode": "markers+lines",
           "name": "solution",
           "type": "scatter",
           "x": [
            0.28260907923897516,
            0.3765222176504583
           ],
           "y": [
            0.01161459289997621,
            -0.02321356316104718
           ]
          }
         ]
        },
        {
         "data": [
          {
           "marker": {
            "color": "blue",
            "size": 8
           },
           "mode": "markers+lines",
           "name": "solution",
           "type": "scatter",
           "x": [
            0.2796695369336817,
            0.3754498788912268
           ],
           "y": [
            0.008446581098808834,
            -0.020877669928474715
           ]
          }
         ]
        },
        {
         "data": [
          {
           "marker": {
            "color": "blue",
            "size": 8
           },
           "mode": "markers+lines",
           "name": "solution",
           "type": "scatter",
           "x": [
            0.276841774228486,
            0.3741854177879005
           ],
           "y": [
            0.0051839871115710616,
            -0.018458169280786075
           ]
          }
         ]
        },
        {
         "data": [
          {
           "marker": {
            "color": "blue",
            "size": 8
           },
           "mode": "markers+lines",
           "name": "solution",
           "type": "scatter",
           "x": [
            0.27413534292265507,
            0.3727161959071911
           ],
           "y": [
            0.0018439645862702034,
            -0.015969643888075594
           ]
          }
         ]
        },
        {
         "data": [
          {
           "marker": {
            "color": "blue",
            "size": 8
           },
           "mode": "markers+lines",
           "name": "solution",
           "type": "scatter",
           "x": [
            0.2715577556088996,
            0.371031837359335
           ],
           "y": [
            -0.0015544165987235472,
            -0.013428379989958512
           ]
          }
         ]
        },
        {
         "data": [
          {
           "marker": {
            "color": "blue",
            "size": 8
           },
           "mode": "markers+lines",
           "name": "solution",
           "type": "scatter",
           "x": [
            0.2691141656521985,
            0.3691245916714214
           ],
           "y": [
            -0.0049904895755439604,
            -0.010852060979136647
           ]
          }
         ]
        },
        {
         "data": [
          {
           "marker": {
            "color": "blue",
            "size": 8
           },
           "mode": "markers+lines",
           "name": "solution",
           "type": "scatter",
           "x": [
            0.26680710375742184,
            0.3669896362702479
           ],
           "y": [
            -0.008442386900173397,
            -0.008259389202715909
           ]
          }
         ]
        },
        {
         "data": [
          {
           "marker": {
            "color": "blue",
            "size": 8
           },
           "mode": "markers+lines",
           "name": "solution",
           "type": "scatter",
           "x": [
            0.2646362888638946,
            0.36462529889511214
           ],
           "y": [
            -0.011887500254962165,
            -0.0056696494309080745
           ]
          }
         ]
        },
        {
         "data": [
          {
           "marker": {
            "color": "blue",
            "size": 8
           },
           "mode": "markers+lines",
           "name": "solution",
           "type": "scatter",
           "x": [
            0.26259852743675305,
            0.3620331840946136
           ],
           "y": [
            -0.015302983814538283,
            -0.0031022327905586783
           ]
          }
         ]
        },
        {
         "data": [
          {
           "marker": {
            "color": "blue",
            "size": 8
           },
           "mode": "markers+lines",
           "name": "solution",
           "type": "scatter",
           "x": [
            0.26068770988440737,
            0.35921819364118956
           ],
           "y": [
            -0.018666277215027314,
            -0.00057614404353297
           ]
          }
         ]
        },
        {
         "data": [
          {
           "marker": {
            "color": "blue",
            "size": 8
           },
           "mode": "markers+lines",
           "name": "solution",
           "type": "scatter",
           "x": [
            0.2588949063286363,
            0.3561884376857244
           ],
           "y": [
            -0.021955621603928426,
            0.0018904827069754905
           ]
          }
         ]
        },
        {
         "data": [
          {
           "marker": {
            "color": "blue",
            "size": 8
           },
           "mode": "markers+lines",
           "name": "solution",
           "type": "scatter",
           "x": [
            0.25720855702142,
            0.3529550409863072
           ],
           "y": [
            -0.02515054216347945,
            0.004280834844323641
           ]
          }
         ]
        },
        {
         "data": [
          {
           "marker": {
            "color": "blue",
            "size": 8
           },
           "mode": "markers+lines",
           "name": "solution",
           "type": "scatter",
           "x": [
            0.2556147461689566,
            0.34953185568082773
           ],
           "y": [
            -0.028232272847500774,
            0.006579815891786609
           ]
          }
         ]
        },
        {
         "data": [
          {
           "marker": {
            "color": "blue",
            "size": 8
           },
           "mode": "markers+lines",
           "name": "solution",
           "type": "scatter",
           "x": [
            0.2540975425579768,
            0.3459350979878453
           ],
           "y": [
            -0.031184103533902316,
            0.008774365585253827
           ]
          }
         ]
        },
        {
         "data": [
          {
           "marker": {
            "color": "blue",
            "size": 8
           },
           "mode": "markers+lines",
           "name": "solution",
           "type": "scatter",
           "x": [
            0.2526393867525866,
            0.3421829302789196
           ],
           "y": [
            -0.03399163575232257,
            0.010853692642933843
           ]
          }
         ]
        },
        {
         "data": [
          {
           "marker": {
            "color": "blue",
            "size": 8
           },
           "mode": "markers+lines",
           "name": "solution",
           "type": "scatter",
           "x": [
            0.2512215030224162,
            0.33829501184420524
           ],
           "y": [
            -0.036642939806461244,
            0.012809413825610924
           ]
          }
         ]
        },
        {
         "data": [
          {
           "marker": {
            "color": "blue",
            "size": 8
           },
           "mode": "markers+lines",
           "name": "solution",
           "type": "scatter",
           "x": [
            0.2498243145470382,
            0.3342920413838487
           ],
           "y": [
            -0.03912861266508567,
            0.014635599068891647
           ]
          }
         ]
        },
        {
         "data": [
          {
           "marker": {
            "color": "blue",
            "size": 8
           },
           "mode": "markers+lines",
           "name": "solution",
           "type": "scatter",
           "x": [
            0.24842784252765973,
            0.3301953121016427
           ],
           "y": [
            -0.04144174175891494,
            0.016328727887756883
           ]
          }
         ]
        },
        {
         "data": [
          {
           "marker": {
            "color": "blue",
            "size": 8
           },
           "mode": "markers+lines",
           "name": "solution",
           "type": "scatter",
           "x": [
            0.2470120731642212,
            0.32602629674685735
           ],
           "y": [
            -0.04357778432148935,
            0.017887566465897772
           ]
          }
         ]
        },
        {
         "data": [
          {
           "marker": {
            "color": "blue",
            "size": 8
           },
           "mode": "markers+lines",
           "name": "solution",
           "type": "scatter",
           "x": [
            0.24555728049809544,
            0.3218062756139868
           ],
           "y": [
            -0.045534374926088875,
            0.019312977642201103
           ]
          }
         ]
        },
        {
         "data": [
          {
           "marker": {
            "color": "blue",
            "size": 8
           },
           "mode": "markers+lines",
           "name": "solution",
           "type": "scatter",
           "x": [
            0.24404429737931263,
            0.31755601591077726
           ],
           "y": [
            -0.04731107539921179,
            0.02060767740076899
           ]
          }
         ]
        },
        {
         "data": [
          {
           "marker": {
            "color": "blue",
            "size": 8
           },
           "mode": "markers+lines",
           "name": "solution",
           "type": "scatter",
           "x": [
            0.2424547308870331,
            0.31329550648631677
           ],
           "y": [
            -0.04890908150679387,
            0.021775951625454454
           ]
          }
         ]
        },
        {
         "data": [
          {
           "marker": {
            "color": "blue",
            "size": 8
           },
           "mode": "markers+lines",
           "name": "solution",
           "type": "scatter",
           "x": [
            0.24077112213115107,
            0.30904374798305134
           ],
           "y": [
            -0.05033089998829362,
            0.02282334605760612
           ]
          }
         ]
        },
        {
         "data": [
          {
           "marker": {
            "color": "blue",
            "size": 8
           },
           "mode": "markers+lines",
           "name": "solution",
           "type": "scatter",
           "x": [
            0.2389770533359356,
            0.3048185952114858
           ],
           "y": [
            -0.05158000797151566,
            0.02375634089533223
           ]
          }
         ]
        },
        {
         "data": [
          {
           "marker": {
            "color": "blue",
            "size": 8
           },
           "mode": "markers+lines",
           "name": "solution",
           "type": "scatter",
           "x": [
            0.2370572074065957,
            0.300636645996927
           ],
           "y": [
            -0.05266050484338259,
            0.02458201958315664
           ]
          }
         ]
        },
        {
         "data": [
          {
           "marker": {
            "color": "blue",
            "size": 8
           },
           "mode": "markers+lines",
           "name": "solution",
           "type": "scatter",
           "x": [
            0.23499738684068197,
            0.2965131688773524
           ],
           "y": [
            -0.053576764543924245,
            0.02530773931289528
           ]
          }
         ]
        },
        {
         "data": [
          {
           "marker": {
            "color": "blue",
            "size": 8
           },
           "mode": "markers+lines",
           "name": "solution",
           "type": "scatter",
           "x": [
            0.2327844999538927,
            0.29246206074630116
           ],
           "y": [
            -0.05433309420302435,
            0.025940808788808632
           ]
          }
         ]
        },
        {
         "data": [
          {
           "marker": {
            "color": "blue",
            "size": 8
           },
           "mode": "markers+lines",
           "name": "solution",
           "type": "scatter",
           "x": [
            0.23040652305495135,
            0.28849582471161944
           ],
           "y": [
            -0.05493340320682636,
            0.026488177049051643
           ]
          }
         ]
        },
        {
         "data": [
          {
           "marker": {
            "color": "blue",
            "size": 8
           },
           "mode": "markers+lines",
           "name": "solution",
           "type": "scatter",
           "x": [
            0.2278524475422988,
            0.28462555795020095
           ],
           "y": [
            -0.055380885269754876,
            0.026956135682091528
           ]
          }
         ]
        },
        {
         "data": [
          {
           "marker": {
            "color": "blue",
            "size": 8
           },
           "mode": "markers+lines",
           "name": "solution",
           "type": "scatter",
           "x": [
            0.22511222101220238,
            0.28086093905936055
           ],
           "y": [
            -0.05567771496874385,
            0.0273500356972754
           ]
          }
         ]
        },
        {
         "data": [
          {
           "marker": {
            "color": "blue",
            "size": 8
           },
           "mode": "markers+lines",
           "name": "solution",
           "type": "scatter",
           "x": [
            0.22217669145040744,
            0.27721020423391746
           ],
           "y": [
            -0.055824759514421944,
            0.02767401964627062
           ]
          }
         ]
        },
        {
         "data": [
          {
           "marker": {
            "color": "blue",
            "size": 8
           },
           "mode": "markers+lines",
           "name": "solution",
           "type": "scatter",
           "x": [
            0.21903756349017775,
            0.27368010145409905
           ],
           "y": [
            -0.05582130632387092,
            0.027930769377811873
           ]
          }
         ]
        },
        {
         "data": [
          {
           "marker": {
            "color": "blue",
            "size": 8
           },
           "mode": "markers+lines",
           "name": "solution",
           "type": "scatter",
           "x": [
            0.21568737559346957,
            0.2702758116977793
           ],
           "y": [
            -0.0556648072543678,
            0.028121270070552186
           ]
          }
         ]
        },
        {
         "data": [
          {
           "marker": {
            "color": "blue",
            "size": 8
           },
           "mode": "markers+lines",
           "name": "solution",
           "type": "scatter",
           "x": [
            0.21211950685407524,
            0.26700082596219854
           ],
           "y": [
            -0.05535064119895533,
            0.02824459196124878
           ]
          }
         ]
        },
        {
         "data": [
          {
           "marker": {
            "color": "blue",
            "size": 8
           },
           "mode": "markers+lines",
           "name": "solution",
           "type": "scatter",
           "x": [
            0.2083282219039502,
            0.26385676659329765
           ],
           "y": [
            -0.05487189819162773,
            0.028297692512497617
           ]
          }
         ]
        },
        {
         "data": [
          {
           "marker": {
            "color": "blue",
            "size": 8
           },
           "mode": "markers+lines",
           "name": "solution",
           "type": "scatter",
           "x": [
            0.20430876206100756,
            0.26084314110327905
           ],
           "y": [
            -0.054219190307338995,
            0.028275243706552874
           ]
          }
         ]
        },
        {
         "data": [
          {
           "marker": {
            "color": "blue",
            "size": 8
           },
           "mode": "markers+lines",
           "name": "solution",
           "type": "scatter",
           "x": [
            0.20005749027701122,
            0.25795701637326207
           ],
           "y": [
            -0.053380497591576016,
            0.028169491791632233
           ]
          }
         ]
        },
        {
         "data": [
          {
           "marker": {
            "color": "blue",
            "size": 8
           },
           "mode": "markers+lines",
           "name": "solution",
           "type": "scatter",
           "x": [
            0.19557209645685678,
            0.2551926010005919
           ],
           "y": [
            -0.05234106118802649,
            0.02797016025376302
           ]
          }
         ]
        },
        {
         "data": [
          {
           "marker": {
            "color": "blue",
            "size": 8
           },
           "mode": "markers+lines",
           "name": "solution",
           "type": "scatter",
           "x": [
            0.19085186807218557,
            0.25254072374330944
           ],
           "y": [
            -0.051083340992218264,
            0.027664411183334545
           ]
          }
         ]
        },
        {
         "data": [
          {
           "marker": {
            "color": "blue",
            "size": 8
           },
           "mode": "markers+lines",
           "name": "solution",
           "type": "scatter",
           "x": [
            0.18589802830981544,
            0.24998819683344817
           ],
           "y": [
            -0.04958706187876692,
            0.027236885733198674
           ]
          }
         ]
        },
        {
         "data": [
          {
           "marker": {
            "color": "blue",
            "size": 8
           },
           "mode": "markers+lines",
           "name": "solution",
           "type": "scatter",
           "x": [
            0.18071413972537642,
            0.24751705485576395
           ],
           "y": [
            -0.04782938128688502,
            0.026669851247360703
           ]
          }
         ]
        },
        {
         "data": [
          {
           "marker": {
            "color": "blue",
            "size": 8
           },
           "mode": "markers+lines",
           "name": "solution",
           "type": "scatter",
           "x": [
            0.1753065646849998,
            0.245103663704053
           ],
           "y": [
            -0.0457852223064175,
            0.02594349112545504
           ]
          }
         ]
        },
        {
         "data": [
          {
           "marker": {
            "color": "blue",
            "size": 8
           },
           "mode": "markers+lines",
           "name": "solution",
           "type": "scatter",
           "x": [
            0.16968496352062548,
            0.2427177011238074
           ],
           "y": [
            -0.043427831132549236,
            0.025036383798667995
           ]
          }
         ]
        },
        {
         "data": [
          {
           "marker": {
            "color": "blue",
            "size": 8
           },
           "mode": "markers+lines",
           "name": "solution",
           "type": "scatter",
           "x": [
            0.16386279541328586,
            0.24032102263990407
           ],
           "y": [
            -0.04072963666062419,
            0.02392622936918352
           ]
          }
         ]
        },
        {
         "data": [
          {
           "marker": {
            "color": "blue",
            "size": 8
           },
           "mode": "markers+lines",
           "name": "solution",
           "type": "scatter",
           "x": [
            0.1578577627706071,
            0.23786644765212295
           ],
           "y": [
            -0.037663513663050575,
            0.022590896022924113
           ]
          }
         ]
        },
        {
         "data": [
          {
           "marker": {
            "color": "blue",
            "size": 8
           },
           "mode": "markers+lines",
           "name": "solution",
           "type": "scatter",
           "x": [
            0.15169210334140337,
            0.2352965354575023
           ],
           "y": [
            -0.034204579084437664,
            0.02100987151845799
           ]
          }
         ]
        },
        {
         "data": [
          {
           "marker": {
            "color": "blue",
            "size": 8
           },
           "mode": "markers+lines",
           "name": "solution",
           "type": "scatter",
           "x": [
            0.1453925804043925,
            0.23254247770693912
           ],
           "y": [
            -0.030332680650603853,
            0.019166213441202423
           ]
          }
         ]
        },
        {
         "data": [
          {
           "marker": {
            "color": "blue",
            "size": 8
           },
           "mode": "markers+lines",
           "name": "solution",
           "type": "scatter",
           "x": [
            0.13898994464309408,
            0.22952332254573013
           ],
           "y": [
            -0.026035759692896315,
            0.017049085792507537
           ]
          }
         ]
        },
        {
         "data": [
          {
           "marker": {
            "color": "blue",
            "size": 8
           },
           "mode": "markers+lines",
           "name": "solution",
           "type": "scatter",
           "x": [
            0.1325175390565321,
            0.22614587680231918
           ],
           "y": [
            -0.02131426612623884,
            0.014656929915936992
           ]
          }
         ]
        },
        {
         "data": [
          {
           "marker": {
            "color": "blue",
            "size": 8
           },
           "mode": "markers+lines",
           "name": "solution",
           "type": "scatter",
           "x": [
            0.12600859821713492,
            0.22230580849999929
           ],
           "y": [
            -0.016186734025266946,
            0.012001211899661314
           ]
          }
         ]
        },
        {
         "data": [
          {
           "marker": {
            "color": "blue",
            "size": 8
           },
           "mode": "markers+lines",
           "name": "solution",
           "type": "scatter",
           "x": [
            0.11949168939080958,
            0.21789066698099896
           ],
           "y": [
            -0.010696426702636114,
            0.009110468647946922
           ]
          }
         ]
        },
        {
         "data": [
          {
           "marker": {
            "color": "blue",
            "size": 8
           },
           "mode": "markers+lines",
           "name": "solution",
           "type": "scatter",
           "x": [
            0.11298373987724322,
            0.21278565988999115
           ],
           "y": [
            -0.0049185502709587665,
            0.006033993340927962
           ]
          }
         ]
        },
        {
         "data": [
          {
           "marker": {
            "color": "blue",
            "size": 8
           },
           "mode": "markers+lines",
           "name": "solution",
           "type": "scatter",
           "x": [
            0.10648034459781085,
            0.20688286842811368
           ],
           "y": [
            0.0010331204355505507,
            0.0028439672332074765
           ]
          }
         ]
        },
        {
         "data": [
          {
           "marker": {
            "color": "blue",
            "size": 8
           },
           "mode": "markers+lines",
           "name": "solution",
           "type": "scatter",
           "x": [
            0.09994372813871047,
            0.2000938243531976
           ],
           "y": [
            0.007002090561311321,
            -0.00036565672076084013
           ]
          }
         ]
        },
        {
         "data": [
          {
           "marker": {
            "color": "blue",
            "size": 8
           },
           "mode": "markers+lines",
           "name": "solution",
           "type": "scatter",
           "x": [
            0.09328985574533695,
            0.19236376953114254
           ],
           "y": [
            0.012789561690026287,
            -0.0034851954416066024
           ]
          }
         ]
        },
        {
         "data": [
          {
           "marker": {
            "color": "blue",
            "size": 8
           },
           "mode": "markers+lines",
           "name": "solution",
           "type": "scatter",
           "x": [
            0.08637723714685949,
            0.18368377939743724
           ],
           "y": [
            0.01816014740312268,
            -0.006400662845456196
           ]
          }
         ]
        },
        {
         "data": [
          {
           "marker": {
            "color": "blue",
            "size": 8
           },
           "mode": "markers+lines",
           "name": "solution",
           "type": "scatter",
           "x": [
            0.07899975841846235,
            0.1740955125953538
           ],
           "y": [
            0.022849886053963327,
            -0.00900840805792573
           ]
          }
         ]
        },
        {
         "data": [
          {
           "marker": {
            "color": "blue",
            "size": 8
           },
           "mode": "markers+lines",
           "name": "solution",
           "type": "scatter",
           "x": [
            0.07088323078948498,
            0.16368413462891443
           ],
           "y": [
            0.02656797090291424,
            -0.011227826121156897
           ]
          }
         ]
        },
        {
         "data": [
          {
           "marker": {
            "color": "blue",
            "size": 8
           },
           "mode": "markers+lines",
           "name": "solution",
           "type": "scatter",
           "x": [
            0.061680312336944924,
            0.15255749847222044
           ],
           "y": [
            0.02897739572853736,
            -0.01300565994034993
           ]
          }
         ]
        },
        {
         "data": [
          {
           "marker": {
            "color": "blue",
            "size": 8
           },
           "mode": "markers+lines",
           "name": "solution",
           "type": "scatter",
           "x": [
            0.05095196532196089,
            0.14081004190321672
           ],
           "y": [
            0.029629954127470572,
            -0.014306145657317963
           ]
          }
         ]
        },
        {
         "data": [
          {
           "marker": {
            "color": "blue",
            "size": 8
           },
           "mode": "markers+lines",
           "name": "solution",
           "type": "scatter",
           "x": [
            0.03811539084876973,
            0.1284615966359496
           ],
           "y": [
            0.027801113776534665,
            -0.015081384240098021
           ]
          }
         ]
        },
        {
         "data": [
          {
           "marker": {
            "color": "blue",
            "size": 8
           },
           "mode": "markers+lines",
           "name": "solution",
           "type": "scatter",
           "x": [
            0.02236074216343758,
            0.11534694501581537
           ],
           "y": [
            0.022088795514772674,
            -0.015215877762755717
           ]
          }
         ]
        },
        {
         "data": [
          {
           "marker": {
            "color": "blue",
            "size": 8
           },
           "mode": "markers+lines",
           "name": "solution",
           "type": "scatter",
           "x": [
            0.00432399576874164,
            0.10162252112023423
           ],
           "y": [
            0.011382147778081763,
            -0.014662657682840275
           ]
          }
         ]
        },
        {
         "data": [
          {
           "marker": {
            "color": "blue",
            "size": 8
           },
           "mode": "markers+lines",
           "name": "solution",
           "type": "scatter",
           "x": [
            0.0031873536274540284,
            0.09783793307988974
           ],
           "y": [
            0.016925442271351242,
            -0.016219083096941866
           ]
          }
         ]
        },
        {
         "data": [
          {
           "marker": {
            "color": "blue",
            "size": 8
           },
           "mode": "markers+lines",
           "name": "solution",
           "type": "scatter",
           "x": [
            0.005881001975232997,
            0.09800535713754767
           ],
           "y": [
            0.020497710328742338,
            -0.018997211429812373
           ]
          }
         ]
        },
        {
         "data": [
          {
           "marker": {
            "color": "blue",
            "size": 8
           },
           "mode": "markers+lines",
           "name": "solution",
           "type": "scatter",
           "x": [
            0.00671104721446562,
            0.09779852253408
           ],
           "y": [
            0.019688476226898417,
            -0.021633625140629692
           ]
          }
         ]
        },
        {
         "data": [
          {
           "marker": {
            "color": "blue",
            "size": 8
           },
           "mode": "markers+lines",
           "name": "solution",
           "type": "scatter",
           "x": [
            0.007102077868252008,
            0.09810752660192876
           ],
           "y": [
            0.01719569032156784,
            -0.024253794108762897
           ]
          }
         ]
        },
        {
         "data": [
          {
           "marker": {
            "color": "blue",
            "size": 8
           },
           "mode": "markers+lines",
           "name": "solution",
           "type": "scatter",
           "x": [
            0.008808800909846783,
            0.09879010180580779
           ],
           "y": [
            0.016901644670388606,
            -0.026795884200390956
           ]
          }
         ]
        },
        {
         "data": [
          {
           "marker": {
            "color": "blue",
            "size": 8
           },
           "mode": "markers+lines",
           "name": "solution",
           "type": "scatter",
           "x": [
            0.01072403712767691,
            0.0999534257962055
           ],
           "y": [
            0.016064257170226273,
            -0.029111365960622484
           ]
          }
         ]
        },
        {
         "data": [
          {
           "marker": {
            "color": "blue",
            "size": 8
           },
           "mode": "markers+lines",
           "name": "solution",
           "type": "scatter",
           "x": [
            0.01286736883352999,
            0.10196989869368639
           ],
           "y": [
            0.01419203757806369,
            -0.03120323539180382
           ]
          }
         ]
        },
        {
         "data": [
          {
           "marker": {
            "color": "blue",
            "size": 8
           },
           "mode": "markers+lines",
           "name": "solution",
           "type": "scatter",
           "x": [
            0.0154526051619964,
            0.10533432210597612
           ],
           "y": [
            0.010841500240495006,
            -0.03302287269109095
           ]
          }
         ]
        },
        {
         "data": [
          {
           "marker": {
            "color": "blue",
            "size": 8
           },
           "mode": "markers+lines",
           "name": "solution",
           "type": "scatter",
           "x": [
            0.01778080169224408,
            0.11024865148126921
           ],
           "y": [
            0.004411241867541017,
            -0.034119004860838416
           ]
          }
         ]
        },
        {
         "data": [
          {
           "marker": {
            "color": "blue",
            "size": 8
           },
           "mode": "markers+lines",
           "name": "solution",
           "type": "scatter",
           "x": [
            0.016494820909508084,
            0.11352991451400857
           ],
           "y": [
            -0.005679167223837384,
            -0.032791138135930216
           ]
          }
         ]
        },
        {
         "data": [
          {
           "marker": {
            "color": "blue",
            "size": 8
           },
           "mode": "markers+lines",
           "name": "solution",
           "type": "scatter",
           "x": [
            0.012856833808617085,
            0.11096078863978717
           ],
           "y": [
            -0.009431310563538957,
            -0.02992854543030309
           ]
          }
         ]
        },
        {
         "data": [
          {
           "marker": {
            "color": "blue",
            "size": 8
           },
           "mode": "markers+lines",
           "name": "solution",
           "type": "scatter",
           "x": [
            0.012957394546329262,
            0.11082884263107289
           ],
           "y": [
            -0.008429861971879173,
            -0.028940861798661253
           ]
          }
         ]
        },
        {
         "data": [
          {
           "marker": {
            "color": "blue",
            "size": 8
           },
           "mode": "markers+lines",
           "name": "solution",
           "type": "scatter",
           "x": [
            0.014429011358272754,
            0.11191997362512668
           ],
           "y": [
            -0.006259525350999528,
            -0.028585214426580168
           ]
          }
         ]
        },
        {
         "data": [
          {
           "marker": {
            "color": "blue",
            "size": 8
           },
           "mode": "markers+lines",
           "name": "solution",
           "type": "scatter",
           "x": [
            0.0148986345792108,
            0.11212305161891852
           ],
           "y": [
            -0.004344581069910199,
            -0.027757786789084322
           ]
          }
         ]
        },
        {
         "data": [
          {
           "marker": {
            "color": "blue",
            "size": 8
           },
           "mode": "markers+lines",
           "name": "solution",
           "type": "scatter",
           "x": [
            0.014924770004319918,
            0.11226985913989025
           ],
           "y": [
            -0.0034626045079564505,
            -0.026347418696598
           ]
          }
         ]
        },
        {
         "data": [
          {
           "marker": {
            "color": "blue",
            "size": 8
           },
           "mode": "markers+lines",
           "name": "solution",
           "type": "scatter",
           "x": [
            0.015012029098137784,
            0.11274439320346628
           ],
           "y": [
            -0.0032004822038258773,
            -0.024431335374388467
           ]
          }
         ]
        },
        {
         "data": [
          {
           "marker": {
            "color": "blue",
            "size": 8
           },
           "mode": "markers+lines",
           "name": "solution",
           "type": "scatter",
           "x": [
            0.01510376634353827,
            0.1133052497849507
           ],
           "y": [
            -0.0030378471383069577,
            -0.02204144077035791
           ]
          }
         ]
        },
        {
         "data": [
          {
           "marker": {
            "color": "blue",
            "size": 8
           },
           "mode": "markers+lines",
           "name": "solution",
           "type": "scatter",
           "x": [
            0.01516213485239062,
            0.11382778746057741
           ],
           "y": [
            -0.002781846534530755,
            -0.019250648230896762
           ]
          }
         ]
        },
        {
         "data": [
          {
           "marker": {
            "color": "blue",
            "size": 8
           },
           "mode": "markers+lines",
           "name": "solution",
           "type": "scatter",
           "x": [
            0.015218645168150068,
            0.11431007111199651
           ],
           "y": [
            -0.002427593347923842,
            -0.016143947957910156
           ]
          }
         ]
        },
        {
         "data": [
          {
           "marker": {
            "color": "blue",
            "size": 8
           },
           "mode": "markers+lines",
           "name": "solution",
           "type": "scatter",
           "x": [
            0.015283384590360055,
            0.11474084408168507
           ],
           "y": [
            -0.0020096172533609767,
            -0.01279885421281015
           ]
          }
         ]
        },
        {
         "data": [
          {
           "marker": {
            "color": "blue",
            "size": 8
           },
           "mode": "markers+lines",
           "name": "solution",
           "type": "scatter",
           "x": [
            0.01534283024172007,
            0.11508772088163073
           ],
           "y": [
            -0.0015545953451167366,
            -0.009290998875586738
           ]
          }
         ]
        },
        {
         "data": [
          {
           "marker": {
            "color": "blue",
            "size": 8
           },
           "mode": "markers+lines",
           "name": "solution",
           "type": "scatter",
           "x": [
            0.015387194293854317,
            0.11532679917200046
           ],
           "y": [
            -0.0010798822049997853,
            -0.005698221614571172
           ]
          }
         ]
        },
        {
         "data": [
          {
           "marker": {
            "color": "blue",
            "size": 8
           },
           "mode": "markers+lines",
           "name": "solution",
           "type": "scatter",
           "x": [
            0.015414705778430878,
            0.11544956556436894
           ],
           "y": [
            -0.0005981835584550931,
            -0.0020985762336894575
           ]
          }
         ]
        },
        {
         "data": [
          {
           "marker": {
            "color": "blue",
            "size": 8
           },
           "mode": "markers+lines",
           "name": "solution",
           "type": "scatter",
           "x": [
            0.015425791248308984,
            0.11545780606942259
           ],
           "y": [
            -0.0001200045944398695,
            0.0014326565370143748
           ]
          }
         ]
        },
        {
         "data": [
          {
           "marker": {
            "color": "blue",
            "size": 8
           },
           "mode": "markers+lines",
           "name": "solution",
           "type": "scatter",
           "x": [
            0.01542105396848511,
            0.11536103718544431
           ],
           "y": [
            0.0003452131442958487,
            0.004825344456985174
           ]
          }
         ]
        },
        {
         "data": [
          {
           "marker": {
            "color": "blue",
            "size": 8
           },
           "mode": "markers+lines",
           "name": "solution",
           "type": "scatter",
           "x": [
            0.01540202460870499,
            0.11517592220923709
           ],
           "y": [
            0.0007887202939588281,
            0.008016323566367537
           ]
          }
         ]
        },
        {
         "data": [
          {
           "marker": {
            "color": "blue",
            "size": 8
           },
           "mode": "markers+lines",
           "name": "solution",
           "type": "scatter",
           "x": [
            0.015371410077506989,
            0.11492476215093704
           ],
           "y": [
            0.0012025830936093509,
            0.010950553118501703
           ]
          }
         ]
        },
        {
         "data": [
          {
           "marker": {
            "color": "blue",
            "size": 8
           },
           "mode": "markers+lines",
           "name": "solution",
           "type": "scatter",
           "x": [
            0.015332645638819352,
            0.11463316674741468
           ],
           "y": [
            0.0015799071108129406,
            0.013581605652746952
           ]
          }
         ]
        },
        {
         "data": [
          {
           "marker": {
            "color": "blue",
            "size": 8
           },
           "mode": "markers+lines",
           "name": "solution",
           "type": "scatter",
           "x": [
            0.015289462243875535,
            0.11432779206919627
           ],
           "y": [
            0.0019149521588888974,
            0.015871677885362437
           ]
          }
         ]
        },
        {
         "data": [
          {
           "marker": {
            "color": "blue",
            "size": 8
           },
           "mode": "markers+lines",
           "name": "solution",
           "type": "scatter",
           "x": [
            0.015245613500765701,
            0.11403438889920749
           ],
           "y": [
            0.0022031347778862604,
            0.017791299297189003
           ]
          }
         ]
        },
        {
         "data": [
          {
           "marker": {
            "color": "blue",
            "size": 8
           },
           "mode": "markers+lines",
           "name": "solution",
           "type": "scatter",
           "x": [
            0.015204641692049336,
            0.11377611498963164
           ],
           "y": [
            0.0024409696370175918,
            0.019318871345501604
           ]
          }
         ]
        },
        {
         "data": [
          {
           "marker": {
            "color": "blue",
            "size": 8
           },
           "mode": "markers+lines",
           "name": "solution",
           "type": "scatter",
           "x": [
            0.015169653652295553,
            0.11357213331396637
           ],
           "y": [
            0.0026259892538858564,
            0.02044015977435195
           ]
          }
         ]
        },
        {
         "data": [
          {
           "marker": {
            "color": "blue",
            "size": 8
           },
           "mode": "markers+lines",
           "name": "solution",
           "type": "scatter",
           "x": [
            0.015143138330222855,
            0.11343655813031371
           ],
           "y": [
            0.0027566662621730663,
            0.021147842915026117
           ]
          }
         ]
        },
        {
         "data": [
          {
           "marker": {
            "color": "blue",
            "size": 8
           },
           "mode": "markers+lines",
           "name": "solution",
           "type": "scatter",
           "x": [
            0.015126839479868658,
            0.11337777957929213
           ],
           "y": [
            0.0028323516179527717,
            0.02144117938978803
           ]
          }
         ]
        },
        {
         "data": [
          {
           "marker": {
            "color": "blue",
            "size": 8
           },
           "mode": "markers+lines",
           "name": "solution",
           "type": "scatter",
           "x": [
            0.015121680134087533,
            0.11339817412173035
           ],
           "y": [
            0.0028532343458216513,
            0.02132581617925308
           ]
          }
         ]
        },
        {
         "data": [
          {
           "marker": {
            "color": "blue",
            "size": 8
           },
           "mode": "markers+lines",
           "name": "solution",
           "type": "scatter",
           "x": [
            0.015127737488118586,
            0.11349420399878409
           ],
           "y": [
            0.0028203231632340634,
            0.02081372011769993
           ]
          }
         ]
        },
        {
         "data": [
          {
           "marker": {
            "color": "blue",
            "size": 8
           },
           "mode": "markers+lines",
           "name": "solution",
           "type": "scatter",
           "x": [
            0.015144270208025029,
            0.11365690253270042
           ],
           "y": [
            0.002735445912313279,
            0.01992318281445408
           ]
          }
         ]
        },
        {
         "data": [
          {
           "marker": {
            "color": "blue",
            "size": 8
           },
           "mode": "markers+lines",
           "name": "solution",
           "type": "scatter",
           "x": [
            0.015169798846034584,
            0.11387272469114218
           ],
           "y": [
            0.0026012585044220445,
            0.018678823420972185
           ]
          }
         ]
        },
        {
         "data": [
          {
           "marker": {
            "color": "blue",
            "size": 8
           },
           "mode": "markers+lines",
           "name": "solution",
           "type": "scatter",
           "x": [
            0.015202236664614292,
            0.11412471620990106
           ],
           "y": [
            0.0024212517550090264,
            0.017111500153180286
           ]
          }
         ]
        },
        {
         "data": [
          {
           "marker": {
            "color": "blue",
            "size": 8
           },
           "mode": "markers+lines",
           "name": "solution",
           "type": "scatter",
           "x": [
            0.015239064153764149,
            0.11439392372802427
           ],
           "y": [
            0.0021997428919147753,
            0.015258043516704572
           ]
          }
         ]
        },
        {
         "data": [
          {
           "marker": {
            "color": "blue",
            "size": 8
           },
           "mode": "markers+lines",
           "name": "solution",
           "type": "scatter",
           "x": [
            0.015277535808990167,
            0.11466093799327967
           ],
           "y": [
            0.0019418391616795564,
            0.013160742864112852
           ]
          }
         ]
        },
        {
         "data": [
          {
           "marker": {
            "color": "blue",
            "size": 8
           },
           "mode": "markers+lines",
           "name": "solution",
           "type": "scatter",
           "x": [
            0.0153149029409065,
            0.11490743935959583
           ],
           "y": [
            0.0016533640342416252,
            0.010866551223749866
           ]
          }
         ]
        },
        {
         "data": [
          {
           "marker": {
            "color": "blue",
            "size": 8
           },
           "mode": "markers+lines",
           "name": "solution",
           "type": "scatter",
           "x": [
            0.01534863276590665,
            0.11511760667316659
           ],
           "y": [
            0.0013407417610837723,
            0.00842601574133042
           ]
          }
         ]
        },
        {
         "data": [
          {
           "marker": {
            "color": "blue",
            "size": 8
           },
           "mode": "markers+lines",
           "name": "solution",
           "type": "scatter",
           "x": [
            0.015376603047512798,
            0.115279261555157
           ],
           "y": [
            0.0010108426094184641,
            0.005891984255034736
           ]
          }
         ]
        },
        {
         "data": [
          {
           "marker": {
            "color": "blue",
            "size": 8
           },
           "mode": "markers+lines",
           "name": "solution",
           "type": "scatter",
           "x": [
            0.015397253763818883,
            0.11538464972426149
           ],
           "y": [
            0.0006707976157204771,
            0.003318173449502921
           ]
          }
         ]
        },
        {
         "data": [
          {
           "marker": {
            "color": "blue",
            "size": 8
           },
           "mode": "markers+lines",
           "name": "solution",
           "type": "scatter",
           "x": [
            0.01540968246932091,
            0.11543080430725193
           ],
           "y": [
            0.0003277967004767282,
            0.0007577035436654184
           ]
          }
         ]
        },
        {
         "data": [
          {
           "marker": {
            "color": "blue",
            "size": 8
           },
           "mode": "markers+lines",
           "name": "solution",
           "type": "scatter",
           "x": [
            0.015413677185346223,
            0.11541948479090941
           ],
           "y": [
            -1.1113656786117775e-05,
            -0.0017382946754546116
           ]
          }
         ]
        },
        {
         "data": [
          {
           "marker": {
            "color": "blue",
            "size": 8
           },
           "mode": "markers+lines",
           "name": "solution",
           "type": "scatter",
           "x": [
            0.015409688277725861,
            0.11535673044220363
           ],
           "y": [
            -0.00033921766704240124,
            -0.004121911079170018
           ]
          }
         ]
        },
        {
         "data": [
          {
           "marker": {
            "color": "blue",
            "size": 8
           },
           "mode": "markers+lines",
           "name": "solution",
           "type": "scatter",
           "x": [
            0.015398747356806648,
            0.11525210161676162
           ],
           "y": [
            -0.0006502902012688456,
            -0.0063494648381833725
           ]
          }
         ]
        },
        {
         "data": [
          {
           "marker": {
            "color": "blue",
            "size": 8
           },
           "mode": "markers+lines",
           "name": "solution",
           "type": "scatter",
           "x": [
            0.015382345730515534,
            0.11511770280258797
           ],
           "y": [
            -0.0009387221906366255,
            -0.008382263276145661
           ]
          }
         ]
        },
        {
         "data": [
          {
           "marker": {
            "color": "blue",
            "size": 8
           },
           "mode": "markers+lines",
           "name": "solution",
           "type": "scatter",
           "x": [
            0.0153622870179145,
            0.11496708758449511
           ],
           "y": [
            -0.00119960944961966,
            -0.010187115616398481
           ]
          }
         ]
        },
        {
         "data": [
          {
           "marker": {
            "color": "blue",
            "size": 8
           },
           "mode": "markers+lines",
           "name": "solution",
           "type": "scatter",
           "x": [
            0.015340528477434709,
            0.1148141407664333
           ],
           "y": [
            -0.0014288074908450558,
            -0.01173663127141367
           ]
          }
         ]
        },
        {
         "data": [
          {
           "marker": {
            "color": "blue",
            "size": 8
           },
           "mode": "markers+lines",
           "name": "solution",
           "type": "scatter",
           "x": [
            0.015319024079695943,
            0.11467202070770718
           ],
           "y": [
            -0.00162295810001708,
            -0.013009347587843924
           ]
          }
         ]
        },
        {
         "data": [
          {
           "marker": {
            "color": "blue",
            "size": 8
           },
           "mode": "markers+lines",
           "name": "solution",
           "type": "scatter",
           "x": [
            0.015299580093793248,
            0.11455222943123906
           ],
           "y": [
            -0.0017794950279721063,
            -0.013989736977345575
           ]
          }
         ]
        },
        {
         "data": [
          {
           "marker": {
            "color": "blue",
            "size": 8
           },
           "mode": "markers+lines",
           "name": "solution",
           "type": "scatter",
           "x": [
            0.015283731548932098,
            0.11446386209972964
           ],
           "y": [
            -0.0018966362430773084,
            -0.014668139289546871
           ]
          }
         ]
        },
        {
         "data": [
          {
           "marker": {
            "color": "blue",
            "size": 8
           },
           "mode": "markers+lines",
           "name": "solution",
           "type": "scatter",
           "x": [
            0.015272645725163974,
            0.11441307246038859
           ],
           "y": [
            -0.001973369077350773,
            -0.01504065431286102
           ]
          }
         ]
        },
        {
         "data": [
          {
           "marker": {
            "color": "blue",
            "size": 8
           },
           "mode": "markers+lines",
           "name": "solution",
           "type": "scatter",
           "x": [
            0.015267056914927184,
            0.11440277697328563
           ],
           "y": [
            -0.0020094326779822756,
            -0.015109014116732643
           ]
          }
         ]
        },
        {
         "data": [
          {
           "marker": {
            "color": "blue",
            "size": 8
           },
           "mode": "markers+lines",
           "name": "solution",
           "type": "scatter",
           "x": [
            0.015267234992138145,
            0.11443260687172042
           ],
           "y": [
            -0.002005299834169054,
            -0.014880438418392667
           ]
          }
         ]
        },
        {
         "data": [
          {
           "marker": {
            "color": "blue",
            "size": 8
           },
           "mode": "markers+lines",
           "name": "solution",
           "type": "scatter",
           "x": [
            0.015272988643345777,
            0.11449910344048891
           ],
           "y": [
            -0.0019621578612928894,
            -0.014367461034970353
           ]
          }
         ]
        },
        {
         "data": [
          {
           "marker": {
            "color": "blue",
            "size": 8
           },
           "mode": "markers+lines",
           "name": "solution",
           "type": "scatter",
           "x": [
            0.015283702273790584,
            0.11459613680369728
           ],
           "y": [
            -0.0018818861415000163,
            -0.01358770425928391
           ]
          }
         ]
        },
        {
         "data": [
          {
           "marker": {
            "color": "blue",
            "size": 8
           },
           "mode": "markers+lines",
           "name": "solution",
           "type": "scatter",
           "x": [
            0.015298403508476405,
            0.11471551278344426
           ],
           "y": [
            -0.0017670264602142988,
            -0.012563572632511363
           ]
          }
         ]
        },
        {
         "data": [
          {
           "marker": {
            "color": "blue",
            "size": 8
           },
           "mode": "markers+lines",
           "name": "solution",
           "type": "scatter",
           "x": [
            0.015315855926548612,
            0.11484771722593086
           ],
           "y": [
            -0.0016207416980569041,
            -0.011321839174643477
           ]
          }
         ]
        },
        {
         "data": [
          {
           "marker": {
            "color": "blue",
            "size": 8
           },
           "mode": "markers+lines",
           "name": "solution",
           "type": "scatter",
           "x": [
            0.01533466943181508,
            0.1149827347171209
           ],
           "y": [
            -0.0014467588798983497,
            -0.009893105590984257
           ]
          }
         ]
        },
        {
         "data": [
          {
           "marker": {
            "color": "blue",
            "size": 8
           },
           "mode": "markers+lines",
           "name": "solution",
           "type": "scatter",
           "x": [
            0.015353418844237778,
            0.11511087124628455
           ],
           "y": [
            -0.0012492940213525703,
            -0.008311131882716377
           ]
          }
         ]
        },
        {
         "data": [
          {
           "marker": {
            "color": "blue",
            "size": 8
           },
           "mode": "markers+lines",
           "name": "solution",
           "type": "scatter",
           "x": [
            0.015370760307801467,
            0.11522351010384302
           ],
           "y": [
            -0.0010329584202554381,
            -0.006612047548328224
           ]
          }
         ]
        },
        {
         "data": [
          {
           "marker": {
            "color": "blue",
            "size": 8
           },
           "mode": "markers+lines",
           "name": "solution",
           "type": "scatter",
           "x": [
            0.015385535269955937,
            0.11531373796281363
           ],
           "y": [
            -0.0008026486045452101,
            -0.0048334728824133465
           ]
          }
         ]
        },
        {
         "data": [
          {
           "marker": {
            "color": "blue",
            "size": 8
           },
           "mode": "markers+lines",
           "name": "solution",
           "type": "scatter",
           "x": [
            0.015396853205858116,
            0.11537679299613729
           ],
           "y": [
            -0.0005634245516628886,
            -0.0030135915421676974
           ]
          }
         ]
        },
        {
         "data": [
          {
           "marker": {
            "color": "blue",
            "size": 8
           },
           "mode": "markers+lines",
           "name": "solution",
           "type": "scatter",
           "x": [
            0.015404146772718787,
            0.11541030686289003
           ],
           "y": [
            -0.0003203825427907772,
            -0.001190222196471332
           ]
          }
         ]
        },
        {
         "data": [
          {
           "marker": {
            "color": "blue",
            "size": 8
           },
           "mode": "markers+lines",
           "name": "solution",
           "type": "scatter",
           "x": [
            0.015407196276860376,
            0.11541433435111904
           ],
           "y": [
            -7.852976613065109e-05,
            0.0006000632673138127
           ]
          }
         ]
        },
        {
         "data": [
          {
           "marker": {
            "color": "blue",
            "size": 8
           },
           "mode": "markers+lines",
           "name": "solution",
           "type": "scatter",
           "x": [
            0.015406123676747662,
            0.11539118513570007
           ],
           "y": [
            0.00015733256315028686,
            0.0023227342642703546
           ]
          }
         ]
        },
        {
         "data": [
          {
           "marker": {
            "color": "blue",
            "size": 8
           },
           "mode": "markers+lines",
           "name": "solution",
           "type": "scatter",
           "x": [
            0.01540135930458044,
            0.11534508884496594
           ],
           "y": [
            0.0003827120901725517,
            0.003945979431495422
           ]
          }
         ]
        },
        {
         "data": [
          {
           "marker": {
            "color": "blue",
            "size": 8
           },
           "mode": "markers+lines",
           "name": "solution",
           "type": "scatter",
           "x": [
            0.015393586689388828,
            0.11528173587563259
           ],
           "y": [
            0.0005935106359551392,
            0.005441252176448568
           ]
          }
         ]
        },
        {
         "data": [
          {
           "marker": {
            "color": "blue",
            "size": 8
           },
           "mode": "markers+lines",
           "name": "solution",
           "type": "scatter",
           "x": [
            0.015383672140672322,
            0.1152077418056955
           ],
           "y": [
            0.0007860904511352131,
            0.0067836813484064
           ]
          }
         ]
        },
        {
         "data": [
          {
           "marker": {
            "color": "blue",
            "size": 8
           },
           "mode": "markers+lines",
           "name": "solution",
           "type": "scatter",
           "x": [
            0.01537258614096905,
            0.11513008347088005
           ],
           "y": [
            0.000957321818749575,
            0.007952355514881396
           ]
          }
         ]
        },
        {
         "data": [
          {
           "marker": {
            "color": "blue",
            "size": 8
           },
           "mode": "markers+lines",
           "name": "solution",
           "type": "scatter",
           "x": [
            0.015361323274992999,
            0.11505555101428472
           ],
           "y": [
            0.0011046138634114961,
            0.008930496812817795
           ]
          }
         ]
        },
        {
         "data": [
          {
           "marker": {
            "color": "blue",
            "size": 8
           },
           "mode": "markers+lines",
           "name": "solution",
           "type": "scatter",
           "x": [
            0.015350826625612045,
            0.11499025386702404
           ],
           "y": [
            0.0012259312863645159,
            0.00970554390901286
           ]
          }
         ]
        },
        {
         "data": [
          {
           "marker": {
            "color": "blue",
            "size": 8
           },
           "mode": "markers+lines",
           "name": "solution",
           "type": "scatter",
           "x": [
            0.015341921512807336,
            0.11493921087225761
           ],
           "y": [
            0.0013198000188504226,
            0.010269163498827803
           ]
          }
         ]
        },
        {
         "data": [
          {
           "marker": {
            "color": "blue",
            "size": 8
           },
           "mode": "markers+lines",
           "name": "solution",
           "type": "scatter",
           "x": [
            0.015335262304587809,
            0.11490604648151842
           ],
           "y": [
            0.001385304554591127,
            0.01061720672972283
           ]
          }
         ]
        },
        {
         "data": [
          {
           "marker": {
            "color": "blue",
            "size": 8
           },
           "mode": "markers+lines",
           "name": "solution",
           "type": "scatter",
           "x": [
            0.015331294883328716,
            0.11489280661642477
           ],
           "y": [
            0.001422079121972685,
            0.010749621965368423
           ]
          }
         ]
        },
        {
         "data": [
          {
           "marker": {
            "color": "blue",
            "size": 8
           },
           "mode": "markers+lines",
           "name": "solution",
           "type": "scatter",
           "x": [
            0.01533023624242334,
            0.1148998996041355
           ],
           "y": [
            0.0014302940444675639,
            0.010670329518712053
           ]
          }
         ]
        },
        {
         "data": [
          {
           "marker": {
            "color": "blue",
            "size": 8
           },
           "mode": "markers+lines",
           "name": "solution",
           "type": "scatter",
           "x": [
            0.015332071614755013,
            0.11492615962814375
           ],
           "y": [
            0.0014106377707233278,
            0.010387058456680007
           ]
          }
         ]
        },
        {
         "data": [
          {
           "marker": {
            "color": "blue",
            "size": 8
           },
           "mode": "markers+lines",
           "name": "solution",
           "type": "scatter",
           "x": [
            0.015336568484124806,
            0.11496902246948634
           ],
           "y": [
            0.0013642942771732766,
            0.009911141251217162
           ]
          }
         ]
        },
        {
         "data": [
          {
           "marker": {
            "color": "blue",
            "size": 8
           },
           "mode": "markers+lines",
           "name": "solution",
           "type": "scatter",
           "x": [
            0.01534330580447071,
            0.11502479616019438
           ],
           "y": [
            0.001292914976296788,
            0.00925725962199988
           ]
          }
         ]
        },
        {
         "data": [
          {
           "marker": {
            "color": "blue",
            "size": 8
           },
           "mode": "markers+lines",
           "name": "solution",
           "type": "scatter",
           "x": [
            0.015351715779655493,
            0.1150890029230577
           ],
           "y": [
            0.0011985839897967583,
            0.008443134771609016
           ]
          }
         ]
        },
        {
         "data": [
          {
           "marker": {
            "color": "blue",
            "size": 8
           },
           "mode": "markers+lines",
           "name": "solution",
           "type": "scatter",
           "x": [
            0.015361134702543588,
            0.11515676396949143
           ],
           "y": [
            0.001083775711310374,
            0.007489157370074398
           ]
          }
         ]
        },
        {
         "data": [
          {
           "marker": {
            "color": "blue",
            "size": 8
           },
           "mode": "markers+lines",
           "name": "solution",
           "type": "scatter",
           "x": [
            0.015370858705195141,
            0.1152231959541101
           ],
           "y": [
            0.0009513039789837617,
            0.006417956735459146
           ]
          }
         ]
        },
        {
         "data": [
          {
           "marker": {
            "color": "blue",
            "size": 8
           },
           "mode": "markers+lines",
           "name": "solution",
           "type": "scatter",
           "x": [
            0.015380199927443135,
            0.1152837876194642
           ],
           "y": [
            0.0008042628406262979,
            0.005253913979569965
           ]
          }
         ]
        },
        {
         "data": [
          {
           "marker": {
            "color": "blue",
            "size": 8
           },
           "mode": "markers+lines",
           "name": "solution",
           "type": "scatter",
           "x": [
            0.015388538644317107,
            0.11533472763264271
           ],
           "y": [
            0.0006459597116010632,
            0.004022629524231887
           ]
          }
         ]
        },
        {
         "data": [
          {
           "marker": {
            "color": "blue",
            "size": 8
           },
           "mode": "markers+lines",
           "name": "solution",
           "type": "scatter",
           "x": [
            0.015395367334792505,
            0.11537315968677071
           ],
           "y": [
            0.0004798425565270255,
            0.002750360375953546
           ]
          }
         ]
        },
        {
         "data": [
          {
           "marker": {
            "color": "blue",
            "size": 8
           },
           "mode": "markers+lines",
           "name": "solution",
           "type": "scatter",
           "x": [
            0.01540032349637157,
            0.11539734810855413
           ],
           "y": [
            0.0003094234253928018,
            0.001463446044227456
           ]
          }
         ]
        },
        {
         "data": [
          {
           "marker": {
            "color": "blue",
            "size": 8
           },
           "mode": "markers+lines",
           "name": "solution",
           "type": "scatter",
           "x": [
            0.01540320912270671,
            0.11540674566727209
           ],
           "y": [
            0.00013820112399454132,
            0.00018774346538339283
           ]
          }
         ]
        },
        {
         "data": [
          {
           "marker": {
            "color": "blue",
            "size": 8
           },
           "mode": "markers+lines",
           "name": "solution",
           "type": "scatter",
           "x": [
            0.015403996030157725,
            0.11540196405000192
           ],
           "y": [
            -3.0414070899676304e-05,
            -0.0010519094001586317
           ]
          }
         ]
        },
        {
         "data": [
          {
           "marker": {
            "color": "blue",
            "size": 8
           },
           "mode": "markers+lines",
           "name": "solution",
           "type": "scatter",
           "x": [
            0.015402817490296235,
            0.11538465559608292
           ],
           "y": [
            -0.00019317093588419273,
            -0.0022321842563091912
           ]
          }
         ]
        },
        {
         "data": [
          {
           "marker": {
            "color": "blue",
            "size": 8
           },
           "mode": "markers+lines",
           "name": "solution",
           "type": "scatter",
           "x": [
            0.015399947756357689,
            0.11535732158685877
           ],
           "y": [
            -0.00034704081571376597,
            -0.003331694419385494
           ]
          }
         ]
        },
        {
         "data": [
          {
           "marker": {
            "color": "blue",
            "size": 8
           },
           "mode": "markers+lines",
           "name": "solution",
           "type": "scatter",
           "x": [
            0.015395771955199531,
            0.11532306715489042
           ],
           "y": [
            -0.0004892725224499175,
            -0.0043313596871740615
           ]
          }
         ]
        },
        {
         "data": [
          {
           "marker": {
            "color": "blue",
            "size": 8
           },
           "mode": "markers+lines",
           "name": "solution",
           "type": "scatter",
           "x": [
            0.015390749393360261,
            0.11528532550461534
           ],
           "y": [
            -0.0006174377171424251,
            -0.005214700416812096
           ]
          }
         ]
        },
        {
         "data": [
          {
           "marker": {
            "color": "blue",
            "size": 8
           },
           "mode": "markers+lines",
           "name": "solution",
           "type": "scatter",
           "x": [
            0.015385373585446454,
            0.11524757468703188
           ],
           "y": [
            -0.0007294665288699467,
            -0.005968061047298307
           ]
          }
         ]
        },
        {
         "data": [
          {
           "marker": {
            "color": "blue",
            "size": 8
           },
           "mode": "markers+lines",
           "name": "solution",
           "type": "scatter",
           "x": [
            0.0153801322824774,
            0.11521306889888878
           ],
           "y": [
            -0.0008236736908580043,
            -0.006580766159629196
           ]
          }
         ]
        },
        {
         "data": [
          {
           "marker": {
            "color": "blue",
            "size": 8
           },
           "mode": "markers+lines",
           "name": "solution",
           "type": "scatter",
           "x": [
            0.015375470507036667,
            0.11518460353818152
           ],
           "y": [
            -0.0008987758181164247,
            -0.0070452137648740545
           ]
          }
         ]
        },
        {
         "data": [
          {
           "marker": {
            "color": "blue",
            "size": 8
           },
           "mode": "markers+lines",
           "name": "solution",
           "type": "scatter",
           "x": [
            0.015371759149137177,
            0.11516432942390037
           ],
           "y": [
            -0.0009539006048255673,
            -0.00735691091257043
           ]
          }
         ]
        },
        {
         "data": [
          {
           "marker": {
            "color": "blue",
            "size": 8
           },
           "mode": "markers+lines",
           "name": "solution",
           "type": "scatter",
           "x": [
            0.015369271096776495,
            0.11515362703769735
           ],
           "y": [
            -0.0009885887047143113,
            -0.007514456172329685
           ]
          }
         ]
        },
        {
         "data": [
          {
           "marker": {
            "color": "blue",
            "size": 8
           },
           "mode": "markers+lines",
           "name": "solution",
           "type": "scatter",
           "x": [
            0.015368166215437068,
            0.11515304668819053
           ],
           "y": [
            -0.001002788920200829,
            -0.007519472437582959
           ]
          }
         ]
        },
        {
         "data": [
          {
           "marker": {
            "color": "blue",
            "size": 8
           },
           "mode": "markers+lines",
           "name": "solution",
           "type": "scatter",
           "x": [
            0.015368485790591314,
            0.11516231542392803
           ],
           "y": [
            -0.0009968471260108803,
            -0.007376492258214929
           ]
          }
         ]
        },
        {
         "data": [
          {
           "marker": {
            "color": "blue",
            "size": 8
           },
           "mode": "markers+lines",
           "name": "solution",
           "type": "scatter",
           "x": [
            0.015370156341556982,
            0.11518040660634032
           ],
           "y": [
            -0.0009714891532583457,
            -0.00709279693075192
           ]
          }
         ]
        },
        {
         "data": [
          {
           "marker": {
            "color": "blue",
            "size": 8
           },
           "mode": "markers+lines",
           "name": "solution",
           "type": "scatter",
           "x": [
            0.015373002038879896,
            0.11520566358248245
           ],
           "y": [
            -0.0009277977167476774,
            -0.006678210175137613
           ]
          }
         ]
        }
       ],
       "layout": {
        "template": {
         "data": {
          "bar": [
           {
            "error_x": {
             "color": "#2a3f5f"
            },
            "error_y": {
             "color": "#2a3f5f"
            },
            "marker": {
             "line": {
              "color": "#E5ECF6",
              "width": 0.5
             }
            },
            "type": "bar"
           }
          ],
          "barpolar": [
           {
            "marker": {
             "line": {
              "color": "#E5ECF6",
              "width": 0.5
             }
            },
            "type": "barpolar"
           }
          ],
          "carpet": [
           {
            "aaxis": {
             "endlinecolor": "#2a3f5f",
             "gridcolor": "white",
             "linecolor": "white",
             "minorgridcolor": "white",
             "startlinecolor": "#2a3f5f"
            },
            "baxis": {
             "endlinecolor": "#2a3f5f",
             "gridcolor": "white",
             "linecolor": "white",
             "minorgridcolor": "white",
             "startlinecolor": "#2a3f5f"
            },
            "type": "carpet"
           }
          ],
          "choropleth": [
           {
            "colorbar": {
             "outlinewidth": 0,
             "ticks": ""
            },
            "type": "choropleth"
           }
          ],
          "contour": [
           {
            "colorbar": {
             "outlinewidth": 0,
             "ticks": ""
            },
            "colorscale": [
             [
              0,
              "#0d0887"
             ],
             [
              0.1111111111111111,
              "#46039f"
             ],
             [
              0.2222222222222222,
              "#7201a8"
             ],
             [
              0.3333333333333333,
              "#9c179e"
             ],
             [
              0.4444444444444444,
              "#bd3786"
             ],
             [
              0.5555555555555556,
              "#d8576b"
             ],
             [
              0.6666666666666666,
              "#ed7953"
             ],
             [
              0.7777777777777778,
              "#fb9f3a"
             ],
             [
              0.8888888888888888,
              "#fdca26"
             ],
             [
              1,
              "#f0f921"
             ]
            ],
            "type": "contour"
           }
          ],
          "contourcarpet": [
           {
            "colorbar": {
             "outlinewidth": 0,
             "ticks": ""
            },
            "type": "contourcarpet"
           }
          ],
          "heatmap": [
           {
            "colorbar": {
             "outlinewidth": 0,
             "ticks": ""
            },
            "colorscale": [
             [
              0,
              "#0d0887"
             ],
             [
              0.1111111111111111,
              "#46039f"
             ],
             [
              0.2222222222222222,
              "#7201a8"
             ],
             [
              0.3333333333333333,
              "#9c179e"
             ],
             [
              0.4444444444444444,
              "#bd3786"
             ],
             [
              0.5555555555555556,
              "#d8576b"
             ],
             [
              0.6666666666666666,
              "#ed7953"
             ],
             [
              0.7777777777777778,
              "#fb9f3a"
             ],
             [
              0.8888888888888888,
              "#fdca26"
             ],
             [
              1,
              "#f0f921"
             ]
            ],
            "type": "heatmap"
           }
          ],
          "heatmapgl": [
           {
            "colorbar": {
             "outlinewidth": 0,
             "ticks": ""
            },
            "colorscale": [
             [
              0,
              "#0d0887"
             ],
             [
              0.1111111111111111,
              "#46039f"
             ],
             [
              0.2222222222222222,
              "#7201a8"
             ],
             [
              0.3333333333333333,
              "#9c179e"
             ],
             [
              0.4444444444444444,
              "#bd3786"
             ],
             [
              0.5555555555555556,
              "#d8576b"
             ],
             [
              0.6666666666666666,
              "#ed7953"
             ],
             [
              0.7777777777777778,
              "#fb9f3a"
             ],
             [
              0.8888888888888888,
              "#fdca26"
             ],
             [
              1,
              "#f0f921"
             ]
            ],
            "type": "heatmapgl"
           }
          ],
          "histogram": [
           {
            "marker": {
             "colorbar": {
              "outlinewidth": 0,
              "ticks": ""
             }
            },
            "type": "histogram"
           }
          ],
          "histogram2d": [
           {
            "colorbar": {
             "outlinewidth": 0,
             "ticks": ""
            },
            "colorscale": [
             [
              0,
              "#0d0887"
             ],
             [
              0.1111111111111111,
              "#46039f"
             ],
             [
              0.2222222222222222,
              "#7201a8"
             ],
             [
              0.3333333333333333,
              "#9c179e"
             ],
             [
              0.4444444444444444,
              "#bd3786"
             ],
             [
              0.5555555555555556,
              "#d8576b"
             ],
             [
              0.6666666666666666,
              "#ed7953"
             ],
             [
              0.7777777777777778,
              "#fb9f3a"
             ],
             [
              0.8888888888888888,
              "#fdca26"
             ],
             [
              1,
              "#f0f921"
             ]
            ],
            "type": "histogram2d"
           }
          ],
          "histogram2dcontour": [
           {
            "colorbar": {
             "outlinewidth": 0,
             "ticks": ""
            },
            "colorscale": [
             [
              0,
              "#0d0887"
             ],
             [
              0.1111111111111111,
              "#46039f"
             ],
             [
              0.2222222222222222,
              "#7201a8"
             ],
             [
              0.3333333333333333,
              "#9c179e"
             ],
             [
              0.4444444444444444,
              "#bd3786"
             ],
             [
              0.5555555555555556,
              "#d8576b"
             ],
             [
              0.6666666666666666,
              "#ed7953"
             ],
             [
              0.7777777777777778,
              "#fb9f3a"
             ],
             [
              0.8888888888888888,
              "#fdca26"
             ],
             [
              1,
              "#f0f921"
             ]
            ],
            "type": "histogram2dcontour"
           }
          ],
          "mesh3d": [
           {
            "colorbar": {
             "outlinewidth": 0,
             "ticks": ""
            },
            "type": "mesh3d"
           }
          ],
          "parcoords": [
           {
            "line": {
             "colorbar": {
              "outlinewidth": 0,
              "ticks": ""
             }
            },
            "type": "parcoords"
           }
          ],
          "pie": [
           {
            "automargin": true,
            "type": "pie"
           }
          ],
          "scatter": [
           {
            "marker": {
             "colorbar": {
              "outlinewidth": 0,
              "ticks": ""
             }
            },
            "type": "scatter"
           }
          ],
          "scatter3d": [
           {
            "line": {
             "colorbar": {
              "outlinewidth": 0,
              "ticks": ""
             }
            },
            "marker": {
             "colorbar": {
              "outlinewidth": 0,
              "ticks": ""
             }
            },
            "type": "scatter3d"
           }
          ],
          "scattercarpet": [
           {
            "marker": {
             "colorbar": {
              "outlinewidth": 0,
              "ticks": ""
             }
            },
            "type": "scattercarpet"
           }
          ],
          "scattergeo": [
           {
            "marker": {
             "colorbar": {
              "outlinewidth": 0,
              "ticks": ""
             }
            },
            "type": "scattergeo"
           }
          ],
          "scattergl": [
           {
            "marker": {
             "colorbar": {
              "outlinewidth": 0,
              "ticks": ""
             }
            },
            "type": "scattergl"
           }
          ],
          "scattermapbox": [
           {
            "marker": {
             "colorbar": {
              "outlinewidth": 0,
              "ticks": ""
             }
            },
            "type": "scattermapbox"
           }
          ],
          "scatterpolar": [
           {
            "marker": {
             "colorbar": {
              "outlinewidth": 0,
              "ticks": ""
             }
            },
            "type": "scatterpolar"
           }
          ],
          "scatterpolargl": [
           {
            "marker": {
             "colorbar": {
              "outlinewidth": 0,
              "ticks": ""
             }
            },
            "type": "scatterpolargl"
           }
          ],
          "scatterternary": [
           {
            "marker": {
             "colorbar": {
              "outlinewidth": 0,
              "ticks": ""
             }
            },
            "type": "scatterternary"
           }
          ],
          "surface": [
           {
            "colorbar": {
             "outlinewidth": 0,
             "ticks": ""
            },
            "colorscale": [
             [
              0,
              "#0d0887"
             ],
             [
              0.1111111111111111,
              "#46039f"
             ],
             [
              0.2222222222222222,
              "#7201a8"
             ],
             [
              0.3333333333333333,
              "#9c179e"
             ],
             [
              0.4444444444444444,
              "#bd3786"
             ],
             [
              0.5555555555555556,
              "#d8576b"
             ],
             [
              0.6666666666666666,
              "#ed7953"
             ],
             [
              0.7777777777777778,
              "#fb9f3a"
             ],
             [
              0.8888888888888888,
              "#fdca26"
             ],
             [
              1,
              "#f0f921"
             ]
            ],
            "type": "surface"
           }
          ],
          "table": [
           {
            "cells": {
             "fill": {
              "color": "#EBF0F8"
             },
             "line": {
              "color": "white"
             }
            },
            "header": {
             "fill": {
              "color": "#C8D4E3"
             },
             "line": {
              "color": "white"
             }
            },
            "type": "table"
           }
          ]
         },
         "layout": {
          "annotationdefaults": {
           "arrowcolor": "#2a3f5f",
           "arrowhead": 0,
           "arrowwidth": 1
          },
          "coloraxis": {
           "colorbar": {
            "outlinewidth": 0,
            "ticks": ""
           }
          },
          "colorscale": {
           "diverging": [
            [
             0,
             "#8e0152"
            ],
            [
             0.1,
             "#c51b7d"
            ],
            [
             0.2,
             "#de77ae"
            ],
            [
             0.3,
             "#f1b6da"
            ],
            [
             0.4,
             "#fde0ef"
            ],
            [
             0.5,
             "#f7f7f7"
            ],
            [
             0.6,
             "#e6f5d0"
            ],
            [
             0.7,
             "#b8e186"
            ],
            [
             0.8,
             "#7fbc41"
            ],
            [
             0.9,
             "#4d9221"
            ],
            [
             1,
             "#276419"
            ]
           ],
           "sequential": [
            [
             0,
             "#0d0887"
            ],
            [
             0.1111111111111111,
             "#46039f"
            ],
            [
             0.2222222222222222,
             "#7201a8"
            ],
            [
             0.3333333333333333,
             "#9c179e"
            ],
            [
             0.4444444444444444,
             "#bd3786"
            ],
            [
             0.5555555555555556,
             "#d8576b"
            ],
            [
             0.6666666666666666,
             "#ed7953"
            ],
            [
             0.7777777777777778,
             "#fb9f3a"
            ],
            [
             0.8888888888888888,
             "#fdca26"
            ],
            [
             1,
             "#f0f921"
            ]
           ],
           "sequentialminus": [
            [
             0,
             "#0d0887"
            ],
            [
             0.1111111111111111,
             "#46039f"
            ],
            [
             0.2222222222222222,
             "#7201a8"
            ],
            [
             0.3333333333333333,
             "#9c179e"
            ],
            [
             0.4444444444444444,
             "#bd3786"
            ],
            [
             0.5555555555555556,
             "#d8576b"
            ],
            [
             0.6666666666666666,
             "#ed7953"
            ],
            [
             0.7777777777777778,
             "#fb9f3a"
            ],
            [
             0.8888888888888888,
             "#fdca26"
            ],
            [
             1,
             "#f0f921"
            ]
           ]
          },
          "colorway": [
           "#636efa",
           "#EF553B",
           "#00cc96",
           "#ab63fa",
           "#FFA15A",
           "#19d3f3",
           "#FF6692",
           "#B6E880",
           "#FF97FF",
           "#FECB52"
          ],
          "font": {
           "color": "#2a3f5f"
          },
          "geo": {
           "bgcolor": "white",
           "lakecolor": "white",
           "landcolor": "#E5ECF6",
           "showlakes": true,
           "showland": true,
           "subunitcolor": "white"
          },
          "hoverlabel": {
           "align": "left"
          },
          "hovermode": "closest",
          "mapbox": {
           "style": "light"
          },
          "paper_bgcolor": "white",
          "plot_bgcolor": "#E5ECF6",
          "polar": {
           "angularaxis": {
            "gridcolor": "white",
            "linecolor": "white",
            "ticks": ""
           },
           "bgcolor": "#E5ECF6",
           "radialaxis": {
            "gridcolor": "white",
            "linecolor": "white",
            "ticks": ""
           }
          },
          "scene": {
           "xaxis": {
            "backgroundcolor": "#E5ECF6",
            "gridcolor": "white",
            "gridwidth": 2,
            "linecolor": "white",
            "showbackground": true,
            "ticks": "",
            "zerolinecolor": "white"
           },
           "yaxis": {
            "backgroundcolor": "#E5ECF6",
            "gridcolor": "white",
            "gridwidth": 2,
            "linecolor": "white",
            "showbackground": true,
            "ticks": "",
            "zerolinecolor": "white"
           },
           "zaxis": {
            "backgroundcolor": "#E5ECF6",
            "gridcolor": "white",
            "gridwidth": 2,
            "linecolor": "white",
            "showbackground": true,
            "ticks": "",
            "zerolinecolor": "white"
           }
          },
          "shapedefaults": {
           "line": {
            "color": "#2a3f5f"
           }
          },
          "ternary": {
           "aaxis": {
            "gridcolor": "white",
            "linecolor": "white",
            "ticks": ""
           },
           "baxis": {
            "gridcolor": "white",
            "linecolor": "white",
            "ticks": ""
           },
           "bgcolor": "#E5ECF6",
           "caxis": {
            "gridcolor": "white",
            "linecolor": "white",
            "ticks": ""
           }
          },
          "title": {
           "x": 0.05
          },
          "xaxis": {
           "automargin": true,
           "gridcolor": "white",
           "linecolor": "white",
           "ticks": "",
           "title": {
            "standoff": 15
           },
           "zerolinecolor": "white",
           "zerolinewidth": 2
          },
          "yaxis": {
           "automargin": true,
           "gridcolor": "white",
           "linecolor": "white",
           "ticks": "",
           "title": {
            "standoff": 15
           },
           "zerolinecolor": "white",
           "zerolinewidth": 2
          }
         }
        },
        "title": {
         "text": "Start Title"
        },
        "updatemenus": [
         {
          "buttons": [
           {
            "args": [
             null
            ],
            "label": "Play",
            "method": "animate"
           }
          ],
          "type": "buttons"
         },
         {
          "buttons": [
           {
            "method": "skip"
           }
          ],
          "type": "buttons"
         }
        ],
        "xaxis": {
         "autorange": false,
         "range": [
          0,
          0.7
         ]
        },
        "yaxis": {
         "autorange": false,
         "range": [
          -0.1,
          0.1
         ]
        }
       }
      },
      "text/html": [
       "<div>\n",
       "        \n",
       "        \n",
       "            <div id=\"58130555-1ca2-45b2-8576-47e362be24bd\" class=\"plotly-graph-div\" style=\"height:525px; width:100%;\"></div>\n",
       "            <script type=\"text/javascript\">\n",
       "                require([\"plotly\"], function(Plotly) {\n",
       "                    window.PLOTLYENV=window.PLOTLYENV || {};\n",
       "                    \n",
       "                if (document.getElementById(\"58130555-1ca2-45b2-8576-47e362be24bd\")) {\n",
       "                    Plotly.newPlot(\n",
       "                        '58130555-1ca2-45b2-8576-47e362be24bd',\n",
       "                        [{\"type\": \"scatter\", \"x\": [0.5, 0.5], \"y\": [0.05, -0.05]}],\n",
       "                        {\"template\": {\"data\": {\"bar\": [{\"error_x\": {\"color\": \"#2a3f5f\"}, \"error_y\": {\"color\": \"#2a3f5f\"}, \"marker\": {\"line\": {\"color\": \"#E5ECF6\", \"width\": 0.5}}, \"type\": \"bar\"}], \"barpolar\": [{\"marker\": {\"line\": {\"color\": \"#E5ECF6\", \"width\": 0.5}}, \"type\": \"barpolar\"}], \"carpet\": [{\"aaxis\": {\"endlinecolor\": \"#2a3f5f\", \"gridcolor\": \"white\", \"linecolor\": \"white\", \"minorgridcolor\": \"white\", \"startlinecolor\": \"#2a3f5f\"}, \"baxis\": {\"endlinecolor\": \"#2a3f5f\", \"gridcolor\": \"white\", \"linecolor\": \"white\", \"minorgridcolor\": \"white\", \"startlinecolor\": \"#2a3f5f\"}, \"type\": \"carpet\"}], \"choropleth\": [{\"colorbar\": {\"outlinewidth\": 0, \"ticks\": \"\"}, \"type\": \"choropleth\"}], \"contour\": [{\"colorbar\": {\"outlinewidth\": 0, \"ticks\": \"\"}, \"colorscale\": [[0.0, \"#0d0887\"], [0.1111111111111111, \"#46039f\"], [0.2222222222222222, \"#7201a8\"], [0.3333333333333333, \"#9c179e\"], [0.4444444444444444, \"#bd3786\"], [0.5555555555555556, \"#d8576b\"], [0.6666666666666666, \"#ed7953\"], [0.7777777777777778, \"#fb9f3a\"], [0.8888888888888888, \"#fdca26\"], [1.0, \"#f0f921\"]], \"type\": \"contour\"}], \"contourcarpet\": [{\"colorbar\": {\"outlinewidth\": 0, \"ticks\": \"\"}, \"type\": \"contourcarpet\"}], \"heatmap\": [{\"colorbar\": {\"outlinewidth\": 0, \"ticks\": \"\"}, \"colorscale\": [[0.0, \"#0d0887\"], [0.1111111111111111, \"#46039f\"], [0.2222222222222222, \"#7201a8\"], [0.3333333333333333, \"#9c179e\"], [0.4444444444444444, \"#bd3786\"], [0.5555555555555556, \"#d8576b\"], [0.6666666666666666, \"#ed7953\"], [0.7777777777777778, \"#fb9f3a\"], [0.8888888888888888, \"#fdca26\"], [1.0, \"#f0f921\"]], \"type\": \"heatmap\"}], \"heatmapgl\": [{\"colorbar\": {\"outlinewidth\": 0, \"ticks\": \"\"}, \"colorscale\": [[0.0, \"#0d0887\"], [0.1111111111111111, \"#46039f\"], [0.2222222222222222, \"#7201a8\"], [0.3333333333333333, \"#9c179e\"], [0.4444444444444444, \"#bd3786\"], [0.5555555555555556, \"#d8576b\"], [0.6666666666666666, \"#ed7953\"], [0.7777777777777778, \"#fb9f3a\"], [0.8888888888888888, \"#fdca26\"], [1.0, \"#f0f921\"]], \"type\": \"heatmapgl\"}], \"histogram\": [{\"marker\": {\"colorbar\": {\"outlinewidth\": 0, \"ticks\": \"\"}}, \"type\": \"histogram\"}], \"histogram2d\": [{\"colorbar\": {\"outlinewidth\": 0, \"ticks\": \"\"}, \"colorscale\": [[0.0, \"#0d0887\"], [0.1111111111111111, \"#46039f\"], [0.2222222222222222, \"#7201a8\"], [0.3333333333333333, \"#9c179e\"], [0.4444444444444444, \"#bd3786\"], [0.5555555555555556, \"#d8576b\"], [0.6666666666666666, \"#ed7953\"], [0.7777777777777778, \"#fb9f3a\"], [0.8888888888888888, \"#fdca26\"], [1.0, \"#f0f921\"]], \"type\": \"histogram2d\"}], \"histogram2dcontour\": [{\"colorbar\": {\"outlinewidth\": 0, \"ticks\": \"\"}, \"colorscale\": [[0.0, \"#0d0887\"], [0.1111111111111111, \"#46039f\"], [0.2222222222222222, \"#7201a8\"], [0.3333333333333333, \"#9c179e\"], [0.4444444444444444, \"#bd3786\"], [0.5555555555555556, \"#d8576b\"], [0.6666666666666666, \"#ed7953\"], [0.7777777777777778, \"#fb9f3a\"], [0.8888888888888888, \"#fdca26\"], [1.0, \"#f0f921\"]], \"type\": \"histogram2dcontour\"}], \"mesh3d\": [{\"colorbar\": {\"outlinewidth\": 0, \"ticks\": \"\"}, \"type\": \"mesh3d\"}], \"parcoords\": [{\"line\": {\"colorbar\": {\"outlinewidth\": 0, \"ticks\": \"\"}}, \"type\": \"parcoords\"}], \"pie\": [{\"automargin\": true, \"type\": \"pie\"}], \"scatter\": [{\"marker\": {\"colorbar\": {\"outlinewidth\": 0, \"ticks\": \"\"}}, \"type\": \"scatter\"}], \"scatter3d\": [{\"line\": {\"colorbar\": {\"outlinewidth\": 0, \"ticks\": \"\"}}, \"marker\": {\"colorbar\": {\"outlinewidth\": 0, \"ticks\": \"\"}}, \"type\": \"scatter3d\"}], \"scattercarpet\": [{\"marker\": {\"colorbar\": {\"outlinewidth\": 0, \"ticks\": \"\"}}, \"type\": \"scattercarpet\"}], \"scattergeo\": [{\"marker\": {\"colorbar\": {\"outlinewidth\": 0, \"ticks\": \"\"}}, \"type\": \"scattergeo\"}], \"scattergl\": [{\"marker\": {\"colorbar\": {\"outlinewidth\": 0, \"ticks\": \"\"}}, \"type\": \"scattergl\"}], \"scattermapbox\": [{\"marker\": {\"colorbar\": {\"outlinewidth\": 0, \"ticks\": \"\"}}, \"type\": \"scattermapbox\"}], \"scatterpolar\": [{\"marker\": {\"colorbar\": {\"outlinewidth\": 0, \"ticks\": \"\"}}, \"type\": \"scatterpolar\"}], \"scatterpolargl\": [{\"marker\": {\"colorbar\": {\"outlinewidth\": 0, \"ticks\": \"\"}}, \"type\": \"scatterpolargl\"}], \"scatterternary\": [{\"marker\": {\"colorbar\": {\"outlinewidth\": 0, \"ticks\": \"\"}}, \"type\": \"scatterternary\"}], \"surface\": [{\"colorbar\": {\"outlinewidth\": 0, \"ticks\": \"\"}, \"colorscale\": [[0.0, \"#0d0887\"], [0.1111111111111111, \"#46039f\"], [0.2222222222222222, \"#7201a8\"], [0.3333333333333333, \"#9c179e\"], [0.4444444444444444, \"#bd3786\"], [0.5555555555555556, \"#d8576b\"], [0.6666666666666666, \"#ed7953\"], [0.7777777777777778, \"#fb9f3a\"], [0.8888888888888888, \"#fdca26\"], [1.0, \"#f0f921\"]], \"type\": \"surface\"}], \"table\": [{\"cells\": {\"fill\": {\"color\": \"#EBF0F8\"}, \"line\": {\"color\": \"white\"}}, \"header\": {\"fill\": {\"color\": \"#C8D4E3\"}, \"line\": {\"color\": \"white\"}}, \"type\": \"table\"}]}, \"layout\": {\"annotationdefaults\": {\"arrowcolor\": \"#2a3f5f\", \"arrowhead\": 0, \"arrowwidth\": 1}, \"coloraxis\": {\"colorbar\": {\"outlinewidth\": 0, \"ticks\": \"\"}}, \"colorscale\": {\"diverging\": [[0, \"#8e0152\"], [0.1, \"#c51b7d\"], [0.2, \"#de77ae\"], [0.3, \"#f1b6da\"], [0.4, \"#fde0ef\"], [0.5, \"#f7f7f7\"], [0.6, \"#e6f5d0\"], [0.7, \"#b8e186\"], [0.8, \"#7fbc41\"], [0.9, \"#4d9221\"], [1, \"#276419\"]], \"sequential\": [[0.0, \"#0d0887\"], [0.1111111111111111, \"#46039f\"], [0.2222222222222222, \"#7201a8\"], [0.3333333333333333, \"#9c179e\"], [0.4444444444444444, \"#bd3786\"], [0.5555555555555556, \"#d8576b\"], [0.6666666666666666, \"#ed7953\"], [0.7777777777777778, \"#fb9f3a\"], [0.8888888888888888, \"#fdca26\"], [1.0, \"#f0f921\"]], \"sequentialminus\": [[0.0, \"#0d0887\"], [0.1111111111111111, \"#46039f\"], [0.2222222222222222, \"#7201a8\"], [0.3333333333333333, \"#9c179e\"], [0.4444444444444444, \"#bd3786\"], [0.5555555555555556, \"#d8576b\"], [0.6666666666666666, \"#ed7953\"], [0.7777777777777778, \"#fb9f3a\"], [0.8888888888888888, \"#fdca26\"], [1.0, \"#f0f921\"]]}, \"colorway\": [\"#636efa\", \"#EF553B\", \"#00cc96\", \"#ab63fa\", \"#FFA15A\", \"#19d3f3\", \"#FF6692\", \"#B6E880\", \"#FF97FF\", \"#FECB52\"], \"font\": {\"color\": \"#2a3f5f\"}, \"geo\": {\"bgcolor\": \"white\", \"lakecolor\": \"white\", \"landcolor\": \"#E5ECF6\", \"showlakes\": true, \"showland\": true, \"subunitcolor\": \"white\"}, \"hoverlabel\": {\"align\": \"left\"}, \"hovermode\": \"closest\", \"mapbox\": {\"style\": \"light\"}, \"paper_bgcolor\": \"white\", \"plot_bgcolor\": \"#E5ECF6\", \"polar\": {\"angularaxis\": {\"gridcolor\": \"white\", \"linecolor\": \"white\", \"ticks\": \"\"}, \"bgcolor\": \"#E5ECF6\", \"radialaxis\": {\"gridcolor\": \"white\", \"linecolor\": \"white\", \"ticks\": \"\"}}, \"scene\": {\"xaxis\": {\"backgroundcolor\": \"#E5ECF6\", \"gridcolor\": \"white\", \"gridwidth\": 2, \"linecolor\": \"white\", \"showbackground\": true, \"ticks\": \"\", \"zerolinecolor\": \"white\"}, \"yaxis\": {\"backgroundcolor\": \"#E5ECF6\", \"gridcolor\": \"white\", \"gridwidth\": 2, \"linecolor\": \"white\", \"showbackground\": true, \"ticks\": \"\", \"zerolinecolor\": \"white\"}, \"zaxis\": {\"backgroundcolor\": \"#E5ECF6\", \"gridcolor\": \"white\", \"gridwidth\": 2, \"linecolor\": \"white\", \"showbackground\": true, \"ticks\": \"\", \"zerolinecolor\": \"white\"}}, \"shapedefaults\": {\"line\": {\"color\": \"#2a3f5f\"}}, \"ternary\": {\"aaxis\": {\"gridcolor\": \"white\", \"linecolor\": \"white\", \"ticks\": \"\"}, \"baxis\": {\"gridcolor\": \"white\", \"linecolor\": \"white\", \"ticks\": \"\"}, \"bgcolor\": \"#E5ECF6\", \"caxis\": {\"gridcolor\": \"white\", \"linecolor\": \"white\", \"ticks\": \"\"}}, \"title\": {\"x\": 0.05}, \"xaxis\": {\"automargin\": true, \"gridcolor\": \"white\", \"linecolor\": \"white\", \"ticks\": \"\", \"title\": {\"standoff\": 15}, \"zerolinecolor\": \"white\", \"zerolinewidth\": 2}, \"yaxis\": {\"automargin\": true, \"gridcolor\": \"white\", \"linecolor\": \"white\", \"ticks\": \"\", \"title\": {\"standoff\": 15}, \"zerolinecolor\": \"white\", \"zerolinewidth\": 2}}}, \"title\": {\"text\": \"Start Title\"}, \"updatemenus\": [{\"buttons\": [{\"args\": [null], \"label\": \"Play\", \"method\": \"animate\"}], \"type\": \"buttons\"}, {\"buttons\": [{\"method\": \"skip\"}], \"type\": \"buttons\"}], \"xaxis\": {\"autorange\": false, \"range\": [0, 0.7]}, \"yaxis\": {\"autorange\": false, \"range\": [-0.1, 0.1]}},\n",
       "                        {\"responsive\": true}\n",
       "                    ).then(function(){\n",
       "                            Plotly.addFrames('58130555-1ca2-45b2-8576-47e362be24bd', [{\"data\": [{\"marker\": {\"color\": \"blue\", \"size\": 8}, \"mode\": \"markers+lines\", \"name\": \"solution\", \"x\": [0.5, 0.5], \"y\": [0.05, -0.05], \"type\": \"scatter\"}]}, {\"data\": [{\"marker\": {\"color\": \"blue\", \"size\": 8}, \"mode\": \"markers+lines\", \"name\": \"solution\", \"x\": [0.4999998029739499, 0.5000000014147286], \"y\": [0.04997883521410678, -0.04998452217723541], \"type\": \"scatter\"}]}, {\"data\": [{\"marker\": {\"color\": \"blue\", \"size\": 8}, \"mode\": \"markers+lines\", \"name\": \"solution\", \"x\": [0.49996887537149587, 0.5000292630573291], \"y\": [0.0499887088589441, -0.05001116426144711], \"type\": \"scatter\"}]}, {\"data\": [{\"marker\": {\"color\": \"blue\", \"size\": 8}, \"mode\": \"markers+lines\", \"name\": \"solution\", \"x\": [0.4998864320105398, 0.5001119318042445], \"y\": [0.04997478737435493, -0.05002509460660087], \"type\": \"scatter\"}]}, {\"data\": [{\"marker\": {\"color\": \"blue\", \"size\": 8}, \"mode\": \"markers+lines\", \"name\": \"solution\", \"x\": [0.4997485775893199, 0.5002499876811406], \"y\": [0.04995494058248894, -0.05004418301877068], \"type\": \"scatter\"}]}, {\"data\": [{\"marker\": {\"color\": \"blue\", \"size\": 8}, \"mode\": \"markers+lines\", \"name\": \"solution\", \"x\": [0.4995552572713016, 0.5004434173970921], \"y\": [0.049928771434572146, -0.050068032356786675], \"type\": \"scatter\"}]}, {\"data\": [{\"marker\": {\"color\": \"blue\", \"size\": 8}, \"mode\": \"markers+lines\", \"name\": \"solution\", \"x\": [0.4993064365767178, 0.5006921762450031], \"y\": [0.04989563702743491, -0.05009599946344139], \"type\": \"scatter\"}]}, {\"data\": [{\"marker\": {\"color\": \"blue\", \"size\": 8}, \"mode\": \"markers+lines\", \"name\": \"solution\", \"x\": [0.49900207860339924, 0.500996197335161], \"y\": [0.049854710366983454, -0.05012725680058883], \"type\": \"scatter\"}]}, {\"data\": [{\"marker\": {\"color\": \"blue\", \"size\": 8}, \"mode\": \"markers+lines\", \"name\": \"solution\", \"x\": [0.4986421492275259, 0.5013553862473363], \"y\": [0.04980498064248885, -0.05016079255867722], \"type\": \"scatter\"}]}, {\"data\": [{\"marker\": {\"color\": \"blue\", \"size\": 8}, \"mode\": \"markers+lines\", \"name\": \"solution\", \"x\": [0.4982266236730024, 0.5017696144061006], \"y\": [0.04974525368452978, -0.05019541091355896], \"type\": \"scatter\"}]}, {\"data\": [{\"marker\": {\"color\": \"blue\", \"size\": 8}, \"mode\": \"markers+lines\", \"name\": \"solution\", \"x\": [0.4977554942700462, 0.5022387112737121], \"y\": [0.04967415268934226, -0.05022973251334255], \"type\": \"scatter\"}]}, {\"data\": [{\"marker\": {\"color\": \"blue\", \"size\": 8}, \"mode\": \"markers+lines\", \"name\": \"solution\", \"x\": [0.4972287793939118, 0.5027624553722156], \"y\": [0.049590119296387576, -0.050262195282117325], \"type\": \"scatter\"}]}, {\"data\": [{\"marker\": {\"color\": \"blue\", \"size\": 8}, \"mode\": \"markers+lines\", \"name\": \"solution\", \"x\": [0.4966465335694237, 0.5033405641521362], \"y\": [0.04949141511909372, -0.05029105564053688], \"type\": \"scatter\"}]}, {\"data\": [{\"marker\": {\"color\": \"blue\", \"size\": 8}, \"mode\": \"markers+lines\", \"name\": \"solution\", \"x\": [0.4960088587200695, 0.5039726827325377], \"y\": [0.049376123841223994, -0.0503143902557588], \"type\": \"scatter\"}]}, {\"data\": [{\"marker\": {\"color\": \"blue\", \"size\": 8}, \"mode\": \"markers+lines\", \"name\": \"solution\", \"x\": [0.4953159165316859, 0.5046583715464213], \"y\": [0.04924215400330414, -0.050330098445233964], \"type\": \"scatter\"}]}, {\"data\": [{\"marker\": {\"color\": \"blue\", \"size\": 8}, \"mode\": \"markers+lines\", \"name\": \"solution\", \"x\": [0.4945679418900672, 0.5053970929366333], \"y\": [0.049087242614800984, -0.05033590537012255], \"type\": \"scatter\"}]}, {\"data\": [{\"marker\": {\"color\": \"blue\", \"size\": 8}, \"mode\": \"markers+lines\", \"name\": \"solution\", \"x\": [0.49376525733899235, 0.506188196760797], \"y\": [0.04890895973804996, -0.05032936616444623], \"type\": \"scatter\"}]}, {\"data\": [{\"marker\": {\"color\": \"blue\", \"size\": 8}, \"mode\": \"markers+lines\", \"name\": \"solution\", \"x\": [0.4929082884900602, 0.5070309050794097], \"y\": [0.04870471419899279, -0.050307871155186396], \"type\": \"scatter\"}]}, {\"data\": [{\"marker\": {\"color\": \"blue\", \"size\": 8}, \"mode\": \"markers+lines\", \"name\": \"solution\", \"x\": [0.49199758029825297, 0.5079242960192423], \"y\": [0.04847176058727653, -0.050268652336073645], \"type\": \"scatter\"}]}, {\"data\": [{\"marker\": {\"color\": \"blue\", \"size\": 8}, \"mode\": \"markers+lines\", \"name\": \"solution\", \"x\": [0.4910338140972554, 0.508867286924614], \"y\": [0.04820720771380303, -0.05020879126341011], \"type\": \"scatter\"}]}, {\"data\": [{\"marker\": {\"color\": \"blue\", \"size\": 8}, \"mode\": \"markers+lines\", \"name\": \"solution\", \"x\": [0.4900178252662364, 0.5098586169319783], \"y\": [0.047908028696972776, -0.050125228545496336], \"type\": \"scatter\"}]}, {\"data\": [{\"marker\": {\"color\": \"blue\", \"size\": 8}, \"mode\": \"markers+lines\", \"name\": \"solution\", \"x\": [0.48895062137511297, 0.5108968291284854], \"y\": [0.04757107284916726, -0.05001477509763051], \"type\": \"scatter\"}]}, {\"data\": [{\"marker\": {\"color\": \"blue\", \"size\": 8}, \"mode\": \"markers+lines\", \"name\": \"solution\", \"x\": [0.48783340062839126, 0.5119802524826563], \"y\": [0.04719307953194016, -0.049874125331696675], \"type\": \"scatter\"}]}, {\"data\": [{\"marker\": {\"color\": \"blue\", \"size\": 8}, \"mode\": \"markers+lines\", \"name\": \"solution\", \"x\": [0.48666757039874153, 0.5131069837647657], \"y\": [0.04677069414138741, -0.04969987244251543], \"type\": \"scatter\"}]}, {\"data\": [{\"marker\": {\"color\": \"blue\", \"size\": 8}, \"mode\": \"markers+lines\", \"name\": \"solution\", \"x\": [0.4854547656108338, 0.5142748697056695], \"y\": [0.0463004863736578, -0.04948852594182066], \"type\": \"scatter\"}]}, {\"data\": [{\"marker\": {\"color\": \"blue\", \"size\": 8}, \"mode\": \"markers+lines\", \"name\": \"solution\", \"x\": [0.4841968667040772, 0.5154814896751678], \"y\": [0.04577897090395164, -0.049236531574362495], \"type\": \"scatter\"}]}, {\"data\": [{\"marker\": {\"color\": \"blue\", \"size\": 8}, \"mode\": \"markers+lines\", \"name\": \"solution\", \"x\": [0.48289601687033906, 0.516724139193981], \"y\": [0.045202630590038574, -0.04894029372863339], \"type\": \"scatter\"}]}, {\"data\": [{\"marker\": {\"color\": \"blue\", \"size\": 8}, \"mode\": \"markers+lines\", \"name\": \"solution\", \"x\": [0.48155463823018285, 0.5179998146263066], \"y\": [0.04456794228272987, -0.04859620042650688], \"type\": \"scatter\"}]}, {\"data\": [{\"marker\": {\"color\": \"blue\", \"size\": 8}, \"mode\": \"markers+lines\", \"name\": \"solution\", \"x\": [0.48017544657952854, 0.5193051994318177], \"y\": [0.04387140529033345, -0.048200650941147234], \"type\": \"scatter\"}]}, {\"data\": [{\"marker\": {\"color\": \"blue\", \"size\": 8}, \"mode\": \"markers+lines\", \"name\": \"solution\", \"x\": [0.4787614643089443, 0.5206366523857929], \"y\": [0.043109572501448264, -0.047750086050454416], \"type\": \"scatter\"}]}, {\"data\": [{\"marker\": {\"color\": \"blue\", \"size\": 8}, \"mode\": \"markers+lines\", \"name\": \"solution\", \"x\": [0.4773160310712385, 0.5219901982025924], \"y\": [0.042279084120174636, -0.047241020883720605], \"type\": \"scatter\"}]}, {\"data\": [{\"marker\": {\"color\": \"blue\", \"size\": 8}, \"mode\": \"markers+lines\", \"name\": \"solution\", \"x\": [0.4758428117510283, 0.5233615210194756], \"y\": [0.04137670390974639, -0.04667008026192297], \"type\": \"scatter\"}]}, {\"data\": [{\"marker\": {\"color\": \"blue\", \"size\": 8}, \"mode\": \"markers+lines\", \"name\": \"solution\", \"x\": [0.4743458012740775, 0.5247459612131936], \"y\": [0.04039935777474962, -0.04603403636719217], \"type\": \"scatter\"}]}, {\"data\": [{\"marker\": {\"color\": \"blue\", \"size\": 8}, \"mode\": \"markers+lines\", \"name\": \"solution\", \"x\": [0.47282932578614517, 0.5261385160291121], \"y\": [0.03934417443876857, -0.045329848504770696], \"type\": \"scatter\"}]}, {\"data\": [{\"marker\": {\"color\": \"blue\", \"size\": 8}, \"mode\": \"markers+lines\", \"name\": \"solution\", \"x\": [0.4712980397327174, 0.5275338444999342], \"y\": [0.038208527894102416, -0.04455470464182155], \"type\": \"scatter\"}]}, {\"data\": [{\"marker\": {\"color\": \"blue\", \"size\": 8}, \"mode\": \"markers+lines\", \"name\": \"solution\", \"x\": [0.4697569183842457, 0.5289262771163897], \"y\": [0.03699008121412759, -0.04370606432275937], \"type\": \"scatter\"}]}, {\"data\": [{\"marker\": {\"color\": \"blue\", \"size\": 8}, \"mode\": \"markers+lines\", \"name\": \"solution\", \"x\": [0.46821124537835507, 0.5303098306835443], \"y\": [0.035686831228398525, -0.04278170247179687], \"type\": \"scatter\"}]}, {\"data\": [{\"marker\": {\"color\": \"blue\", \"size\": 8}, \"mode\": \"markers+lines\", \"name\": \"solution\", \"x\": [0.4666665948928141, 0.5316782287516811], \"y\": [0.03429715346765599, -0.041779753502073094], \"type\": \"scatter\"}]}, {\"data\": [{\"marker\": {\"color\": \"blue\", \"size\": 8}, \"mode\": \"markers+lines\", \"name\": \"solution\", \"x\": [0.46512880812262447, 0.5330249279482536], \"y\": [0.03281984669309284, -0.04069875505956084], \"type\": \"scatter\"}]}, {\"data\": [{\"marker\": {\"color\": \"blue\", \"size\": 8}, \"mode\": \"markers+lines\", \"name\": \"solution\", \"x\": [0.4636039638128256, 0.5343431504557201], \"y\": [0.031254176234649135, -0.039537690642020305], \"type\": \"scatter\"}]}, {\"data\": [{\"marker\": {\"color\": \"blue\", \"size\": 8}, \"mode\": \"markers+lines\", \"name\": \"solution\", \"x\": [0.46209834269649785, 0.5356259227781651], \"y\": [0.029599915280522228, -0.03829603025225077], \"type\": \"scatter\"}]}, {\"data\": [{\"marker\": {\"color\": \"blue\", \"size\": 8}, \"mode\": \"markers+lines\", \"name\": \"solution\", \"x\": [0.46061838580533093, 0.5368661208171542], \"y\": [0.027857383188788904, -0.03697376817500875], \"type\": \"scatter\"}]}, {\"data\": [{\"marker\": {\"color\": \"blue\", \"size\": 8}, \"mode\": \"markers+lines\", \"name\": \"solution\", \"x\": [0.459170646757494, 0.538056521134803], \"y\": [0.026027479836837814, -0.0355714569128962], \"type\": \"scatter\"}]}, {\"data\": [{\"marker\": {\"color\": \"blue\", \"size\": 8}, \"mode\": \"markers+lines\", \"name\": \"solution\", \"x\": [0.45776173828287803, 0.5391898581211685], \"y\": [0.024111714990311204, -0.03409023628326823], \"type\": \"scatter\"}]}, {\"data\": [{\"marker\": {\"color\": \"blue\", \"size\": 8}, \"mode\": \"markers+lines\", \"name\": \"solution\", \"x\": [0.4563982734163294, 0.540258886606656], \"y\": [0.022112231665667257, -0.03253185667085202], \"type\": \"scatter\"}]}, {\"data\": [{\"marker\": {\"color\": \"blue\", \"size\": 8}, \"mode\": \"markers+lines\", \"name\": \"solution\", \"x\": [0.4550868019711649, 0.5412564492724271], \"y\": [0.020031822484307335, -0.03089869545419107], \"type\": \"scatter\"}]}, {\"data\": [{\"marker\": {\"color\": \"blue\", \"size\": 8}, \"mode\": \"markers+lines\", \"name\": \"solution\", \"x\": [0.45383374309253016, 0.542175548018528], \"y\": [0.017873938075896885, -0.029193765682543886], \"type\": \"scatter\"}]}, {\"data\": [{\"marker\": {\"color\": \"blue\", \"size\": 8}, \"mode\": \"markers+lines\", \"name\": \"solution\", \"x\": [0.45264531487611337, 0.5430094182577944], \"y\": [0.015642686687470264, -0.02742071617680123], \"type\": \"scatter\"}]}, {\"data\": [{\"marker\": {\"color\": \"blue\", \"size\": 8}, \"mode\": \"markers+lines\", \"name\": \"solution\", \"x\": [0.4515274622141865, 0.5437516049219953], \"y\": [0.013342824295097273, -0.025583822365224267], \"type\": \"scatter\"}]}, {\"data\": [{\"marker\": {\"color\": \"blue\", \"size\": 8}, \"mode\": \"markers+lines\", \"name\": \"solution\", \"x\": [0.45048578418876745, 0.5443960388045976], \"y\": [0.010979734696326463, -0.023687967342348445], \"type\": \"scatter\"}]}, {\"data\": [{\"marker\": {\"color\": \"blue\", \"size\": 8}, \"mode\": \"markers+lines\", \"name\": \"solution\", \"x\": [0.4495254624612437, 0.5449371117319391], \"y\": [0.008559399281998295, -0.021738612854969436], \"type\": \"scatter\"}]}, {\"data\": [{\"marker\": {\"color\": \"blue\", \"size\": 8}, \"mode\": \"markers+lines\", \"name\": \"solution\", \"x\": [0.44865119219948846, 0.5453697489613578], \"y\": [0.006088356440423574, -0.019741760167908736], \"type\": \"scatter\"}]}, {\"data\": [{\"marker\": {\"color\": \"blue\", \"size\": 8}, \"mode\": \"markers+lines\", \"name\": \"solution\", \"x\": [0.4478671171285627, 0.5456894771600014], \"y\": [0.0035736508277127987, -0.017703901036776347], \"type\": \"scatter\"}]}, {\"data\": [{\"marker\": {\"color\": \"blue\", \"size\": 8}, \"mode\": \"markers+lines\", \"name\": \"solution\", \"x\": [0.4471767702823146, 0.5458924863290358], \"y\": [0.0010227730349853326, -0.0156319593052028], \"type\": \"scatter\"}]}, {\"data\": [{\"marker\": {\"color\": \"blue\", \"size\": 8}, \"mode\": \"markers+lines\", \"name\": \"solution\", \"x\": [0.44658302196569594, 0.5459756841097755], \"y\": [-0.0015564095161698073, -0.013533223937837928], \"type\": \"scatter\"}]}, {\"data\": [{\"marker\": {\"color\": \"blue\", \"size\": 8}, \"mode\": \"markers+lines\", \"name\": \"solution\", \"x\": [0.4460880363095489, 0.5459367410427395], \"y\": [-0.004155729328293925, -0.011415274584113124], \"type\": \"scatter\"}]}, {\"data\": [{\"marker\": {\"color\": \"blue\", \"size\": 8}, \"mode\": \"markers+lines\", \"name\": \"solution\", \"x\": [0.4456932376126279, 0.545774125546014], \"y\": [-0.006766801845764306, -0.009285901026966362], \"type\": \"scatter\"}]}, {\"data\": [{\"marker\": {\"color\": \"blue\", \"size\": 8}, \"mode\": \"markers+lines\", \"name\": \"solution\", \"x\": [0.4453992874250766, 0.5454871276299683], \"y\": [-0.009381113122791523, -0.00715301809141814], \"type\": \"scatter\"}]}, {\"data\": [{\"marker\": {\"color\": \"blue\", \"size\": 8}, \"mode\": \"markers+lines\", \"name\": \"solution\", \"x\": [0.44520607304247506, 0.5450758706619395], \"y\": [-0.011990110355321834, -0.005024577757492194], \"type\": \"scatter\"}]}, {\"data\": [{\"marker\": {\"color\": \"blue\", \"size\": 8}, \"mode\": \"markers+lines\", \"name\": \"solution\", \"x\": [0.44511270776206885, 0.5445413108243471], \"y\": [-0.01458529337948772, -0.00290848033042678], \"type\": \"scatter\"}]}, {\"data\": [{\"marker\": {\"color\": \"blue\", \"size\": 8}, \"mode\": \"markers+lines\", \"name\": \"solution\", \"x\": [0.445117542917461, 0.543885224257683], \"y\": [-0.017158305197728773, -0.0008124865617330232], \"type\": \"scatter\"}]}, {\"data\": [{\"marker\": {\"color\": \"blue\", \"size\": 8}, \"mode\": \"markers+lines\", \"name\": \"solution\", \"x\": [0.44521819137082475, 0.5431101822294364], \"y\": [-0.01970101962438784, 0.0012558674152686133], \"type\": \"scatter\"}]}, {\"data\": [{\"marker\": {\"color\": \"blue\", \"size\": 8}, \"mode\": \"markers+lines\", \"name\": \"solution\", \"x\": [0.44541156181872343, 0.5422195150045255], \"y\": [-0.02220562424387089, 0.0032893505707093118], \"type\": \"scatter\"}]}, {\"data\": [{\"marker\": {\"color\": \"blue\", \"size\": 8}, \"mode\": \"markers+lines\", \"name\": \"solution\", \"x\": [0.44569390297403033, 0.5412172653965825], \"y\": [-0.024664697040515826, 0.005281111281715765], \"type\": \"scatter\"}]}, {\"data\": [{\"marker\": {\"color\": \"blue\", \"size\": 8}, \"mode\": \"markers+lines\", \"name\": \"solution\", \"x\": [0.4460608564352691, 0.5401081332389882], \"y\": [-0.027071275280603577, 0.007224744067931181], \"type\": \"scatter\"}]}, {\"data\": [{\"marker\": {\"color\": \"blue\", \"size\": 8}, \"mode\": \"markers+lines\", \"name\": \"solution\", \"x\": [0.44650751685599227, 0.5388974122195339], \"y\": [-0.029418915491035532, 0.009114347630790356], \"type\": \"scatter\"}]}, {\"data\": [{\"marker\": {\"color\": \"blue\", \"size\": 8}, \"mode\": \"markers+lines\", \"name\": \"solution\", \"x\": [0.4470284978871066, 0.5375909206663069], \"y\": [-0.03170174367181623, 0.010944573354345646], \"type\": \"scatter\"}]}, {\"data\": [{\"marker\": {\"color\": \"blue\", \"size\": 8}, \"mode\": \"markers+lines\", \"name\": \"solution\", \"x\": [0.4476180022870638, 0.5361949279520951], \"y\": [-0.03391449518562608, 0.012710663724757203], \"type\": \"scatter\"}]}, {\"data\": [{\"marker\": {\"color\": \"blue\", \"size\": 8}, \"mode\": \"markers+lines\", \"name\": \"solution\", \"x\": [0.4482698945776444, 0.5347160782013313], \"y\": [-0.03605254407283453, 0.014408480423897752], \"type\": \"scatter\"}]}, {\"data\": [{\"marker\": {\"color\": \"blue\", \"size\": 8}, \"mode\": \"markers+lines\", \"name\": \"solution\", \"x\": [0.4489777746624685, 0.5331613129417602], \"y\": [-0.0381119218310281, 0.01603452213691309], \"type\": \"scatter\"}]}, {\"data\": [{\"marker\": {\"color\": \"blue\", \"size\": 8}, \"mode\": \"markers+lines\", \"name\": \"solution\", \"x\": [0.4497350509145454, 0.5315377942497628], \"y\": [-0.04008932596333964, 0.017585932373092833], \"type\": \"scatter\"}]}, {\"data\": [{\"marker\": {\"color\": \"blue\", \"size\": 8}, \"mode\": \"markers+lines\", \"name\": \"solution\", \"x\": [0.4505350113694053, 0.5298528298026854], \"y\": [-0.04198211883097529, 0.019060497825624446], \"type\": \"scatter\"}]}, {\"data\": [{\"marker\": {\"color\": \"blue\", \"size\": 8}, \"mode\": \"markers+lines\", \"name\": \"solution\", \"x\": [0.45137089182185697, 0.5281138010837813], \"y\": [-0.04378831753654852, 0.020456637983035646], \"type\": \"scatter\"}]}, {\"data\": [{\"marker\": {\"color\": \"blue\", \"size\": 8}, \"mode\": \"markers+lines\", \"name\": \"solution\", \"x\": [0.45223593980706644, 0.5263280957959682], \"y\": [-0.045506575713119134, 0.021773386850387953], \"type\": \"scatter\"}]}, {\"data\": [{\"marker\": {\"color\": \"blue\", \"size\": 8}, \"mode\": \"markers+lines\", \"name\": \"solution\", \"x\": [0.45312347364070105, 0.5245030453396557], \"y\": [-0.04713615819870807, 0.023010367741057657], \"type\": \"scatter\"}]}, {\"data\": [{\"marker\": {\"color\": \"blue\", \"size\": 8}, \"mode\": \"markers+lines\", \"name\": \"solution\", \"x\": [0.45402693588943577, 0.5226458680065833], \"y\": [-0.0486769096391852, 0.024167762161834996], \"type\": \"scatter\"}]}, {\"data\": [{\"marker\": {\"color\": \"blue\", \"size\": 8}, \"mode\": \"markers+lines\", \"name\": \"solution\", \"x\": [0.4549399408345307, 0.5207636183438359], \"y\": [-0.050129218087177865, 0.025246273838361533], \"type\": \"scatter\"}]}, {\"data\": [{\"marker\": {\"color\": \"blue\", \"size\": 8}, \"mode\": \"markers+lines\", \"name\": \"solution\", \"x\": [0.4558563156712659, 0.518863142956337], \"y\": [-0.051493974655603125, 0.026247088919071664], \"type\": \"scatter\"}]}, {\"data\": [{\"marker\": {\"color\": \"blue\", \"size\": 8}, \"mode\": \"markers+lines\", \"name\": \"solution\", \"x\": [0.45677013535109895, 0.516951042846936], \"y\": [-0.05277253024690565, 0.027171833358998348], \"type\": \"scatter\"}]}, {\"data\": [{\"marker\": {\"color\": \"blue\", \"size\": 8}, \"mode\": \"markers+lines\", \"name\": \"solution\", \"x\": [0.45767575111831665, 0.5150336422439586], \"y\": [-0.053966650318717, 0.028022528425549767], \"type\": \"scatter\"}]}, {\"data\": [{\"marker\": {\"color\": \"blue\", \"size\": 8}, \"mode\": \"markers+lines\", \"name\": \"solution\", \"x\": [0.4585678129168697, 0.5131169637385853], \"y\": [-0.0550784685690333, 0.028801545192134174], \"type\": \"scatter\"}]}, {\"data\": [{\"marker\": {\"color\": \"blue\", \"size\": 8}, \"mode\": \"markers+lines\", \"name\": \"solution\", \"x\": [0.45944128594537625, 0.5112067094492897], \"y\": [-0.05611044033441643, 0.029511558797477844], \"type\": \"scatter\"}]}, {\"data\": [{\"marker\": {\"color\": \"blue\", \"size\": 8}, \"mode\": \"markers+lines\", \"name\": \"solution\", \"x\": [0.46029146171929347, 0.5093082478473956], \"y\": [-0.05706529639793274, 0.03015550315332679], \"type\": \"scatter\"}]}, {\"data\": [{\"marker\": {\"color\": \"blue\", \"size\": 8}, \"mode\": \"markers+lines\", \"name\": \"solution\", \"x\": [0.4611139640600698, 0.5074266058154535], \"y\": [-0.05794599780370367, 0.030736526685023594], \"type\": \"scatter\"}]}, {\"data\": [{\"marker\": {\"color\": \"blue\", \"size\": 8}, \"mode\": \"markers+lines\", \"name\": \"solution\", \"x\": [0.461904750473338, 0.5055664654668738], \"y\": [-0.0587556921755227, 0.03125794959161573], \"type\": \"scatter\"}]}, {\"data\": [{\"marker\": {\"color\": \"blue\", \"size\": 8}, \"mode\": \"markers+lines\", \"name\": \"solution\", \"x\": [0.4626601094038681, 0.5037321652290101], \"y\": [-0.05949767194077857, 0.031723223017425625], \"type\": \"scatter\"}]}, {\"data\": [{\"marker\": {\"color\": \"blue\", \"size\": 8}, \"mode\": \"markers+lines\", \"name\": \"solution\", \"x\": [0.4633766538662483, 0.5019277046804139], \"y\": [-0.06017533477004637, 0.03213589043749679], \"type\": \"scatter\"}]}, {\"data\": [{\"marker\": {\"color\": \"blue\", \"size\": 8}, \"mode\": \"markers+lines\", \"name\": \"solution\", \"x\": [0.4640513119493326, 0.5001567526339478], \"y\": [-0.06079214645869972, 0.032499551476543716], \"type\": \"scatter\"}]}, {\"data\": [{\"marker\": {\"color\": \"blue\", \"size\": 8}, \"mode\": \"markers+lines\", \"name\": \"solution\", \"x\": [0.4646813146815808, 0.4984226579686036], \"y\": [-0.06135160640077414, 0.03281782830598344], \"type\": \"scatter\"}]}, {\"data\": [{\"marker\": {\"color\": \"blue\", \"size\": 8}, \"mode\": \"markers+lines\", \"name\": \"solution\", \"x\": [0.4652641817255981, 0.4967284627320699], \"y\": [-0.06185721573764056, 0.033094334696881805], \"type\": \"scatter\"}]}, {\"data\": [{\"marker\": {\"color\": \"blue\", \"size\": 8}, \"mode\": \"markers+lines\", \"name\": \"solution\", \"x\": [0.46579770534536324, 0.49507691706137413], \"y\": [-0.06231244820503609, 0.033332647748421686], \"type\": \"scatter\"}]}, {\"data\": [{\"marker\": {\"color\": \"blue\", \"size\": 8}, \"mode\": \"markers+lines\", \"name\": \"solution\", \"x\": [0.4662799330605371, 0.4934704954985395], \"y\": [-0.06272072365156552, 0.03353628226172265], \"type\": \"scatter\"}]}, {\"data\": [{\"marker\": {\"color\": \"blue\", \"size\": 8}, \"mode\": \"markers+lines\", \"name\": \"solution\", \"x\": [0.46670914937036034, 0.49191141431060437], \"y\": [-0.06308538415963158, 0.033708667687224046], \"type\": \"scatter\"}]}, {\"data\": [{\"marker\": {\"color\": \"blue\", \"size\": 8}, \"mode\": \"markers+lines\", \"name\": \"solution\", \"x\": [0.4670838568962739, 0.4904016494572503], \"y\": [-0.06340967266541908, 0.033853127539944745], \"type\": \"scatter\"}]}, {\"data\": [{\"marker\": {\"color\": \"blue\", \"size\": 8}, \"mode\": \"markers+lines\", \"name\": \"solution\", \"x\": [0.46740275725860364, 0.48894295488357564], \"y\": [-0.06369671394748415, 0.033972861150203405], \"type\": \"scatter\"}]}, {\"data\": [{\"marker\": {\"color\": \"blue\", \"size\": 8}, \"mode\": \"markers+lines\", \"name\": \"solution\", \"x\": [0.4676647319693276, 0.48753688084934693], \"y\": [-0.06394949783306125, 0.034070927597211434], \"type\": \"scatter\"}]}, {\"data\": [{\"marker\": {\"color\": \"blue\", \"size\": 8}, \"mode\": \"markers+lines\", \"name\": \"solution\", \"x\": [0.46786882359079357, 0.486184792038647], \"y\": [-0.06417086445674214, 0.034150231658696274], \"type\": \"scatter\"}]}, {\"data\": [{\"marker\": {\"color\": \"blue\", \"size\": 8}, \"mode\": \"markers+lines\", \"name\": \"solution\", \"x\": [0.4680142173798195, 0.48488788522468046], \"y\": [-0.06436349139704849, 0.03421351160073046], \"type\": \"scatter\"}]}, {\"data\": [{\"marker\": {\"color\": \"blue\", \"size\": 8}, \"mode\": \"markers+lines\", \"name\": \"solution\", \"x\": [0.46810022360829134, 0.4836472062931917], \"y\": [-0.06452988251197876, 0.034263328627608274], \"type\": \"scatter\"}]}, {\"data\": [{\"marker\": {\"color\": \"blue\", \"size\": 8}, \"mode\": \"markers+lines\", \"name\": \"solution\", \"x\": [0.4681262607254423, 0.48246366645423217], \"y\": [-0.06467235829425667, 0.0343020578113321], \"type\": \"scatter\"}]}, {\"data\": [{\"marker\": {\"color\": \"blue\", \"size\": 8}, \"mode\": \"markers+lines\", \"name\": \"solution\", \"x\": [0.4680918395036288, 0.4813380574957192], \"y\": [-0.06479304757018979, 0.03433188032349783], \"type\": \"scatter\"}]}, {\"data\": [{\"marker\": {\"color\": \"blue\", \"size\": 8}, \"mode\": \"markers+lines\", \"name\": \"solution\", \"x\": [0.4679965482886804, 0.48027106595329094], \"y\": [-0.06489388037225578, 0.03435477679860235], \"type\": \"scatter\"}]}, {\"data\": [{\"marker\": {\"color\": \"blue\", \"size\": 8}, \"mode\": \"markers+lines\", \"name\": \"solution\", \"x\": [0.46784003945779284, 0.4792632860893906], \"y\": [-0.06497658182432264, 0.03437252166659391], \"type\": \"scatter\"}]}, {\"data\": [{\"marker\": {\"color\": \"blue\", \"size\": 8}, \"mode\": \"markers+lines\", \"name\": \"solution\", \"x\": [0.46762201717238877, 0.4783152315903832], \"y\": [-0.06504266688938469, 0.03438667830345739], \"type\": \"scatter\"}]}, {\"data\": [{\"marker\": {\"color\": \"blue\", \"size\": 8}, \"mode\": \"markers+lines\", \"name\": \"solution\", \"x\": [0.4673422265002617, 0.477427345903952], \"y\": [-0.06509343584252257, 0.03439859486143973], \"type\": \"scatter\"}]}, {\"data\": [{\"marker\": {\"color\": \"blue\", \"size\": 8}, \"mode\": \"markers+lines\", \"name\": \"solution\", \"x\": [0.46700044397047713, 0.4766000111502137], \"y\": [-0.06512997034618864, 0.03440940065489327], \"type\": \"scatter\"}]}, {\"data\": [{\"marker\": {\"color\": \"blue\", \"size\": 8}, \"mode\": \"markers+lines\", \"name\": \"solution\", \"x\": [0.46659646961572177, 0.4758335555491454], \"y\": [-0.06515313002064822, 0.03442000299341815], \"type\": \"scatter\"}]}, {\"data\": [{\"marker\": {\"color\": \"blue\", \"size\": 8}, \"mode\": \"markers+lines\", \"name\": \"solution\", \"x\": [0.4661301205498222, 0.47512825931428393], \"y\": [-0.06516354941928358, 0.03443108437083125], \"type\": \"scatter\"}]}, {\"data\": [{\"marker\": {\"color\": \"blue\", \"size\": 8}, \"mode\": \"markers+lines\", \"name\": \"solution\", \"x\": [0.4656012261227313, 0.4744843589685073], \"y\": [-0.0651616353363462, 0.03444309993633506], \"type\": \"scatter\"}]}, {\"data\": [{\"marker\": {\"color\": \"blue\", \"size\": 8}, \"mode\": \"markers+lines\", \"name\": \"solution\", \"x\": [0.4650096246911026, 0.47390205004234554], \"y\": [-0.06514756439351023, 0.034456275192992214], \"type\": \"scatter\"}]}, {\"data\": [{\"marker\": {\"color\": \"blue\", \"size\": 8}, \"mode\": \"markers+lines\", \"name\": \"solution\", \"x\": [0.4643551620393285, 0.47338148811900754], \"y\": [-0.06512128087115275, 0.03447060388814668], \"type\": \"scatter\"}]}, {\"data\": [{\"marker\": {\"color\": \"blue\", \"size\": 8}, \"mode\": \"markers+lines\", \"name\": \"solution\", \"x\": [0.4636376914832603, 0.47292278819350253], \"y\": [-0.06508249477059828, 0.03448584608070667], \"type\": \"scatter\"}]}, {\"data\": [{\"marker\": {\"color\": \"blue\", \"size\": 8}, \"mode\": \"markers+lines\", \"name\": \"solution\", \"x\": [0.46285707568640777, 0.47252602231622753], \"y\": [-0.06503068011456571, 0.03450152639116477], \"type\": \"scatter\"}]}, {\"data\": [{\"marker\": {\"color\": \"blue\", \"size\": 8}, \"mode\": \"markers+lines\", \"name\": \"solution\", \"x\": [0.46201319021584986, 0.47219121549457577], \"y\": [-0.0649650735146947, 0.034516932461828874], \"type\": \"scatter\"}]}, {\"data\": [{\"marker\": {\"color\": \"blue\", \"size\": 8}, \"mode\": \"markers+lines\", \"name\": \"solution\", \"x\": [0.4611059288619883, 0.4719183398298791], \"y\": [-0.06488467305725401, 0.03453111367692054], \"type\": \"scatter\"}]}, {\"data\": [{\"marker\": {\"color\": \"blue\", \"size\": 8}, \"mode\": \"markers+lines\", \"name\": \"solution\", \"x\": [0.46013521074223357, 0.4717073068717485], \"y\": [-0.06478823758087646, 0.03454288021489557], \"type\": \"scatter\"}]}, {\"data\": [{\"marker\": {\"color\": \"blue\", \"size\": 8}, \"mode\": \"markers+lines\", \"name\": \"solution\", \"x\": [0.45910098920330167, 0.4715579581780384], \"y\": [-0.064674286443332, 0.03455080252846271], \"type\": \"scatter\"}]}, {\"data\": [{\"marker\": {\"color\": \"blue\", \"size\": 8}, \"mode\": \"markers+lines\", \"name\": \"solution\", \"x\": [0.4580032625295956, 0.4714700540766715], \"y\": [-0.06454109989781352, 0.03455321137119139], \"type\": \"scatter\"}]}, {\"data\": [{\"marker\": {\"color\": \"blue\", \"size\": 8}, \"mode\": \"markers+lines\", \"name\": \"solution\", \"x\": [0.4568420864556961, 0.47144326063586334], \"y\": [-0.06438672022279504, 0.03454819851313418], \"type\": \"scatter\"}]}, {\"data\": [{\"marker\": {\"color\": \"blue\", \"size\": 8}, \"mode\": \"markers+lines\", \"name\": \"solution\", \"x\": [0.45561758846885664, 0.47147713486232706], \"y\": [-0.06420895377299832, 0.034533618311313095], \"type\": \"scatter\"}]}, {\"data\": [{\"marker\": {\"color\": \"blue\", \"size\": 8}, \"mode\": \"markers+lines\", \"name\": \"solution\", \"x\": [0.45432998387214524, 0.4715711081632561], \"y\": [-0.0640053741420717, 0.03450709032393101], \"type\": \"scatter\"}]}, {\"data\": [{\"marker\": {\"color\": \"blue\", \"size\": 8}, \"mode\": \"markers+lines\", \"name\": \"solution\", \"x\": [0.4529795935600687, 0.4717244681277162], \"y\": [-0.06377332664986626, 0.034466003179393884], \"type\": \"scatter\"}]}, {\"data\": [{\"marker\": {\"color\": \"blue\", \"size\": 8}, \"mode\": \"markers+lines\", \"name\": \"solution\", \"x\": [0.4515668634357598, 0.47193633870692264], \"y\": [-0.06350993438821716, 0.03440751993219475], \"type\": \"scatter\"}]}, {\"data\": [{\"marker\": {\"color\": \"blue\", \"size\": 8}, \"mode\": \"markers+lines\", \"name\": \"solution\", \"x\": [0.4500923853717259, 0.4722056589011132], \"y\": [-0.06321210607833694, 0.03432858515685415], \"type\": \"scatter\"}]}, {\"data\": [{\"marker\": {\"color\": \"blue\", \"size\": 8}, \"mode\": \"markers+lines\", \"name\": \"solution\", \"x\": [0.44855691958444677, 0.472531160093661], \"y\": [-0.06287654600961695, 0.034225934047752676], \"type\": \"scatter\"}]}, {\"data\": [{\"marker\": {\"color\": \"blue\", \"size\": 8}, \"mode\": \"markers+lines\", \"name\": \"solution\", \"x\": [0.4469614182565223, 0.47291134221094905], \"y\": [-0.06249976634301994, 0.03409610380604237], \"type\": \"scatter\"}]}, {\"data\": [{\"marker\": {\"color\": \"blue\", \"size\": 8}, \"mode\": \"markers+lines\", \"name\": \"solution\", \"x\": [0.44530705019847294, 0.47334444892948857], \"y\": [-0.06207810207140729, 0.0339354476039705], \"type\": \"scatter\"}]}, {\"data\": [{\"marker\": {\"color\": \"blue\", \"size\": 8}, \"mode\": \"markers+lines\", \"name\": \"solution\", \"x\": [0.4435952262956658, 0.4738284421998229], \"y\": [-0.061607728933032874, 0.03374015142085832], \"type\": \"scatter\"}]}, {\"data\": [{\"marker\": {\"color\": \"blue\", \"size\": 8}, \"mode\": \"markers+lines\", \"name\": \"solution\", \"x\": [0.44182762543431836, 0.47436097640977587], \"y\": [-0.06108468457187917, 0.03350625404249346], \"type\": \"scatter\"}]}, {\"data\": [{\"marker\": {\"color\": \"blue\", \"size\": 8}, \"mode\": \"markers+lines\", \"name\": \"solution\", \"x\": [0.4400062205444541, 0.47493937256723284], \"y\": [-0.060504893228222036, 0.03322967050554975], \"type\": \"scatter\"}]}, {\"data\": [{\"marker\": {\"color\": \"blue\", \"size\": 8}, \"mode\": \"markers+lines\", \"name\": \"solution\", \"x\": [0.43813330433760966, 0.4755605929443106], \"y\": [-0.059864194223390524, 0.0329062192494745], \"type\": \"scatter\"}]}, {\"data\": [{\"marker\": {\"color\": \"blue\", \"size\": 8}, \"mode\": \"markers+lines\", \"name\": \"solution\", \"x\": [0.4362115142538692, 0.47622121668961237], \"y\": [-0.05915837447266126, 0.03253165320863541], \"type\": \"scatter\"}]}, {\"data\": [{\"marker\": {\"color\": \"blue\", \"size\": 8}, \"mode\": \"markers+lines\", \"name\": \"solution\", \"x\": [0.4342438560675864, 0.47691741698208573], \"y\": [-0.058383205218061195, 0.03210169503590908], \"type\": \"scatter\"}]}, {\"data\": [{\"marker\": {\"color\": \"blue\", \"size\": 8}, \"mode\": \"markers+lines\", \"name\": \"solution\", \"x\": [0.4322337255354932, 0.47764494036721267], \"y\": [-0.057534483117012564, 0.031612076593830155], \"type\": \"scatter\"}]}, {\"data\": [{\"marker\": {\"color\": \"blue\", \"size\": 8}, \"mode\": \"markers+lines\", \"name\": \"solution\", \"x\": [0.43018492740675013, 0.4783990889818513], \"y\": [-0.05660807575176209, 0.031058582779482882], \"type\": \"scatter\"}]}, {\"data\": [{\"marker\": {\"color\": \"blue\", \"size\": 8}, \"mode\": \"markers+lines\", \"name\": \"solution\", \"x\": [0.42810169105430307, 0.47917470643549254], \"y\": [-0.055599971537053414, 0.030437099663224457], \"type\": \"scatter\"}]}, {\"data\": [{\"marker\": {\"color\": \"blue\", \"size\": 8}, \"mode\": \"markers+lines\", \"name\": \"solution\", \"x\": [0.4259886819336336, 0.47996616816995], \"y\": [-0.054506333898437405, 0.029743666818055042], \"type\": \"scatter\"}]}, {\"data\": [{\"marker\": {\"color\": \"blue\", \"size\": 8}, \"mode\": \"markers+lines\", \"name\": \"solution\", \"x\": [0.42385100803212034, 0.48076737716294604], \"y\": [-0.053323559470260594, 0.02897453359534735], \"type\": \"scatter\"}]}, {\"data\": [{\"marker\": {\"color\": \"blue\", \"size\": 8}, \"mode\": \"markers+lines\", \"name\": \"solution\", \"x\": [0.4216942204438255, 0.48157176586949413], \"y\": [-0.05204833992056569, 0.028126218963615855], \"type\": \"scatter\"}]}, {\"data\": [{\"marker\": {\"color\": \"blue\", \"size\": 8}, \"mode\": \"markers+lines\", \"name\": \"solution\", \"x\": [0.41952430719515893, 0.4823723053036605], \"y\": [-0.05067772685046669, 0.027195574370676174], \"type\": \"scatter\"}]}, {\"data\": [{\"marker\": {\"color\": \"blue\", \"size\": 8}, \"mode\": \"markers+lines\", \"name\": \"solution\", \"x\": [0.4173476794615997, 0.4831615221469798], \"y\": [-0.049209199039578114, 0.026179848917502697], \"type\": \"scatter\"}]}, {\"data\": [{\"marker\": {\"color\": \"blue\", \"size\": 8}, \"mode\": \"markers+lines\", \"name\": \"solution\", \"x\": [0.4151711493598286, 0.48393152472292894], \"y\": [-0.04764073111956678, 0.0250767559471195], \"type\": \"scatter\"}]}, {\"data\": [{\"marker\": {\"color\": \"blue\", \"size\": 8}, \"mode\": \"markers+lines\", \"name\": \"solution\", \"x\": [0.4130018985787252, 0.4846740385937239], \"y\": [-0.04597086255911499, 0.023884539958177776], \"type\": \"scatter\"}]}, {\"data\": [{\"marker\": {\"color\": \"blue\", \"size\": 8}, \"mode\": \"markers+lines\", \"name\": \"solution\", \"x\": [0.41084743723197503, 0.485380452410809], \"y\": [-0.04419876564153305, 0.022602042556386655], \"type\": \"scatter\"}]}, {\"data\": [{\"marker\": {\"color\": \"blue\", \"size\": 8}, \"mode\": \"markers+lines\", \"name\": \"solution\", \"x\": [0.40871555247916197, 0.4860418744788925], \"y\": [-0.04232431091886344, 0.021228765965444915], \"type\": \"scatter\"}]}, {\"data\": [{\"marker\": {\"color\": \"blue\", \"size\": 8}, \"mode\": \"markers+lines\", \"name\": \"solution\", \"x\": [0.406614246674652, 0.4866492002716188], \"y\": [-0.0403481284435555, 0.01976493244231417], \"type\": \"scatter\"}]}, {\"data\": [{\"marker\": {\"color\": \"blue\", \"size\": 8}, \"mode\": \"markers+lines\", \"name\": \"solution\", \"x\": [0.4045516650659406, 0.4871931908632075], \"y\": [-0.03827166292264744, 0.018211537791255963], \"type\": \"scatter\"}]}, {\"data\": [{\"marker\": {\"color\": \"blue\", \"size\": 8}, \"mode\": \"markers+lines\", \"name\": \"solution\", \"x\": [0.4025360133744971, 0.4876645619155702], \"y\": [-0.03609722082363754, 0.0165703970603948], \"type\": \"scatter\"}]}, {\"data\": [{\"marker\": {\"color\": \"blue\", \"size\": 8}, \"mode\": \"markers+lines\", \"name\": \"solution\", \"x\": [0.40057546594820675, 0.4880540824889474], \"y\": [-0.03382800740088454, 0.014844180448220202], \"type\": \"scatter\"}]}, {\"data\": [{\"marker\": {\"color\": \"blue\", \"size\": 8}, \"mode\": \"markers+lines\", \"name\": \"solution\", \"x\": [0.39867806556692126, 0.4883526825346498], \"y\": [-0.03146815162190396, 0.013036437460328924], \"type\": \"scatter\"}]}, {\"data\": [{\"marker\": {\"color\": \"blue\", \"size\": 8}, \"mode\": \"markers+lines\", \"name\": \"solution\", \"x\": [0.39685161639841376, 0.4885515674945044], \"y\": [-0.02902271706901753, 0.011151607452975262], \"type\": \"scatter\"}]}, {\"data\": [{\"marker\": {\"color\": \"blue\", \"size\": 8}, \"mode\": \"markers+lines\", \"name\": \"solution\", \"x\": [0.39510357202335306, 0.4886423379916362], \"y\": [-0.026497697085893897, 0.009195014891534865], \"type\": \"scatter\"}]}, {\"data\": [{\"marker\": {\"color\": \"blue\", \"size\": 8}, \"mode\": \"markers+lines\", \"name\": \"solution\", \"x\": [0.3934409208523016, 0.4886171121746653], \"y\": [-0.023899992738977673, 0.007172847946732043], \"type\": \"scatter\"}]}, {\"data\": [{\"marker\": {\"color\": \"blue\", \"size\": 8}, \"mode\": \"markers+lines\", \"name\": \"solution\", \"x\": [0.3918700716189256, 0.4884686478996494], \"y\": [-0.021237372573137524, 0.005092119451621642], \"type\": \"scatter\"}]}, {\"data\": [{\"marker\": {\"color\": \"blue\", \"size\": 8}, \"mode\": \"markers+lines\", \"name\": \"solution\", \"x\": [0.39039674192298374, 0.48819046163101176], \"y\": [-0.01851841365395548, 0.0029606097426498022], \"type\": \"scatter\"}]}, {\"data\": [{\"marker\": {\"color\": \"blue\", \"size\": 8}, \"mode\": \"markers+lines\", \"name\": \"solution\", \"x\": [0.38902585298552605, 0.4877769407442771], \"y\": [-0.015752423991904824, 0.0007867914948064582], \"type\": \"scatter\"}]}, {\"data\": [{\"marker\": {\"color\": \"blue\", \"size\": 8}, \"mode\": \"markers+lines\", \"name\": \"solution\", \"x\": [0.38776143384099576, 0.4872234458470165], \"y\": [-0.012949347112738516, -0.0014202626890511658], \"type\": \"scatter\"}]}, {\"data\": [{\"marker\": {\"color\": \"blue\", \"size\": 8}, \"mode\": \"markers+lines\", \"name\": \"solution\", \"x\": [0.3866065381061839, 0.4865263998214067], \"y\": [-0.010119650241249754, -0.00365098849283145], \"type\": \"scatter\"}]}, {\"data\": [{\"marker\": {\"color\": \"blue\", \"size\": 8}, \"mode\": \"markers+lines\", \"name\": \"solution\", \"x\": [0.38556317622255365, 0.48568336054460925], \"y\": [-0.007274198262340277, -0.005895451789104384], \"type\": \"scatter\"}]}, {\"data\": [{\"marker\": {\"color\": \"blue\", \"size\": 8}, \"mode\": \"markers+lines\", \"name\": \"solution\", \"x\": [0.38463226566580855, 0.4846930746624977], \"y\": [-0.004424116269720052, -0.008143481486687285], \"type\": \"scatter\"}]}, {\"data\": [{\"marker\": {\"color\": \"blue\", \"size\": 8}, \"mode\": \"markers+lines\", \"name\": \"solution\", \"x\": [0.38381360106691326, 0.4835555103655584], \"y\": [-0.0015806440636069708, -0.010384810050903526], \"type\": \"scatter\"}]}, {\"data\": [{\"marker\": {\"color\": \"blue\", \"size\": 8}, \"mode\": \"markers+lines\", \"name\": \"solution\", \"x\": [0.3831058455171058, 0.4822718678170915], \"y\": [0.001245013626650676, -0.012609218025215767], \"type\": \"scatter\"}]}, {\"data\": [{\"marker\": {\"color\": \"blue\", \"size\": 8}, \"mode\": \"markers+lines\", \"name\": \"solution\", \"x\": [0.38250654357221003, 0.4808445666751839], \"y\": [0.0040418371739367, -0.0148066786494757], \"type\": \"scatter\"}]}, {\"data\": [{\"marker\": {\"color\": \"blue\", \"size\": 8}, \"mode\": \"markers+lines\", \"name\": \"solution\", \"x\": [0.3820121556737265, 0.47927721098438886], \"y\": [0.006799138262676279, -0.016967498621333788], \"type\": \"scatter\"}]}, {\"data\": [{\"marker\": {\"color\": \"blue\", \"size\": 8}, \"mode\": \"markers+lines\", \"name\": \"solution\", \"x\": [0.3816181129151097, 0.47757453253904586], \"y\": [0.009506698341568615, -0.01908245118919141], \"type\": \"scatter\"}]}, {\"data\": [{\"marker\": {\"color\": \"blue\", \"size\": 8}, \"mode\": \"markers+lines\", \"name\": \"solution\", \"x\": [0.38131889035033306, 0.4757423145864046], \"y\": [0.01215489571396143, -0.021142898088252163], \"type\": \"scatter\"}]}, {\"data\": [{\"marker\": {\"color\": \"blue\", \"size\": 8}, \"mode\": \"markers+lines\", \"name\": \"solution\", \"x\": [0.3811080964122049, 0.4737872983981808], \"y\": [0.014734818152311816, -0.02314089731251313], \"type\": \"scatter\"}]}, {\"data\": [{\"marker\": {\"color\": \"blue\", \"size\": 8}, \"mode\": \"markers+lines\", \"name\": \"solution\", \"x\": [0.38097857551466996, 0.4717170757573934], \"y\": [0.017238358543283434, -0.02506929432025972], \"type\": \"scatter\"}]}, {\"data\": [{\"marker\": {\"color\": \"blue\", \"size\": 8}, \"mode\": \"markers+lines\", \"name\": \"solution\", \"x\": [0.38092252057923787, 0.46953997075939546], \"y\": [0.01965829177445182, -0.026921794956460722], \"type\": \"scatter\"}]}, {\"data\": [{\"marker\": {\"color\": \"blue\", \"size\": 8}, \"mode\": \"markers+lines\", \"name\": \"solution\", \"x\": [0.38093159206014293, 0.4672649145019372], \"y\": [0.021988331815367343, -0.028693019096835356], \"type\": \"scatter\"}]}, {\"data\": [{\"marker\": {\"color\": \"blue\", \"size\": 8}, \"mode\": \"markers+lines\", \"name\": \"solution\", \"x\": [0.3809970400422276, 0.4649013162425676], \"y\": [0.024223168679052033, -0.03037853473087281], \"type\": \"scatter\"}]}, {\"data\": [{\"marker\": {\"color\": \"blue\", \"size\": 8}, \"mode\": \"markers+lines\", \"name\": \"solution\", \"x\": [0.38110982613484456, 0.4624589344483233], \"y\": [0.026358485634181333, -0.03197487286529936], \"type\": \"scatter\"}]}, {\"data\": [{\"marker\": {\"color\": \"blue\", \"size\": 8}, \"mode\": \"markers+lines\", \"name\": \"solution\", \"x\": [0.381260742160549, 0.45994775087726325], \"y\": [0.028390957640553258, -0.03347952421378118], \"type\": \"scatter\"}]}, {\"data\": [{\"marker\": {\"color\": \"blue\", \"size\": 8}, \"mode\": \"markers+lines\", \"name\": \"solution\", \"x\": [0.3814405230097116, 0.457377850444611], \"y\": [0.030318232478013723, -0.03489091912081499], \"type\": \"scatter\"}]}, {\"data\": [{\"marker\": {\"color\": \"blue\", \"size\": 8}, \"mode\": \"markers+lines\", \"name\": \"solution\", \"x\": [0.38163995146982055, 0.4547593091711268], \"y\": [0.03213889641897456, -0.03620839253542618], \"type\": \"scatter\"}]}, {\"data\": [{\"marker\": {\"color\": \"blue\", \"size\": 8}, \"mode\": \"markers+lines\", \"name\": \"solution\", \"x\": [0.3818499533101424, 0.4521020920202933], \"y\": [0.033852426553735576, -0.03743213610032064], \"type\": \"scatter\"}]}, {\"data\": [{\"marker\": {\"color\": \"blue\", \"size\": 8}, \"mode\": \"markers+lines\", \"name\": \"solution\", \"x\": [0.3820616813804544, 0.44941596193338273], \"y\": [0.03545913202081133, -0.0385631395592326], \"type\": \"scatter\"}]}, {\"data\": [{\"marker\": {\"color\": \"blue\", \"size\": 8}, \"mode\": \"markers+lines\", \"name\": \"solution\", \"x\": [0.38226658794309465, 0.4467104008921987], \"y\": [0.03696008643239694, -0.03960312372011486], \"type\": \"scatter\"}]}, {\"data\": [{\"marker\": {\"color\": \"blue\", \"size\": 8}, \"mode\": \"markers+lines\", \"name\": \"solution\", \"x\": [0.3824564848822612, 0.4439945433974014], \"y\": [0.038357053733202334, -0.04055446715932928], \"type\": \"scatter\"}]}, {\"data\": [{\"marker\": {\"color\": \"blue\", \"size\": 8}, \"mode\": \"markers+lines\", \"name\": \"solution\", \"x\": [0.38262359181051087, 0.44127712235919614], \"y\": [0.03965240960660159, -0.041420128729091996], \"type\": \"scatter\"}]}, {\"data\": [{\"marker\": {\"color\": \"blue\", \"size\": 8}, \"mode\": \"markers+lines\", \"name\": \"solution\", \"x\": [0.3827605724121447, 0.43856642706469423], \"y\": [0.040849060363410336, -0.04220356775463617], \"type\": \"scatter\"}]}, {\"data\": [{\"marker\": {\"color\": \"blue\", \"size\": 8}, \"mode\": \"markers+lines\", \"name\": \"solution\", \"x\": [0.3828605596235577, 0.4358702726155879], \"y\": [0.04195036103289958, -0.04290866359568347], \"type\": \"scatter\"}]}, {\"data\": [{\"marker\": {\"color\": \"blue\", \"size\": 8}, \"mode\": \"markers+lines\", \"name\": \"solution\", \"x\": [0.38291717045232593, 0.43319598002018195], \"y\": [0.04296003413848124, -0.043539636014045], \"type\": \"scatter\"}]}, {\"data\": [{\"marker\": {\"color\": \"blue\", \"size\": 8}, \"mode\": \"markers+lines\", \"name\": \"solution\", \"x\": [0.38292451138324146, 0.4305503659716425], \"y\": [0.04388209039523044, -0.04410096754852248], \"type\": \"scatter\"}]}, {\"data\": [{\"marker\": {\"color\": \"blue\", \"size\": 8}, \"mode\": \"markers+lines\", \"name\": \"solution\", \"x\": [0.3828771754160632, 0.42793974124391276], \"y\": [0.044720752323930545, -0.0445973288603618], \"type\": \"scatter\"}]}, {\"data\": [{\"marker\": {\"color\": \"blue\", \"size\": 8}, \"mode\": \"markers+lines\", \"name\": \"solution\", \"x\": [0.3827702318329421, 0.4253699165812648], \"y\": [0.04548038154504743, -0.04503350778552595], \"type\": \"scatter\"}]}, {\"data\": [{\"marker\": {\"color\": \"blue\", \"size\": 8}, \"mode\": \"markers+lines\", \"name\": \"solution\", \"x\": [0.382599209810339, 0.4228462149395614], \"y\": [0.04616541030205269, -0.04541434261995703], \"type\": \"scatter\"}]}, {\"data\": [{\"marker\": {\"color\": \"blue\", \"size\": 8}, \"mode\": \"markers+lines\", \"name\": \"solution\", \"x\": [0.382360076977823, 0.4203734889496484], \"y\": [0.04678027757088102, -0.04574465997476376], \"type\": \"scatter\"}]}, {\"data\": [{\"marker\": {\"color\": \"blue\", \"size\": 8}, \"mode\": \"markers+lines\", \"name\": \"solution\", \"x\": [0.3820492139911179, 0.4179561425089137], \"y\": [0.04732936994337799, -0.046029217372217664], \"type\": \"scatter\"}]}, {\"data\": [{\"marker\": {\"color\": \"blue\", \"size\": 8}, \"mode\": \"markers+lines\", \"name\": \"solution\", \"x\": [0.38166338613526385, 0.4155981554596098], \"y\": [0.047816967328361076, -0.04627265061155643], \"type\": \"scatter\"}]}, {\"data\": [{\"marker\": {\"color\": \"blue\", \"size\": 8}, \"mode\": \"markers+lines\", \"name\": \"solution\", \"x\": [0.38119971291117527, 0.4133031103764507], \"y\": [0.04824719339433377, -0.0464794258158547], \"type\": \"scatter\"}]}, {\"data\": [{\"marker\": {\"color\": \"blue\", \"size\": 8}, \"mode\": \"markers+lines\", \"name\": \"solution\", \"x\": [0.38065563648981193, 0.411074220556537], \"y\": [0.04862397058217135, -0.04665379597688233], \"type\": \"scatter\"}]}, {\"data\": [{\"marker\": {\"color\": \"blue\", \"size\": 8}, \"mode\": \"markers+lines\", \"name\": \"solution\", \"x\": [0.38002888984645256, 0.408914358377903], \"y\": [0.048950979442954984, -0.046799761742695664], \"type\": \"scatter\"}]}, {\"data\": [{\"marker\": {\"color\": \"blue\", \"size\": 8}, \"mode\": \"markers+lines\", \"name\": \"solution\", \"x\": [0.37931746531623484, 0.40682608326580655], \"y\": [0.04923162200400044, -0.04692103614118514], \"type\": \"scatter\"}]}, {\"data\": [{\"marker\": {\"color\": \"blue\", \"size\": 8}, \"mode\": \"markers+lines\", \"name\": \"solution\", \"x\": [0.3785195842435508, 0.4048116685759074], \"y\": [0.049468988833312175, -0.04702101290028945], \"type\": \"scatter\"}]}, {\"data\": [{\"marker\": {\"color\": \"blue\", \"size\": 8}, \"mode\": \"markers+lines\", \"name\": \"solution\", \"x\": [0.377633668333778, 0.4028731267689865], \"y\": [0.04966582945749585, -0.04710273801043711], \"type\": \"scatter\"}]}, {\"data\": [{\"marker\": {\"color\": \"blue\", \"size\": 8}, \"mode\": \"markers+lines\", \"name\": \"solution\", \"x\": [0.3766583132573138, 0.4010122323117229], \"y\": [0.04982452578896639, -0.047168884175420187], \"type\": \"scatter\"}]}, {\"data\": [{\"marker\": {\"color\": \"blue\", \"size\": 8}, \"mode\": \"markers+lines\", \"name\": \"solution\", \"x\": [0.37559226500358245, 0.39923054179168255], \"y\": [0.049947068233622535, -0.0472217278129095], \"type\": \"scatter\"}]}, {\"data\": [{\"marker\": {\"color\": \"blue\", \"size\": 8}, \"mode\": \"markers+lines\", \"name\": \"solution\", \"x\": [0.3744343994367496, 0.397529410781962], \"y\": [0.05003503417872474, -0.047263128293920535], \"type\": \"scatter\"}]}, {\"data\": [{\"marker\": {\"color\": \"blue\", \"size\": 8}, \"mode\": \"markers+lines\", \"name\": \"solution\", \"x\": [0.3731837054650506, 0.3959100070321788], \"y\": [0.05008956860140749, -0.04729450915065505], \"type\": \"scatter\"}]}, {\"data\": [{\"marker\": {\"color\": \"blue\", \"size\": 8}, \"mode\": \"markers+lines\", \"name\": \"solution\", \"x\": [0.3718392722012578, 0.39437331959840455], \"y\": [0.050111366590157545, -0.047316841033369895], \"type\": \"scatter\"}]}, {\"data\": [{\"marker\": {\"color\": \"blue\", \"size\": 8}, \"mode\": \"markers+lines\", \"name\": \"solution\", \"x\": [0.3704002804618905, 0.392920163556243], \"y\": [0.05010065763394986, -0.04733062625852343], \"type\": \"scatter\"}]}, {\"data\": [{\"marker\": {\"color\": \"blue\", \"size\": 8}, \"mode\": \"markers+lines\", \"name\": \"solution\", \"x\": [0.3688659989259591, 0.39155117996995753], \"y\": [0.05005719160594172, -0.04733588486181178], \"type\": \"scatter\"}]}, {\"data\": [{\"marker\": {\"color\": \"blue\", \"size\": 8}, \"mode\": \"markers+lines\", \"name\": \"solution\", \"x\": [0.3672357852486813, 0.3902668308180577], \"y\": [0.04998022645017219, -0.047332142150311965], \"type\": \"scatter\"}]}, {\"data\": [{\"marker\": {\"color\": \"blue\", \"size\": 8}, \"mode\": \"markers+lines\", \"name\": \"solution\", \"x\": [0.3655090923997345, 0.3890673886040984], \"y\": [0.04986851767012811, -0.04731841783731263], \"type\": \"scatter\"}]}, {\"data\": [{\"marker\": {\"color\": \"blue\", \"size\": 8}, \"mode\": \"markers+lines\", \"name\": \"solution\", \"x\": [0.3636854804669372, 0.3879529204129653], \"y\": [0.0497203098168313, -0.04729321694102176], \"type\": \"scatter\"}]}, {\"data\": [{\"marker\": {\"color\": \"blue\", \"size\": 8}, \"mode\": \"markers+lines\", \"name\": \"solution\", \"x\": [0.36176463413219695, 0.3869232662102683], \"y\": [0.04953333028068258, -0.047254522733571745], \"type\": \"scatter\"}]}, {\"data\": [{\"marker\": {\"color\": \"blue\", \"size\": 8}, \"mode\": \"markers+lines\", \"name\": \"solution\", \"x\": [0.35974638598425973, 0.38597801122859143], \"y\": [0.04930478580488923, -0.04719979213877788], \"type\": \"scatter\"}]}, {\"data\": [{\"marker\": {\"color\": \"blue\", \"size\": 8}, \"mode\": \"markers+lines\", \"name\": \"solution\", \"x\": [0.35763074577909537, 0.3851164523424891], \"y\": [0.04903136225783157, -0.04712595409482887], \"type\": \"scatter\"}]}, {\"data\": [{\"marker\": {\"color\": \"blue\", \"size\": 8}, \"mode\": \"markers+lines\", \"name\": \"solution\", \"x\": [0.3554179356902658, 0.3843375584077782], \"y\": [0.048709228325709675, -0.04702941151996604], \"type\": \"scatter\"}]}, {\"data\": [{\"marker\": {\"color\": \"blue\", \"size\": 8}, \"mode\": \"markers+lines\", \"name\": \"solution\", \"x\": [0.3531084315047556, 0.38363992463358965], \"y\": [0.0483340439132266, -0.04690604764316504], \"type\": \"scatter\"}]}, {\"data\": [{\"marker\": {\"color\": \"blue\", \"size\": 8}, \"mode\": \"markers+lines\", \"name\": \"solution\", \"x\": [0.3507030096107546, 0.38302172117170996], \"y\": [0.04790097416619331, -0.046751237585108504], \"type\": \"scatter\"}]}, {\"data\": [{\"marker\": {\"color\": \"blue\", \"size\": 8}, \"mode\": \"markers+lines\", \"name\": \"solution\", \"x\": [0.34820279948897465, 0.38248063625096623], \"y\": [0.04740471015220176, -0.04655986619371974], \"type\": \"scatter\"}]}, {\"data\": [{\"marker\": {\"color\": \"blue\", \"size\": 8}, \"mode\": \"markers+lines\", \"name\": \"solution\", \"x\": [0.3456093412545289, 0.3820138143587476], \"y\": [0.04683949734928134, -0.046326353248585514], \"type\": \"scatter\"}]}, {\"data\": [{\"marker\": {\"color\": \"blue\", \"size\": 8}, \"mode\": \"markers+lines\", \"name\": \"solution\", \"x\": [0.3429246475986998, 0.3816177901809898], \"y\": [0.04619917319185148, -0.04604468724389101], \"type\": \"scatter\"}]}, {\"data\": [{\"marker\": {\"color\": \"blue\", \"size\": 8}, \"mode\": \"markers+lines\", \"name\": \"solution\", \"x\": [0.340151269246035, 0.381288419259425], \"y\": [0.045477215000955626, -0.04570846903276856], \"type\": \"scatter\"}]}, {\"data\": [{\"marker\": {\"color\": \"blue\", \"size\": 8}, \"mode\": \"markers+lines\", \"name\": \"solution\", \"x\": [0.33729236276986313, 0.38102080661322446], \"y\": [0.04466679967264037, -0.04531096665834838], \"type\": \"scatter\"}]}, {\"data\": [{\"marker\": {\"color\": \"blue\", \"size\": 8}, \"mode\": \"markers+lines\", \"name\": \"solution\", \"x\": [0.3343517592974069, 0.380809234902784], \"y\": [0.04376087650341036, -0.044845182697593224], \"type\": \"scatter\"}]}, {\"data\": [{\"marker\": {\"color\": \"blue\", \"size\": 8}, \"mode\": \"markers+lines\", \"name\": \"solution\", \"x\": [0.33133403228480596, 0.38064709408602976], \"y\": [0.04275225448175004, -0.04430393539048397], \"type\": \"scatter\"}]}, {\"data\": [{\"marker\": {\"color\": \"blue\", \"size\": 8}, \"mode\": \"markers+lines\", \"name\": \"solution\", \"x\": [0.32824456215557624, 0.3805268149294545], \"y\": [0.041633705254226314, -0.04367995470445671], \"type\": \"scatter\"}]}, {\"data\": [{\"marker\": {\"color\": \"blue\", \"size\": 8}, \"mode\": \"markers+lines\", \"name\": \"solution\", \"x\": [0.32508959517970626, 0.38043980918086084], \"y\": [0.04039808276575846, -0.04296599427519842], \"type\": \"scatter\"}]}, {\"data\": [{\"marker\": {\"color\": \"blue\", \"size\": 8}, \"mode\": \"markers+lines\", \"name\": \"solution\", \"x\": [0.321876293535602, 0.3803764196774458], \"y\": [0.03903846025613645, -0.0421549598510936], \"type\": \"scatter\"}]}, {\"data\": [{\"marker\": {\"color\": \"blue\", \"size\": 8}, \"mode\": \"markers+lines\", \"name\": \"solution\", \"x\": [0.31861277306023494, 0.38032588413408186], \"y\": [0.03754828484698829, -0.04124005442953319], \"type\": \"scatter\"}]}, {\"data\": [{\"marker\": {\"color\": \"blue\", \"size\": 8}, \"mode\": \"markers+lines\", \"name\": \"solution\", \"x\": [0.31530812477847825, 0.38027631680697754], \"y\": [0.03592154935276793, -0.04021493968845052], \"type\": \"scatter\"}]}, {\"data\": [{\"marker\": {\"color\": \"blue\", \"size\": 8}, \"mode\": \"markers+lines\", \"name\": \"solution\", \"x\": [0.3119724159444222, 0.38021471262177486], \"y\": [0.03415298017493897, -0.03907391256696595], \"type\": \"scatter\"}]}, {\"data\": [{\"marker\": {\"color\": \"blue\", \"size\": 8}, \"mode\": \"markers+lines\", \"name\": \"solution\", \"x\": [0.3086166660701613, 0.3801269786449735], \"y\": [0.03223823917375848, -0.037812094920597505], \"type\": \"scatter\"}]}, {\"data\": [{\"marker\": {\"color\": \"blue\", \"size\": 8}, \"mode\": \"markers+lines\", \"name\": \"solution\", \"x\": [0.30525279331806404, 0.37999799790231886], \"y\": [0.030174136249226546, -0.03642563306366411], \"type\": \"scatter\"}]}, {\"data\": [{\"marker\": {\"color\": \"blue\", \"size\": 8}, \"mode\": \"markers+lines\", \"name\": \"solution\", \"x\": [0.30189352676011794, 0.37981173043266864], \"y\": [0.02795884800924084, -0.03491190272344692], \"type\": \"scatter\"}]}, {\"data\": [{\"marker\": {\"color\": \"blue\", \"size\": 8}, \"mode\": \"markers+lines\", \"name\": \"solution\", \"x\": [0.2985522804421952, 0.3795513560242136], \"y\": [0.025592136389069386, -0.03326971349850452], \"type\": \"scatter\"}]}, {\"data\": [{\"marker\": {\"color\": \"blue\", \"size\": 8}, \"mode\": \"markers+lines\", \"name\": \"solution\", \"x\": [0.29524298601696597, 0.37919946221843737], \"y\": [0.0230755594741446, -0.031499505398660255], \"type\": \"scatter\"}]}, {\"data\": [{\"marker\": {\"color\": \"blue\", \"size\": 8}, \"mode\": \"markers+lines\", \"name\": \"solution\", \"x\": [0.2919798820076096, 0.3787382797957552], \"y\": [0.02041266517110309, -0.029603528546531633], \"type\": \"scatter\"}]}, {\"data\": [{\"marker\": {\"color\": \"blue\", \"size\": 8}, \"mode\": \"markers+lines\", \"name\": \"solution\", \"x\": [0.2887772595976752, 0.37814996600412987], \"y\": [0.017609156921114512, -0.027585995784641586], \"type\": \"scatter\"}]}, {\"data\": [{\"marker\": {\"color\": \"blue\", \"size\": 8}, \"mode\": \"markers+lines\", \"name\": \"solution\", \"x\": [0.2856491672338908, 0.3774169332274645], \"y\": [0.014673019555603071, -0.02545319694836177], \"type\": \"scatter\"}]}, {\"data\": [{\"marker\": {\"color\": \"blue\", \"size\": 8}, \"mode\": \"markers+lines\", \"name\": \"solution\", \"x\": [0.28260907923897516, 0.3765222176504583], \"y\": [0.01161459289997621, -0.02321356316104718], \"type\": \"scatter\"}]}, {\"data\": [{\"marker\": {\"color\": \"blue\", \"size\": 8}, \"mode\": \"markers+lines\", \"name\": \"solution\", \"x\": [0.2796695369336817, 0.3754498788912268], \"y\": [0.008446581098808834, -0.020877669928474715], \"type\": \"scatter\"}]}, {\"data\": [{\"marker\": {\"color\": \"blue\", \"size\": 8}, \"mode\": \"markers+lines\", \"name\": \"solution\", \"x\": [0.276841774228486, 0.3741854177879005], \"y\": [0.0051839871115710616, -0.018458169280786075], \"type\": \"scatter\"}]}, {\"data\": [{\"marker\": {\"color\": \"blue\", \"size\": 8}, \"mode\": \"markers+lines\", \"name\": \"solution\", \"x\": [0.27413534292265507, 0.3727161959071911], \"y\": [0.0018439645862702034, -0.015969643888075594], \"type\": \"scatter\"}]}, {\"data\": [{\"marker\": {\"color\": \"blue\", \"size\": 8}, \"mode\": \"markers+lines\", \"name\": \"solution\", \"x\": [0.2715577556088996, 0.371031837359335], \"y\": [-0.0015544165987235472, -0.013428379989958512], \"type\": \"scatter\"}]}, {\"data\": [{\"marker\": {\"color\": \"blue\", \"size\": 8}, \"mode\": \"markers+lines\", \"name\": \"solution\", \"x\": [0.2691141656521985, 0.3691245916714214], \"y\": [-0.0049904895755439604, -0.010852060979136647], \"type\": \"scatter\"}]}, {\"data\": [{\"marker\": {\"color\": \"blue\", \"size\": 8}, \"mode\": \"markers+lines\", \"name\": \"solution\", \"x\": [0.26680710375742184, 0.3669896362702479], \"y\": [-0.008442386900173397, -0.008259389202715909], \"type\": \"scatter\"}]}, {\"data\": [{\"marker\": {\"color\": \"blue\", \"size\": 8}, \"mode\": \"markers+lines\", \"name\": \"solution\", \"x\": [0.2646362888638946, 0.36462529889511214], \"y\": [-0.011887500254962165, -0.0056696494309080745], \"type\": \"scatter\"}]}, {\"data\": [{\"marker\": {\"color\": \"blue\", \"size\": 8}, \"mode\": \"markers+lines\", \"name\": \"solution\", \"x\": [0.26259852743675305, 0.3620331840946136], \"y\": [-0.015302983814538283, -0.0031022327905586783], \"type\": \"scatter\"}]}, {\"data\": [{\"marker\": {\"color\": \"blue\", \"size\": 8}, \"mode\": \"markers+lines\", \"name\": \"solution\", \"x\": [0.26068770988440737, 0.35921819364118956], \"y\": [-0.018666277215027314, -0.00057614404353297], \"type\": \"scatter\"}]}, {\"data\": [{\"marker\": {\"color\": \"blue\", \"size\": 8}, \"mode\": \"markers+lines\", \"name\": \"solution\", \"x\": [0.2588949063286363, 0.3561884376857244], \"y\": [-0.021955621603928426, 0.0018904827069754905], \"type\": \"scatter\"}]}, {\"data\": [{\"marker\": {\"color\": \"blue\", \"size\": 8}, \"mode\": \"markers+lines\", \"name\": \"solution\", \"x\": [0.25720855702142, 0.3529550409863072], \"y\": [-0.02515054216347945, 0.004280834844323641], \"type\": \"scatter\"}]}, {\"data\": [{\"marker\": {\"color\": \"blue\", \"size\": 8}, \"mode\": \"markers+lines\", \"name\": \"solution\", \"x\": [0.2556147461689566, 0.34953185568082773], \"y\": [-0.028232272847500774, 0.006579815891786609], \"type\": \"scatter\"}]}, {\"data\": [{\"marker\": {\"color\": \"blue\", \"size\": 8}, \"mode\": \"markers+lines\", \"name\": \"solution\", \"x\": [0.2540975425579768, 0.3459350979878453], \"y\": [-0.031184103533902316, 0.008774365585253827], \"type\": \"scatter\"}]}, {\"data\": [{\"marker\": {\"color\": \"blue\", \"size\": 8}, \"mode\": \"markers+lines\", \"name\": \"solution\", \"x\": [0.2526393867525866, 0.3421829302789196], \"y\": [-0.03399163575232257, 0.010853692642933843], \"type\": \"scatter\"}]}, {\"data\": [{\"marker\": {\"color\": \"blue\", \"size\": 8}, \"mode\": \"markers+lines\", \"name\": \"solution\", \"x\": [0.2512215030224162, 0.33829501184420524], \"y\": [-0.036642939806461244, 0.012809413825610924], \"type\": \"scatter\"}]}, {\"data\": [{\"marker\": {\"color\": \"blue\", \"size\": 8}, \"mode\": \"markers+lines\", \"name\": \"solution\", \"x\": [0.2498243145470382, 0.3342920413838487], \"y\": [-0.03912861266508567, 0.014635599068891647], \"type\": \"scatter\"}]}, {\"data\": [{\"marker\": {\"color\": \"blue\", \"size\": 8}, \"mode\": \"markers+lines\", \"name\": \"solution\", \"x\": [0.24842784252765973, 0.3301953121016427], \"y\": [-0.04144174175891494, 0.016328727887756883], \"type\": \"scatter\"}]}, {\"data\": [{\"marker\": {\"color\": \"blue\", \"size\": 8}, \"mode\": \"markers+lines\", \"name\": \"solution\", \"x\": [0.2470120731642212, 0.32602629674685735], \"y\": [-0.04357778432148935, 0.017887566465897772], \"type\": \"scatter\"}]}, {\"data\": [{\"marker\": {\"color\": \"blue\", \"size\": 8}, \"mode\": \"markers+lines\", \"name\": \"solution\", \"x\": [0.24555728049809544, 0.3218062756139868], \"y\": [-0.045534374926088875, 0.019312977642201103], \"type\": \"scatter\"}]}, {\"data\": [{\"marker\": {\"color\": \"blue\", \"size\": 8}, \"mode\": \"markers+lines\", \"name\": \"solution\", \"x\": [0.24404429737931263, 0.31755601591077726], \"y\": [-0.04731107539921179, 0.02060767740076899], \"type\": \"scatter\"}]}, {\"data\": [{\"marker\": {\"color\": \"blue\", \"size\": 8}, \"mode\": \"markers+lines\", \"name\": \"solution\", \"x\": [0.2424547308870331, 0.31329550648631677], \"y\": [-0.04890908150679387, 0.021775951625454454], \"type\": \"scatter\"}]}, {\"data\": [{\"marker\": {\"color\": \"blue\", \"size\": 8}, \"mode\": \"markers+lines\", \"name\": \"solution\", \"x\": [0.24077112213115107, 0.30904374798305134], \"y\": [-0.05033089998829362, 0.02282334605760612], \"type\": \"scatter\"}]}, {\"data\": [{\"marker\": {\"color\": \"blue\", \"size\": 8}, \"mode\": \"markers+lines\", \"name\": \"solution\", \"x\": [0.2389770533359356, 0.3048185952114858], \"y\": [-0.05158000797151566, 0.02375634089533223], \"type\": \"scatter\"}]}, {\"data\": [{\"marker\": {\"color\": \"blue\", \"size\": 8}, \"mode\": \"markers+lines\", \"name\": \"solution\", \"x\": [0.2370572074065957, 0.300636645996927], \"y\": [-0.05266050484338259, 0.02458201958315664], \"type\": \"scatter\"}]}, {\"data\": [{\"marker\": {\"color\": \"blue\", \"size\": 8}, \"mode\": \"markers+lines\", \"name\": \"solution\", \"x\": [0.23499738684068197, 0.2965131688773524], \"y\": [-0.053576764543924245, 0.02530773931289528], \"type\": \"scatter\"}]}, {\"data\": [{\"marker\": {\"color\": \"blue\", \"size\": 8}, \"mode\": \"markers+lines\", \"name\": \"solution\", \"x\": [0.2327844999538927, 0.29246206074630116], \"y\": [-0.05433309420302435, 0.025940808788808632], \"type\": \"scatter\"}]}, {\"data\": [{\"marker\": {\"color\": \"blue\", \"size\": 8}, \"mode\": \"markers+lines\", \"name\": \"solution\", \"x\": [0.23040652305495135, 0.28849582471161944], \"y\": [-0.05493340320682636, 0.026488177049051643], \"type\": \"scatter\"}]}, {\"data\": [{\"marker\": {\"color\": \"blue\", \"size\": 8}, \"mode\": \"markers+lines\", \"name\": \"solution\", \"x\": [0.2278524475422988, 0.28462555795020095], \"y\": [-0.055380885269754876, 0.026956135682091528], \"type\": \"scatter\"}]}, {\"data\": [{\"marker\": {\"color\": \"blue\", \"size\": 8}, \"mode\": \"markers+lines\", \"name\": \"solution\", \"x\": [0.22511222101220238, 0.28086093905936055], \"y\": [-0.05567771496874385, 0.0273500356972754], \"type\": \"scatter\"}]}, {\"data\": [{\"marker\": {\"color\": \"blue\", \"size\": 8}, \"mode\": \"markers+lines\", \"name\": \"solution\", \"x\": [0.22217669145040744, 0.27721020423391746], \"y\": [-0.055824759514421944, 0.02767401964627062], \"type\": \"scatter\"}]}, {\"data\": [{\"marker\": {\"color\": \"blue\", \"size\": 8}, \"mode\": \"markers+lines\", \"name\": \"solution\", \"x\": [0.21903756349017775, 0.27368010145409905], \"y\": [-0.05582130632387092, 0.027930769377811873], \"type\": \"scatter\"}]}, {\"data\": [{\"marker\": {\"color\": \"blue\", \"size\": 8}, \"mode\": \"markers+lines\", \"name\": \"solution\", \"x\": [0.21568737559346957, 0.2702758116977793], \"y\": [-0.0556648072543678, 0.028121270070552186], \"type\": \"scatter\"}]}, {\"data\": [{\"marker\": {\"color\": \"blue\", \"size\": 8}, \"mode\": \"markers+lines\", \"name\": \"solution\", \"x\": [0.21211950685407524, 0.26700082596219854], \"y\": [-0.05535064119895533, 0.02824459196124878], \"type\": \"scatter\"}]}, {\"data\": [{\"marker\": {\"color\": \"blue\", \"size\": 8}, \"mode\": \"markers+lines\", \"name\": \"solution\", \"x\": [0.2083282219039502, 0.26385676659329765], \"y\": [-0.05487189819162773, 0.028297692512497617], \"type\": \"scatter\"}]}, {\"data\": [{\"marker\": {\"color\": \"blue\", \"size\": 8}, \"mode\": \"markers+lines\", \"name\": \"solution\", \"x\": [0.20430876206100756, 0.26084314110327905], \"y\": [-0.054219190307338995, 0.028275243706552874], \"type\": \"scatter\"}]}, {\"data\": [{\"marker\": {\"color\": \"blue\", \"size\": 8}, \"mode\": \"markers+lines\", \"name\": \"solution\", \"x\": [0.20005749027701122, 0.25795701637326207], \"y\": [-0.053380497591576016, 0.028169491791632233], \"type\": \"scatter\"}]}, {\"data\": [{\"marker\": {\"color\": \"blue\", \"size\": 8}, \"mode\": \"markers+lines\", \"name\": \"solution\", \"x\": [0.19557209645685678, 0.2551926010005919], \"y\": [-0.05234106118802649, 0.02797016025376302], \"type\": \"scatter\"}]}, {\"data\": [{\"marker\": {\"color\": \"blue\", \"size\": 8}, \"mode\": \"markers+lines\", \"name\": \"solution\", \"x\": [0.19085186807218557, 0.25254072374330944], \"y\": [-0.051083340992218264, 0.027664411183334545], \"type\": \"scatter\"}]}, {\"data\": [{\"marker\": {\"color\": \"blue\", \"size\": 8}, \"mode\": \"markers+lines\", \"name\": \"solution\", \"x\": [0.18589802830981544, 0.24998819683344817], \"y\": [-0.04958706187876692, 0.027236885733198674], \"type\": \"scatter\"}]}, {\"data\": [{\"marker\": {\"color\": \"blue\", \"size\": 8}, \"mode\": \"markers+lines\", \"name\": \"solution\", \"x\": [0.18071413972537642, 0.24751705485576395], \"y\": [-0.04782938128688502, 0.026669851247360703], \"type\": \"scatter\"}]}, {\"data\": [{\"marker\": {\"color\": \"blue\", \"size\": 8}, \"mode\": \"markers+lines\", \"name\": \"solution\", \"x\": [0.1753065646849998, 0.245103663704053], \"y\": [-0.0457852223064175, 0.02594349112545504], \"type\": \"scatter\"}]}, {\"data\": [{\"marker\": {\"color\": \"blue\", \"size\": 8}, \"mode\": \"markers+lines\", \"name\": \"solution\", \"x\": [0.16968496352062548, 0.2427177011238074], \"y\": [-0.043427831132549236, 0.025036383798667995], \"type\": \"scatter\"}]}, {\"data\": [{\"marker\": {\"color\": \"blue\", \"size\": 8}, \"mode\": \"markers+lines\", \"name\": \"solution\", \"x\": [0.16386279541328586, 0.24032102263990407], \"y\": [-0.04072963666062419, 0.02392622936918352], \"type\": \"scatter\"}]}, {\"data\": [{\"marker\": {\"color\": \"blue\", \"size\": 8}, \"mode\": \"markers+lines\", \"name\": \"solution\", \"x\": [0.1578577627706071, 0.23786644765212295], \"y\": [-0.037663513663050575, 0.022590896022924113], \"type\": \"scatter\"}]}, {\"data\": [{\"marker\": {\"color\": \"blue\", \"size\": 8}, \"mode\": \"markers+lines\", \"name\": \"solution\", \"x\": [0.15169210334140337, 0.2352965354575023], \"y\": [-0.034204579084437664, 0.02100987151845799], \"type\": \"scatter\"}]}, {\"data\": [{\"marker\": {\"color\": \"blue\", \"size\": 8}, \"mode\": \"markers+lines\", \"name\": \"solution\", \"x\": [0.1453925804043925, 0.23254247770693912], \"y\": [-0.030332680650603853, 0.019166213441202423], \"type\": \"scatter\"}]}, {\"data\": [{\"marker\": {\"color\": \"blue\", \"size\": 8}, \"mode\": \"markers+lines\", \"name\": \"solution\", \"x\": [0.13898994464309408, 0.22952332254573013], \"y\": [-0.026035759692896315, 0.017049085792507537], \"type\": \"scatter\"}]}, {\"data\": [{\"marker\": {\"color\": \"blue\", \"size\": 8}, \"mode\": \"markers+lines\", \"name\": \"solution\", \"x\": [0.1325175390565321, 0.22614587680231918], \"y\": [-0.02131426612623884, 0.014656929915936992], \"type\": \"scatter\"}]}, {\"data\": [{\"marker\": {\"color\": \"blue\", \"size\": 8}, \"mode\": \"markers+lines\", \"name\": \"solution\", \"x\": [0.12600859821713492, 0.22230580849999929], \"y\": [-0.016186734025266946, 0.012001211899661314], \"type\": \"scatter\"}]}, {\"data\": [{\"marker\": {\"color\": \"blue\", \"size\": 8}, \"mode\": \"markers+lines\", \"name\": \"solution\", \"x\": [0.11949168939080958, 0.21789066698099896], \"y\": [-0.010696426702636114, 0.009110468647946922], \"type\": \"scatter\"}]}, {\"data\": [{\"marker\": {\"color\": \"blue\", \"size\": 8}, \"mode\": \"markers+lines\", \"name\": \"solution\", \"x\": [0.11298373987724322, 0.21278565988999115], \"y\": [-0.0049185502709587665, 0.006033993340927962], \"type\": \"scatter\"}]}, {\"data\": [{\"marker\": {\"color\": \"blue\", \"size\": 8}, \"mode\": \"markers+lines\", \"name\": \"solution\", \"x\": [0.10648034459781085, 0.20688286842811368], \"y\": [0.0010331204355505507, 0.0028439672332074765], \"type\": \"scatter\"}]}, {\"data\": [{\"marker\": {\"color\": \"blue\", \"size\": 8}, \"mode\": \"markers+lines\", \"name\": \"solution\", \"x\": [0.09994372813871047, 0.2000938243531976], \"y\": [0.007002090561311321, -0.00036565672076084013], \"type\": \"scatter\"}]}, {\"data\": [{\"marker\": {\"color\": \"blue\", \"size\": 8}, \"mode\": \"markers+lines\", \"name\": \"solution\", \"x\": [0.09328985574533695, 0.19236376953114254], \"y\": [0.012789561690026287, -0.0034851954416066024], \"type\": \"scatter\"}]}, {\"data\": [{\"marker\": {\"color\": \"blue\", \"size\": 8}, \"mode\": \"markers+lines\", \"name\": \"solution\", \"x\": [0.08637723714685949, 0.18368377939743724], \"y\": [0.01816014740312268, -0.006400662845456196], \"type\": \"scatter\"}]}, {\"data\": [{\"marker\": {\"color\": \"blue\", \"size\": 8}, \"mode\": \"markers+lines\", \"name\": \"solution\", \"x\": [0.07899975841846235, 0.1740955125953538], \"y\": [0.022849886053963327, -0.00900840805792573], \"type\": \"scatter\"}]}, {\"data\": [{\"marker\": {\"color\": \"blue\", \"size\": 8}, \"mode\": \"markers+lines\", \"name\": \"solution\", \"x\": [0.07088323078948498, 0.16368413462891443], \"y\": [0.02656797090291424, -0.011227826121156897], \"type\": \"scatter\"}]}, {\"data\": [{\"marker\": {\"color\": \"blue\", \"size\": 8}, \"mode\": \"markers+lines\", \"name\": \"solution\", \"x\": [0.061680312336944924, 0.15255749847222044], \"y\": [0.02897739572853736, -0.01300565994034993], \"type\": \"scatter\"}]}, {\"data\": [{\"marker\": {\"color\": \"blue\", \"size\": 8}, \"mode\": \"markers+lines\", \"name\": \"solution\", \"x\": [0.05095196532196089, 0.14081004190321672], \"y\": [0.029629954127470572, -0.014306145657317963], \"type\": \"scatter\"}]}, {\"data\": [{\"marker\": {\"color\": \"blue\", \"size\": 8}, \"mode\": \"markers+lines\", \"name\": \"solution\", \"x\": [0.03811539084876973, 0.1284615966359496], \"y\": [0.027801113776534665, -0.015081384240098021], \"type\": \"scatter\"}]}, {\"data\": [{\"marker\": {\"color\": \"blue\", \"size\": 8}, \"mode\": \"markers+lines\", \"name\": \"solution\", \"x\": [0.02236074216343758, 0.11534694501581537], \"y\": [0.022088795514772674, -0.015215877762755717], \"type\": \"scatter\"}]}, {\"data\": [{\"marker\": {\"color\": \"blue\", \"size\": 8}, \"mode\": \"markers+lines\", \"name\": \"solution\", \"x\": [0.00432399576874164, 0.10162252112023423], \"y\": [0.011382147778081763, -0.014662657682840275], \"type\": \"scatter\"}]}, {\"data\": [{\"marker\": {\"color\": \"blue\", \"size\": 8}, \"mode\": \"markers+lines\", \"name\": \"solution\", \"x\": [0.0031873536274540284, 0.09783793307988974], \"y\": [0.016925442271351242, -0.016219083096941866], \"type\": \"scatter\"}]}, {\"data\": [{\"marker\": {\"color\": \"blue\", \"size\": 8}, \"mode\": \"markers+lines\", \"name\": \"solution\", \"x\": [0.005881001975232997, 0.09800535713754767], \"y\": [0.020497710328742338, -0.018997211429812373], \"type\": \"scatter\"}]}, {\"data\": [{\"marker\": {\"color\": \"blue\", \"size\": 8}, \"mode\": \"markers+lines\", \"name\": \"solution\", \"x\": [0.00671104721446562, 0.09779852253408], \"y\": [0.019688476226898417, -0.021633625140629692], \"type\": \"scatter\"}]}, {\"data\": [{\"marker\": {\"color\": \"blue\", \"size\": 8}, \"mode\": \"markers+lines\", \"name\": \"solution\", \"x\": [0.007102077868252008, 0.09810752660192876], \"y\": [0.01719569032156784, -0.024253794108762897], \"type\": \"scatter\"}]}, {\"data\": [{\"marker\": {\"color\": \"blue\", \"size\": 8}, \"mode\": \"markers+lines\", \"name\": \"solution\", \"x\": [0.008808800909846783, 0.09879010180580779], \"y\": [0.016901644670388606, -0.026795884200390956], \"type\": \"scatter\"}]}, {\"data\": [{\"marker\": {\"color\": \"blue\", \"size\": 8}, \"mode\": \"markers+lines\", \"name\": \"solution\", \"x\": [0.01072403712767691, 0.0999534257962055], \"y\": [0.016064257170226273, -0.029111365960622484], \"type\": \"scatter\"}]}, {\"data\": [{\"marker\": {\"color\": \"blue\", \"size\": 8}, \"mode\": \"markers+lines\", \"name\": \"solution\", \"x\": [0.01286736883352999, 0.10196989869368639], \"y\": [0.01419203757806369, -0.03120323539180382], \"type\": \"scatter\"}]}, {\"data\": [{\"marker\": {\"color\": \"blue\", \"size\": 8}, \"mode\": \"markers+lines\", \"name\": \"solution\", \"x\": [0.0154526051619964, 0.10533432210597612], \"y\": [0.010841500240495006, -0.03302287269109095], \"type\": \"scatter\"}]}, {\"data\": [{\"marker\": {\"color\": \"blue\", \"size\": 8}, \"mode\": \"markers+lines\", \"name\": \"solution\", \"x\": [0.01778080169224408, 0.11024865148126921], \"y\": [0.004411241867541017, -0.034119004860838416], \"type\": \"scatter\"}]}, {\"data\": [{\"marker\": {\"color\": \"blue\", \"size\": 8}, \"mode\": \"markers+lines\", \"name\": \"solution\", \"x\": [0.016494820909508084, 0.11352991451400857], \"y\": [-0.005679167223837384, -0.032791138135930216], \"type\": \"scatter\"}]}, {\"data\": [{\"marker\": {\"color\": \"blue\", \"size\": 8}, \"mode\": \"markers+lines\", \"name\": \"solution\", \"x\": [0.012856833808617085, 0.11096078863978717], \"y\": [-0.009431310563538957, -0.02992854543030309], \"type\": \"scatter\"}]}, {\"data\": [{\"marker\": {\"color\": \"blue\", \"size\": 8}, \"mode\": \"markers+lines\", \"name\": \"solution\", \"x\": [0.012957394546329262, 0.11082884263107289], \"y\": [-0.008429861971879173, -0.028940861798661253], \"type\": \"scatter\"}]}, {\"data\": [{\"marker\": {\"color\": \"blue\", \"size\": 8}, \"mode\": \"markers+lines\", \"name\": \"solution\", \"x\": [0.014429011358272754, 0.11191997362512668], \"y\": [-0.006259525350999528, -0.028585214426580168], \"type\": \"scatter\"}]}, {\"data\": [{\"marker\": {\"color\": \"blue\", \"size\": 8}, \"mode\": \"markers+lines\", \"name\": \"solution\", \"x\": [0.0148986345792108, 0.11212305161891852], \"y\": [-0.004344581069910199, -0.027757786789084322], \"type\": \"scatter\"}]}, {\"data\": [{\"marker\": {\"color\": \"blue\", \"size\": 8}, \"mode\": \"markers+lines\", \"name\": \"solution\", \"x\": [0.014924770004319918, 0.11226985913989025], \"y\": [-0.0034626045079564505, -0.026347418696598], \"type\": \"scatter\"}]}, {\"data\": [{\"marker\": {\"color\": \"blue\", \"size\": 8}, \"mode\": \"markers+lines\", \"name\": \"solution\", \"x\": [0.015012029098137784, 0.11274439320346628], \"y\": [-0.0032004822038258773, -0.024431335374388467], \"type\": \"scatter\"}]}, {\"data\": [{\"marker\": {\"color\": \"blue\", \"size\": 8}, \"mode\": \"markers+lines\", \"name\": \"solution\", \"x\": [0.01510376634353827, 0.1133052497849507], \"y\": [-0.0030378471383069577, -0.02204144077035791], \"type\": \"scatter\"}]}, {\"data\": [{\"marker\": {\"color\": \"blue\", \"size\": 8}, \"mode\": \"markers+lines\", \"name\": \"solution\", \"x\": [0.01516213485239062, 0.11382778746057741], \"y\": [-0.002781846534530755, -0.019250648230896762], \"type\": \"scatter\"}]}, {\"data\": [{\"marker\": {\"color\": \"blue\", \"size\": 8}, \"mode\": \"markers+lines\", \"name\": \"solution\", \"x\": [0.015218645168150068, 0.11431007111199651], \"y\": [-0.002427593347923842, -0.016143947957910156], \"type\": \"scatter\"}]}, {\"data\": [{\"marker\": {\"color\": \"blue\", \"size\": 8}, \"mode\": \"markers+lines\", \"name\": \"solution\", \"x\": [0.015283384590360055, 0.11474084408168507], \"y\": [-0.0020096172533609767, -0.01279885421281015], \"type\": \"scatter\"}]}, {\"data\": [{\"marker\": {\"color\": \"blue\", \"size\": 8}, \"mode\": \"markers+lines\", \"name\": \"solution\", \"x\": [0.01534283024172007, 0.11508772088163073], \"y\": [-0.0015545953451167366, -0.009290998875586738], \"type\": \"scatter\"}]}, {\"data\": [{\"marker\": {\"color\": \"blue\", \"size\": 8}, \"mode\": \"markers+lines\", \"name\": \"solution\", \"x\": [0.015387194293854317, 0.11532679917200046], \"y\": [-0.0010798822049997853, -0.005698221614571172], \"type\": \"scatter\"}]}, {\"data\": [{\"marker\": {\"color\": \"blue\", \"size\": 8}, \"mode\": \"markers+lines\", \"name\": \"solution\", \"x\": [0.015414705778430878, 0.11544956556436894], \"y\": [-0.0005981835584550931, -0.0020985762336894575], \"type\": \"scatter\"}]}, {\"data\": [{\"marker\": {\"color\": \"blue\", \"size\": 8}, \"mode\": \"markers+lines\", \"name\": \"solution\", \"x\": [0.015425791248308984, 0.11545780606942259], \"y\": [-0.0001200045944398695, 0.0014326565370143748], \"type\": \"scatter\"}]}, {\"data\": [{\"marker\": {\"color\": \"blue\", \"size\": 8}, \"mode\": \"markers+lines\", \"name\": \"solution\", \"x\": [0.01542105396848511, 0.11536103718544431], \"y\": [0.0003452131442958487, 0.004825344456985174], \"type\": \"scatter\"}]}, {\"data\": [{\"marker\": {\"color\": \"blue\", \"size\": 8}, \"mode\": \"markers+lines\", \"name\": \"solution\", \"x\": [0.01540202460870499, 0.11517592220923709], \"y\": [0.0007887202939588281, 0.008016323566367537], \"type\": \"scatter\"}]}, {\"data\": [{\"marker\": {\"color\": \"blue\", \"size\": 8}, \"mode\": \"markers+lines\", \"name\": \"solution\", \"x\": [0.015371410077506989, 0.11492476215093704], \"y\": [0.0012025830936093509, 0.010950553118501703], \"type\": \"scatter\"}]}, {\"data\": [{\"marker\": {\"color\": \"blue\", \"size\": 8}, \"mode\": \"markers+lines\", \"name\": \"solution\", \"x\": [0.015332645638819352, 0.11463316674741468], \"y\": [0.0015799071108129406, 0.013581605652746952], \"type\": \"scatter\"}]}, {\"data\": [{\"marker\": {\"color\": \"blue\", \"size\": 8}, \"mode\": \"markers+lines\", \"name\": \"solution\", \"x\": [0.015289462243875535, 0.11432779206919627], \"y\": [0.0019149521588888974, 0.015871677885362437], \"type\": \"scatter\"}]}, {\"data\": [{\"marker\": {\"color\": \"blue\", \"size\": 8}, \"mode\": \"markers+lines\", \"name\": \"solution\", \"x\": [0.015245613500765701, 0.11403438889920749], \"y\": [0.0022031347778862604, 0.017791299297189003], \"type\": \"scatter\"}]}, {\"data\": [{\"marker\": {\"color\": \"blue\", \"size\": 8}, \"mode\": \"markers+lines\", \"name\": \"solution\", \"x\": [0.015204641692049336, 0.11377611498963164], \"y\": [0.0024409696370175918, 0.019318871345501604], \"type\": \"scatter\"}]}, {\"data\": [{\"marker\": {\"color\": \"blue\", \"size\": 8}, \"mode\": \"markers+lines\", \"name\": \"solution\", \"x\": [0.015169653652295553, 0.11357213331396637], \"y\": [0.0026259892538858564, 0.02044015977435195], \"type\": \"scatter\"}]}, {\"data\": [{\"marker\": {\"color\": \"blue\", \"size\": 8}, \"mode\": \"markers+lines\", \"name\": \"solution\", \"x\": [0.015143138330222855, 0.11343655813031371], \"y\": [0.0027566662621730663, 0.021147842915026117], \"type\": \"scatter\"}]}, {\"data\": [{\"marker\": {\"color\": \"blue\", \"size\": 8}, \"mode\": \"markers+lines\", \"name\": \"solution\", \"x\": [0.015126839479868658, 0.11337777957929213], \"y\": [0.0028323516179527717, 0.02144117938978803], \"type\": \"scatter\"}]}, {\"data\": [{\"marker\": {\"color\": \"blue\", \"size\": 8}, \"mode\": \"markers+lines\", \"name\": \"solution\", \"x\": [0.015121680134087533, 0.11339817412173035], \"y\": [0.0028532343458216513, 0.02132581617925308], \"type\": \"scatter\"}]}, {\"data\": [{\"marker\": {\"color\": \"blue\", \"size\": 8}, \"mode\": \"markers+lines\", \"name\": \"solution\", \"x\": [0.015127737488118586, 0.11349420399878409], \"y\": [0.0028203231632340634, 0.02081372011769993], \"type\": \"scatter\"}]}, {\"data\": [{\"marker\": {\"color\": \"blue\", \"size\": 8}, \"mode\": \"markers+lines\", \"name\": \"solution\", \"x\": [0.015144270208025029, 0.11365690253270042], \"y\": [0.002735445912313279, 0.01992318281445408], \"type\": \"scatter\"}]}, {\"data\": [{\"marker\": {\"color\": \"blue\", \"size\": 8}, \"mode\": \"markers+lines\", \"name\": \"solution\", \"x\": [0.015169798846034584, 0.11387272469114218], \"y\": [0.0026012585044220445, 0.018678823420972185], \"type\": \"scatter\"}]}, {\"data\": [{\"marker\": {\"color\": \"blue\", \"size\": 8}, \"mode\": \"markers+lines\", \"name\": \"solution\", \"x\": [0.015202236664614292, 0.11412471620990106], \"y\": [0.0024212517550090264, 0.017111500153180286], \"type\": \"scatter\"}]}, {\"data\": [{\"marker\": {\"color\": \"blue\", \"size\": 8}, \"mode\": \"markers+lines\", \"name\": \"solution\", \"x\": [0.015239064153764149, 0.11439392372802427], \"y\": [0.0021997428919147753, 0.015258043516704572], \"type\": \"scatter\"}]}, {\"data\": [{\"marker\": {\"color\": \"blue\", \"size\": 8}, \"mode\": \"markers+lines\", \"name\": \"solution\", \"x\": [0.015277535808990167, 0.11466093799327967], \"y\": [0.0019418391616795564, 0.013160742864112852], \"type\": \"scatter\"}]}, {\"data\": [{\"marker\": {\"color\": \"blue\", \"size\": 8}, \"mode\": \"markers+lines\", \"name\": \"solution\", \"x\": [0.0153149029409065, 0.11490743935959583], \"y\": [0.0016533640342416252, 0.010866551223749866], \"type\": \"scatter\"}]}, {\"data\": [{\"marker\": {\"color\": \"blue\", \"size\": 8}, \"mode\": \"markers+lines\", \"name\": \"solution\", \"x\": [0.01534863276590665, 0.11511760667316659], \"y\": [0.0013407417610837723, 0.00842601574133042], \"type\": \"scatter\"}]}, {\"data\": [{\"marker\": {\"color\": \"blue\", \"size\": 8}, \"mode\": \"markers+lines\", \"name\": \"solution\", \"x\": [0.015376603047512798, 0.115279261555157], \"y\": [0.0010108426094184641, 0.005891984255034736], \"type\": \"scatter\"}]}, {\"data\": [{\"marker\": {\"color\": \"blue\", \"size\": 8}, \"mode\": \"markers+lines\", \"name\": \"solution\", \"x\": [0.015397253763818883, 0.11538464972426149], \"y\": [0.0006707976157204771, 0.003318173449502921], \"type\": \"scatter\"}]}, {\"data\": [{\"marker\": {\"color\": \"blue\", \"size\": 8}, \"mode\": \"markers+lines\", \"name\": \"solution\", \"x\": [0.01540968246932091, 0.11543080430725193], \"y\": [0.0003277967004767282, 0.0007577035436654184], \"type\": \"scatter\"}]}, {\"data\": [{\"marker\": {\"color\": \"blue\", \"size\": 8}, \"mode\": \"markers+lines\", \"name\": \"solution\", \"x\": [0.015413677185346223, 0.11541948479090941], \"y\": [-1.1113656786117775e-05, -0.0017382946754546116], \"type\": \"scatter\"}]}, {\"data\": [{\"marker\": {\"color\": \"blue\", \"size\": 8}, \"mode\": \"markers+lines\", \"name\": \"solution\", \"x\": [0.015409688277725861, 0.11535673044220363], \"y\": [-0.00033921766704240124, -0.004121911079170018], \"type\": \"scatter\"}]}, {\"data\": [{\"marker\": {\"color\": \"blue\", \"size\": 8}, \"mode\": \"markers+lines\", \"name\": \"solution\", \"x\": [0.015398747356806648, 0.11525210161676162], \"y\": [-0.0006502902012688456, -0.0063494648381833725], \"type\": \"scatter\"}]}, {\"data\": [{\"marker\": {\"color\": \"blue\", \"size\": 8}, \"mode\": \"markers+lines\", \"name\": \"solution\", \"x\": [0.015382345730515534, 0.11511770280258797], \"y\": [-0.0009387221906366255, -0.008382263276145661], \"type\": \"scatter\"}]}, {\"data\": [{\"marker\": {\"color\": \"blue\", \"size\": 8}, \"mode\": \"markers+lines\", \"name\": \"solution\", \"x\": [0.0153622870179145, 0.11496708758449511], \"y\": [-0.00119960944961966, -0.010187115616398481], \"type\": \"scatter\"}]}, {\"data\": [{\"marker\": {\"color\": \"blue\", \"size\": 8}, \"mode\": \"markers+lines\", \"name\": \"solution\", \"x\": [0.015340528477434709, 0.1148141407664333], \"y\": [-0.0014288074908450558, -0.01173663127141367], \"type\": \"scatter\"}]}, {\"data\": [{\"marker\": {\"color\": \"blue\", \"size\": 8}, \"mode\": \"markers+lines\", \"name\": \"solution\", \"x\": [0.015319024079695943, 0.11467202070770718], \"y\": [-0.00162295810001708, -0.013009347587843924], \"type\": \"scatter\"}]}, {\"data\": [{\"marker\": {\"color\": \"blue\", \"size\": 8}, \"mode\": \"markers+lines\", \"name\": \"solution\", \"x\": [0.015299580093793248, 0.11455222943123906], \"y\": [-0.0017794950279721063, -0.013989736977345575], \"type\": \"scatter\"}]}, {\"data\": [{\"marker\": {\"color\": \"blue\", \"size\": 8}, \"mode\": \"markers+lines\", \"name\": \"solution\", \"x\": [0.015283731548932098, 0.11446386209972964], \"y\": [-0.0018966362430773084, -0.014668139289546871], \"type\": \"scatter\"}]}, {\"data\": [{\"marker\": {\"color\": \"blue\", \"size\": 8}, \"mode\": \"markers+lines\", \"name\": \"solution\", \"x\": [0.015272645725163974, 0.11441307246038859], \"y\": [-0.001973369077350773, -0.01504065431286102], \"type\": \"scatter\"}]}, {\"data\": [{\"marker\": {\"color\": \"blue\", \"size\": 8}, \"mode\": \"markers+lines\", \"name\": \"solution\", \"x\": [0.015267056914927184, 0.11440277697328563], \"y\": [-0.0020094326779822756, -0.015109014116732643], \"type\": \"scatter\"}]}, {\"data\": [{\"marker\": {\"color\": \"blue\", \"size\": 8}, \"mode\": \"markers+lines\", \"name\": \"solution\", \"x\": [0.015267234992138145, 0.11443260687172042], \"y\": [-0.002005299834169054, -0.014880438418392667], \"type\": \"scatter\"}]}, {\"data\": [{\"marker\": {\"color\": \"blue\", \"size\": 8}, \"mode\": \"markers+lines\", \"name\": \"solution\", \"x\": [0.015272988643345777, 0.11449910344048891], \"y\": [-0.0019621578612928894, -0.014367461034970353], \"type\": \"scatter\"}]}, {\"data\": [{\"marker\": {\"color\": \"blue\", \"size\": 8}, \"mode\": \"markers+lines\", \"name\": \"solution\", \"x\": [0.015283702273790584, 0.11459613680369728], \"y\": [-0.0018818861415000163, -0.01358770425928391], \"type\": \"scatter\"}]}, {\"data\": [{\"marker\": {\"color\": \"blue\", \"size\": 8}, \"mode\": \"markers+lines\", \"name\": \"solution\", \"x\": [0.015298403508476405, 0.11471551278344426], \"y\": [-0.0017670264602142988, -0.012563572632511363], \"type\": \"scatter\"}]}, {\"data\": [{\"marker\": {\"color\": \"blue\", \"size\": 8}, \"mode\": \"markers+lines\", \"name\": \"solution\", \"x\": [0.015315855926548612, 0.11484771722593086], \"y\": [-0.0016207416980569041, -0.011321839174643477], \"type\": \"scatter\"}]}, {\"data\": [{\"marker\": {\"color\": \"blue\", \"size\": 8}, \"mode\": \"markers+lines\", \"name\": \"solution\", \"x\": [0.01533466943181508, 0.1149827347171209], \"y\": [-0.0014467588798983497, -0.009893105590984257], \"type\": \"scatter\"}]}, {\"data\": [{\"marker\": {\"color\": \"blue\", \"size\": 8}, \"mode\": \"markers+lines\", \"name\": \"solution\", \"x\": [0.015353418844237778, 0.11511087124628455], \"y\": [-0.0012492940213525703, -0.008311131882716377], \"type\": \"scatter\"}]}, {\"data\": [{\"marker\": {\"color\": \"blue\", \"size\": 8}, \"mode\": \"markers+lines\", \"name\": \"solution\", \"x\": [0.015370760307801467, 0.11522351010384302], \"y\": [-0.0010329584202554381, -0.006612047548328224], \"type\": \"scatter\"}]}, {\"data\": [{\"marker\": {\"color\": \"blue\", \"size\": 8}, \"mode\": \"markers+lines\", \"name\": \"solution\", \"x\": [0.015385535269955937, 0.11531373796281363], \"y\": [-0.0008026486045452101, -0.0048334728824133465], \"type\": \"scatter\"}]}, {\"data\": [{\"marker\": {\"color\": \"blue\", \"size\": 8}, \"mode\": \"markers+lines\", \"name\": \"solution\", \"x\": [0.015396853205858116, 0.11537679299613729], \"y\": [-0.0005634245516628886, -0.0030135915421676974], \"type\": \"scatter\"}]}, {\"data\": [{\"marker\": {\"color\": \"blue\", \"size\": 8}, \"mode\": \"markers+lines\", \"name\": \"solution\", \"x\": [0.015404146772718787, 0.11541030686289003], \"y\": [-0.0003203825427907772, -0.001190222196471332], \"type\": \"scatter\"}]}, {\"data\": [{\"marker\": {\"color\": \"blue\", \"size\": 8}, \"mode\": \"markers+lines\", \"name\": \"solution\", \"x\": [0.015407196276860376, 0.11541433435111904], \"y\": [-7.852976613065109e-05, 0.0006000632673138127], \"type\": \"scatter\"}]}, {\"data\": [{\"marker\": {\"color\": \"blue\", \"size\": 8}, \"mode\": \"markers+lines\", \"name\": \"solution\", \"x\": [0.015406123676747662, 0.11539118513570007], \"y\": [0.00015733256315028686, 0.0023227342642703546], \"type\": \"scatter\"}]}, {\"data\": [{\"marker\": {\"color\": \"blue\", \"size\": 8}, \"mode\": \"markers+lines\", \"name\": \"solution\", \"x\": [0.01540135930458044, 0.11534508884496594], \"y\": [0.0003827120901725517, 0.003945979431495422], \"type\": \"scatter\"}]}, {\"data\": [{\"marker\": {\"color\": \"blue\", \"size\": 8}, \"mode\": \"markers+lines\", \"name\": \"solution\", \"x\": [0.015393586689388828, 0.11528173587563259], \"y\": [0.0005935106359551392, 0.005441252176448568], \"type\": \"scatter\"}]}, {\"data\": [{\"marker\": {\"color\": \"blue\", \"size\": 8}, \"mode\": \"markers+lines\", \"name\": \"solution\", \"x\": [0.015383672140672322, 0.1152077418056955], \"y\": [0.0007860904511352131, 0.0067836813484064], \"type\": \"scatter\"}]}, {\"data\": [{\"marker\": {\"color\": \"blue\", \"size\": 8}, \"mode\": \"markers+lines\", \"name\": \"solution\", \"x\": [0.01537258614096905, 0.11513008347088005], \"y\": [0.000957321818749575, 0.007952355514881396], \"type\": \"scatter\"}]}, {\"data\": [{\"marker\": {\"color\": \"blue\", \"size\": 8}, \"mode\": \"markers+lines\", \"name\": \"solution\", \"x\": [0.015361323274992999, 0.11505555101428472], \"y\": [0.0011046138634114961, 0.008930496812817795], \"type\": \"scatter\"}]}, {\"data\": [{\"marker\": {\"color\": \"blue\", \"size\": 8}, \"mode\": \"markers+lines\", \"name\": \"solution\", \"x\": [0.015350826625612045, 0.11499025386702404], \"y\": [0.0012259312863645159, 0.00970554390901286], \"type\": \"scatter\"}]}, {\"data\": [{\"marker\": {\"color\": \"blue\", \"size\": 8}, \"mode\": \"markers+lines\", \"name\": \"solution\", \"x\": [0.015341921512807336, 0.11493921087225761], \"y\": [0.0013198000188504226, 0.010269163498827803], \"type\": \"scatter\"}]}, {\"data\": [{\"marker\": {\"color\": \"blue\", \"size\": 8}, \"mode\": \"markers+lines\", \"name\": \"solution\", \"x\": [0.015335262304587809, 0.11490604648151842], \"y\": [0.001385304554591127, 0.01061720672972283], \"type\": \"scatter\"}]}, {\"data\": [{\"marker\": {\"color\": \"blue\", \"size\": 8}, \"mode\": \"markers+lines\", \"name\": \"solution\", \"x\": [0.015331294883328716, 0.11489280661642477], \"y\": [0.001422079121972685, 0.010749621965368423], \"type\": \"scatter\"}]}, {\"data\": [{\"marker\": {\"color\": \"blue\", \"size\": 8}, \"mode\": \"markers+lines\", \"name\": \"solution\", \"x\": [0.01533023624242334, 0.1148998996041355], \"y\": [0.0014302940444675639, 0.010670329518712053], \"type\": \"scatter\"}]}, {\"data\": [{\"marker\": {\"color\": \"blue\", \"size\": 8}, \"mode\": \"markers+lines\", \"name\": \"solution\", \"x\": [0.015332071614755013, 0.11492615962814375], \"y\": [0.0014106377707233278, 0.010387058456680007], \"type\": \"scatter\"}]}, {\"data\": [{\"marker\": {\"color\": \"blue\", \"size\": 8}, \"mode\": \"markers+lines\", \"name\": \"solution\", \"x\": [0.015336568484124806, 0.11496902246948634], \"y\": [0.0013642942771732766, 0.009911141251217162], \"type\": \"scatter\"}]}, {\"data\": [{\"marker\": {\"color\": \"blue\", \"size\": 8}, \"mode\": \"markers+lines\", \"name\": \"solution\", \"x\": [0.01534330580447071, 0.11502479616019438], \"y\": [0.001292914976296788, 0.00925725962199988], \"type\": \"scatter\"}]}, {\"data\": [{\"marker\": {\"color\": \"blue\", \"size\": 8}, \"mode\": \"markers+lines\", \"name\": \"solution\", \"x\": [0.015351715779655493, 0.1150890029230577], \"y\": [0.0011985839897967583, 0.008443134771609016], \"type\": \"scatter\"}]}, {\"data\": [{\"marker\": {\"color\": \"blue\", \"size\": 8}, \"mode\": \"markers+lines\", \"name\": \"solution\", \"x\": [0.015361134702543588, 0.11515676396949143], \"y\": [0.001083775711310374, 0.007489157370074398], \"type\": \"scatter\"}]}, {\"data\": [{\"marker\": {\"color\": \"blue\", \"size\": 8}, \"mode\": \"markers+lines\", \"name\": \"solution\", \"x\": [0.015370858705195141, 0.1152231959541101], \"y\": [0.0009513039789837617, 0.006417956735459146], \"type\": \"scatter\"}]}, {\"data\": [{\"marker\": {\"color\": \"blue\", \"size\": 8}, \"mode\": \"markers+lines\", \"name\": \"solution\", \"x\": [0.015380199927443135, 0.1152837876194642], \"y\": [0.0008042628406262979, 0.005253913979569965], \"type\": \"scatter\"}]}, {\"data\": [{\"marker\": {\"color\": \"blue\", \"size\": 8}, \"mode\": \"markers+lines\", \"name\": \"solution\", \"x\": [0.015388538644317107, 0.11533472763264271], \"y\": [0.0006459597116010632, 0.004022629524231887], \"type\": \"scatter\"}]}, {\"data\": [{\"marker\": {\"color\": \"blue\", \"size\": 8}, \"mode\": \"markers+lines\", \"name\": \"solution\", \"x\": [0.015395367334792505, 0.11537315968677071], \"y\": [0.0004798425565270255, 0.002750360375953546], \"type\": \"scatter\"}]}, {\"data\": [{\"marker\": {\"color\": \"blue\", \"size\": 8}, \"mode\": \"markers+lines\", \"name\": \"solution\", \"x\": [0.01540032349637157, 0.11539734810855413], \"y\": [0.0003094234253928018, 0.001463446044227456], \"type\": \"scatter\"}]}, {\"data\": [{\"marker\": {\"color\": \"blue\", \"size\": 8}, \"mode\": \"markers+lines\", \"name\": \"solution\", \"x\": [0.01540320912270671, 0.11540674566727209], \"y\": [0.00013820112399454132, 0.00018774346538339283], \"type\": \"scatter\"}]}, {\"data\": [{\"marker\": {\"color\": \"blue\", \"size\": 8}, \"mode\": \"markers+lines\", \"name\": \"solution\", \"x\": [0.015403996030157725, 0.11540196405000192], \"y\": [-3.0414070899676304e-05, -0.0010519094001586317], \"type\": \"scatter\"}]}, {\"data\": [{\"marker\": {\"color\": \"blue\", \"size\": 8}, \"mode\": \"markers+lines\", \"name\": \"solution\", \"x\": [0.015402817490296235, 0.11538465559608292], \"y\": [-0.00019317093588419273, -0.0022321842563091912], \"type\": \"scatter\"}]}, {\"data\": [{\"marker\": {\"color\": \"blue\", \"size\": 8}, \"mode\": \"markers+lines\", \"name\": \"solution\", \"x\": [0.015399947756357689, 0.11535732158685877], \"y\": [-0.00034704081571376597, -0.003331694419385494], \"type\": \"scatter\"}]}, {\"data\": [{\"marker\": {\"color\": \"blue\", \"size\": 8}, \"mode\": \"markers+lines\", \"name\": \"solution\", \"x\": [0.015395771955199531, 0.11532306715489042], \"y\": [-0.0004892725224499175, -0.0043313596871740615], \"type\": \"scatter\"}]}, {\"data\": [{\"marker\": {\"color\": \"blue\", \"size\": 8}, \"mode\": \"markers+lines\", \"name\": \"solution\", \"x\": [0.015390749393360261, 0.11528532550461534], \"y\": [-0.0006174377171424251, -0.005214700416812096], \"type\": \"scatter\"}]}, {\"data\": [{\"marker\": {\"color\": \"blue\", \"size\": 8}, \"mode\": \"markers+lines\", \"name\": \"solution\", \"x\": [0.015385373585446454, 0.11524757468703188], \"y\": [-0.0007294665288699467, -0.005968061047298307], \"type\": \"scatter\"}]}, {\"data\": [{\"marker\": {\"color\": \"blue\", \"size\": 8}, \"mode\": \"markers+lines\", \"name\": \"solution\", \"x\": [0.0153801322824774, 0.11521306889888878], \"y\": [-0.0008236736908580043, -0.006580766159629196], \"type\": \"scatter\"}]}, {\"data\": [{\"marker\": {\"color\": \"blue\", \"size\": 8}, \"mode\": \"markers+lines\", \"name\": \"solution\", \"x\": [0.015375470507036667, 0.11518460353818152], \"y\": [-0.0008987758181164247, -0.0070452137648740545], \"type\": \"scatter\"}]}, {\"data\": [{\"marker\": {\"color\": \"blue\", \"size\": 8}, \"mode\": \"markers+lines\", \"name\": \"solution\", \"x\": [0.015371759149137177, 0.11516432942390037], \"y\": [-0.0009539006048255673, -0.00735691091257043], \"type\": \"scatter\"}]}, {\"data\": [{\"marker\": {\"color\": \"blue\", \"size\": 8}, \"mode\": \"markers+lines\", \"name\": \"solution\", \"x\": [0.015369271096776495, 0.11515362703769735], \"y\": [-0.0009885887047143113, -0.007514456172329685], \"type\": \"scatter\"}]}, {\"data\": [{\"marker\": {\"color\": \"blue\", \"size\": 8}, \"mode\": \"markers+lines\", \"name\": \"solution\", \"x\": [0.015368166215437068, 0.11515304668819053], \"y\": [-0.001002788920200829, -0.007519472437582959], \"type\": \"scatter\"}]}, {\"data\": [{\"marker\": {\"color\": \"blue\", \"size\": 8}, \"mode\": \"markers+lines\", \"name\": \"solution\", \"x\": [0.015368485790591314, 0.11516231542392803], \"y\": [-0.0009968471260108803, -0.007376492258214929], \"type\": \"scatter\"}]}, {\"data\": [{\"marker\": {\"color\": \"blue\", \"size\": 8}, \"mode\": \"markers+lines\", \"name\": \"solution\", \"x\": [0.015370156341556982, 0.11518040660634032], \"y\": [-0.0009714891532583457, -0.00709279693075192], \"type\": \"scatter\"}]}, {\"data\": [{\"marker\": {\"color\": \"blue\", \"size\": 8}, \"mode\": \"markers+lines\", \"name\": \"solution\", \"x\": [0.015373002038879896, 0.11520566358248245], \"y\": [-0.0009277977167476774, -0.006678210175137613], \"type\": \"scatter\"}]}]);\n",
       "                        }).then(function(){\n",
       "                            \n",
       "var gd = document.getElementById('58130555-1ca2-45b2-8576-47e362be24bd');\n",
       "var x = new MutationObserver(function (mutations, observer) {{\n",
       "        var display = window.getComputedStyle(gd).display;\n",
       "        if (!display || display === 'none') {{\n",
       "            console.log([gd, 'removed!']);\n",
       "            Plotly.purge(gd);\n",
       "            observer.disconnect();\n",
       "        }}\n",
       "}});\n",
       "\n",
       "// Listen for the removal of the full notebook cells\n",
       "var notebookContainer = gd.closest('#notebook-container');\n",
       "if (notebookContainer) {{\n",
       "    x.observe(notebookContainer, {childList: true});\n",
       "}}\n",
       "\n",
       "// Listen for the clearing of the current output cell\n",
       "var outputEl = gd.closest('.output');\n",
       "if (outputEl) {{\n",
       "    x.observe(outputEl, {childList: true});\n",
       "}}\n",
       "\n",
       "                        })\n",
       "                };\n",
       "                });\n",
       "            </script>\n",
       "        </div>"
      ]
     },
     "metadata": {},
     "output_type": "display_data"
    }
   ],
   "source": [
    "fig = go.Figure(\n",
    "    data=[go.Scatter(x=[y[0,0],y[0,2]], y=[y[0,1],y[0,3]])],\n",
    "    layout=go.Layout(\n",
    "        xaxis=dict(range=[0, 0.7], autorange=False),\n",
    "        yaxis=dict(range=[-0.1, 0.1], autorange=False),\n",
    "        title=\"Start Title\",\n",
    "        updatemenus=[dict(type=\"buttons\",buttons=[dict(label=\"Play\",method=\"animate\",args=[None])])]\n",
    "    ),\n",
    "    frames=[go.Frame(data=[go.Scatter(x=[y[k,0],y[k,2]],y=[y[k,1],y[k,3]], name='solution',\n",
    "            mode=\"markers+lines\",\n",
    "            marker=dict(color=\"blue\", size=8))])\n",
    "\n",
    "        for k in range(M+1)]\n",
    "\n",
    ")\n",
    "fig.show()"
   ]
  },
  {
   "cell_type": "code",
   "execution_count": 46,
   "metadata": {},
   "outputs": [
    {
     "data": {
      "application/vnd.plotly.v1+json": {
       "config": {
        "plotlyServerURL": "https://plot.ly"
       },
       "data": [
        {
         "type": "scatter",
         "x": [
          0,
          3.75,
          7.5,
          11.25,
          15,
          18.75,
          22.5,
          26.25,
          30,
          33.75,
          37.5,
          41.25,
          45,
          48.75,
          52.5,
          56.25,
          60,
          63.75,
          67.5,
          71.25,
          75,
          78.75,
          82.5,
          86.25,
          90,
          93.75,
          97.5,
          101.25,
          105,
          108.75,
          112.5,
          116.25,
          120,
          123.75,
          127.5,
          131.25,
          135,
          138.75,
          142.5,
          146.25,
          150,
          153.75,
          157.5,
          161.25,
          165,
          168.75,
          172.5,
          176.25,
          180,
          183.75,
          187.5,
          191.25,
          195,
          198.75,
          202.5,
          206.25,
          210,
          213.75,
          217.5,
          221.25,
          225,
          228.75,
          232.5,
          236.25,
          240,
          243.75,
          247.5,
          251.25,
          255,
          258.75,
          262.5,
          266.25,
          270,
          273.75,
          277.5,
          281.25,
          285,
          288.75,
          292.5,
          296.25,
          300,
          303.75,
          307.5,
          311.25,
          315,
          318.75,
          322.5,
          326.25,
          330,
          333.75,
          337.5,
          341.25,
          345,
          348.75,
          352.5,
          356.25,
          360,
          363.75,
          367.5,
          371.25,
          375,
          378.75,
          382.5,
          386.25,
          390,
          393.75,
          397.5,
          401.25,
          405,
          408.75,
          412.5,
          416.25,
          420,
          423.75,
          427.5,
          431.25,
          435,
          438.75,
          442.5,
          446.25,
          450,
          453.75,
          457.5,
          461.25,
          465,
          468.75,
          472.5,
          476.25,
          480,
          483.75,
          487.5,
          491.25,
          495,
          498.75,
          502.5,
          506.25,
          510,
          513.75,
          517.5,
          521.25,
          525,
          528.75,
          532.5,
          536.25,
          540,
          543.75,
          547.5,
          551.25,
          555,
          558.75,
          562.5,
          566.25,
          570,
          573.75,
          577.5,
          581.25,
          585,
          588.75,
          592.5,
          596.25,
          600,
          603.75,
          607.5,
          611.25,
          615,
          618.75,
          622.5,
          626.25,
          630,
          633.75,
          637.5,
          641.25,
          645,
          648.75,
          652.5,
          656.25,
          660,
          663.75,
          667.5,
          671.25,
          675,
          678.75,
          682.5,
          686.25,
          690,
          693.75,
          697.5,
          701.25,
          705,
          708.75,
          712.5,
          716.25,
          720,
          723.75,
          727.5,
          731.25,
          735,
          738.75,
          742.5,
          746.25,
          750,
          753.75,
          757.5,
          761.25,
          765,
          768.75,
          772.5,
          776.25,
          780,
          783.75,
          787.5,
          791.25,
          795,
          798.75,
          802.5,
          806.25,
          810,
          813.75,
          817.5,
          821.25,
          825,
          828.75,
          832.5,
          836.25,
          840,
          843.75,
          847.5,
          851.25,
          855,
          858.75,
          862.5,
          866.25,
          870,
          873.75,
          877.5,
          881.25,
          885,
          888.75,
          892.5,
          896.25,
          900,
          903.75,
          907.5,
          911.25,
          915,
          918.75,
          922.5,
          926.25,
          930,
          933.75,
          937.5,
          941.25,
          945,
          948.75,
          952.5,
          956.25,
          960,
          963.75,
          967.5,
          971.25,
          975,
          978.75,
          982.5,
          986.25,
          990,
          993.75,
          997.5,
          1001.25,
          1005,
          1008.75,
          1012.5,
          1016.25,
          1020,
          1023.75,
          1027.5,
          1031.25,
          1035,
          1038.75,
          1042.5,
          1046.25,
          1050,
          1053.75,
          1057.5,
          1061.25,
          1065,
          1068.75,
          1072.5,
          1076.25,
          1080,
          1083.75,
          1087.5,
          1091.25,
          1095,
          1098.75,
          1102.5,
          1106.25,
          1110,
          1113.75,
          1117.5,
          1121.25,
          1125,
          1128.75,
          1132.5,
          1136.25,
          1140,
          1143.75,
          1147.5,
          1151.25,
          1155,
          1158.75,
          1162.5,
          1166.25,
          1170,
          1173.75,
          1177.5,
          1181.25,
          1185,
          1188.75,
          1192.5,
          1196.25,
          1200,
          1203.75,
          1207.5,
          1211.25,
          1215,
          1218.75,
          1222.5,
          1226.25,
          1230,
          1233.75,
          1237.5,
          1241.25,
          1245,
          1248.75,
          1252.5,
          1256.25,
          1260,
          1263.75,
          1267.5,
          1271.25,
          1275,
          1278.75,
          1282.5,
          1286.25,
          1290,
          1293.75,
          1297.5,
          1301.25,
          1305,
          1308.75,
          1312.5,
          1316.25,
          1320,
          1323.75,
          1327.5,
          1331.25,
          1335,
          1338.75,
          1342.5,
          1346.25,
          1350,
          1353.75,
          1357.5,
          1361.25,
          1365,
          1368.75,
          1372.5,
          1376.25,
          1380,
          1383.75,
          1387.5,
          1391.25,
          1395,
          1398.75,
          1402.5,
          1406.25,
          1410,
          1413.75,
          1417.5,
          1421.25,
          1425,
          1428.75,
          1432.5,
          1436.25,
          1440,
          1443.75,
          1447.5,
          1451.25,
          1455,
          1458.75,
          1462.5,
          1466.25,
          1470,
          1473.75,
          1477.5,
          1481.25,
          1485,
          1488.75,
          1492.5,
          1496.25,
          1500
         ],
         "y": [
          0.010000000000000002,
          0.009992672820988584,
          0.009999978270766941,
          0.010000027246362049,
          0.010000076133100179,
          0.010000149596896558,
          0.010000247642551805,
          0.010000370268213866,
          0.01000051746683264,
          0.010000689223642488,
          0.010000885513293185,
          0.010001106296517561,
          0.010001351516338826,
          0.01000162109382229,
          0.010001914923377755,
          0.010002232867621348,
          0.010002574751807873,
          0.01000294035784839,
          0.010003329417930905,
          0.010003741607766958,
          0.010004176539491498,
          0.010004633754249722,
          0.010005112714511067,
          0.01000561279615873,
          0.01000613328041205,
          0.010006673345649812,
          0.010007232059214477,
          0.010007808369291608,
          0.010008401096974175,
          0.010009008928639788,
          0.010009630408788571,
          0.010010263933511747,
          0.010010907744784742,
          0.010011559925803853,
          0.010012218397611952,
          0.01001288091728359,
          0.010013545077964566,
          0.0100142083110802,
          0.010014867891041484,
          0.010015520942782356,
          0.010016164452455272,
          0.010016795281588867,
          0.010017410184970297,
          0.010018005832451108,
          0.010018578834786905,
          0.010019125773507631,
          0.010019643234675388,
          0.010020127846225677,
          0.010020576318407798,
          0.0100209854866524,
          0.010021352356006043,
          0.010021674146098988,
          0.010021948335466439,
          0.010022172703940185,
          0.010022345371778221,
          0.01002246483421716,
          0.010022529990219721,
          0.010022540164348765,
          0.010022495120924216,
          0.010022395069898805,
          0.010022240664204516,
          0.01002203298865543,
          0.010021773540820518,
          0.010021464204582095,
          0.010021107217350432,
          0.010020705132102039,
          0.010020260775534522,
          0.010019777203686981,
          0.010019257656360006,
          0.010018705511594356,
          0.010018124241341672,
          0.01001751736929938,
          0.010016888431697294,
          0.010016240941630662,
          0.01001557835734444,
          0.010014904054696048,
          0.010014221303866063,
          0.010013533250252404,
          0.01001284289937549,
          0.010012153105540326,
          0.010011466563943916,
          0.01001078580588162,
          0.010010113196689098,
          0.01000945093605622,
          0.010008801060359474,
          0.010008165446679306,
          0.01000754581819413,
          0.010006943750670972,
          0.010006360679802996,
          0.010005797909173865,
          0.010005256618657133,
          0.0100047378730857,
          0.01000424263105003,
          0.010003771753705246,
          0.01000332601348568,
          0.010002906102641302,
          0.01000251264152404,
          0.010002146186562812,
          0.010001807237875613,
          0.010001496246474166,
          0.010001213621022749,
          0.010000959734117363,
          0.010000734928055158,
          0.010000539520066552,
          0.010000373806984868,
          0.010000238069329303,
          0.010000132574778406,
          0.01000005758101159,
          0.01000001333789662,
          0.01000000008900114,
          0.010000018072406271,
          0.010000067520800193,
          0.010000148660829681,
          0.010000261711687455,
          0.010000406882913442,
          0.010000584371388272,
          0.010000794357498129,
          0.01000103700045083,
          0.0100013124327245,
          0.010001620753632078,
          0.01000196202198698,
          0.010002336247858998,
          0.010002743383412466,
          0.010003183312824383,
          0.010003655841285514,
          0.010004160683095037,
          0.010004697448868194,
          0.010005265631887328,
          0.010005864593640312,
          0.010006493548607096,
          0.01000715154837562,
          0.010007837465193658,
          0.010008549975094433,
          0.010009287540771423,
          0.010010048394423869,
          0.0100108305208489,
          0.010011631641120705,
          0.010012449197271877,
          0.010013280338476106,
          0.010014121909325066,
          0.010014970440890999,
          0.010015822145368145,
          0.010016672915182566,
          0.010017518327543553,
          0.010018353655468822,
          0.010019173886336899,
          0.01001997374898743,
          0.010020747750288283,
          0.01002149022190048,
          0.010022195377687232,
          0.010022857381823807,
          0.010023470427172932,
          0.01002402882291068,
          0.010024527089744665,
          0.010024960060404266,
          0.010025322982452416,
          0.010025611619934323,
          0.0100258223500047,
          0.010025952250519849,
          0.010025999174689099,
          0.010025961809271022,
          0.010025839713464844,
          0.010025633336546446,
          0.0100253440133626,
          0.010024973937937071,
          0.010024526116559873,
          0.010024004302729699,
          0.010023412917120795,
          0.01002275695629205,
          0.010022041894124645,
          0.010021273579968334,
          0.010020458137227033,
          0.01001960186567179,
          0.01001871115019415,
          0.010017792378067918,
          0.01001685186613035,
          0.010015895798672361,
          0.010014930176276799,
          0.010013960775385276,
          0.010012993118018062,
          0.010012032450816017,
          0.010011083732411882,
          0.01001015162805657,
          0.0100092405104093,
          0.010008354465433114,
          0.01000749730240376,
          0.010006672567128002,
          0.010005883557565185,
          0.010005133341145795,
          0.010004424773176219,
          0.010003760515805498,
          0.010003143057105946,
          0.010002574729882871,
          0.010002057729880423,
          0.010001594133090192,
          0.010001185911898513,
          0.010000834949828273,
          0.01000054305464337,
          0.010000311969588766,
          0.010000143382539815,
          0.010000038932830028,
          0.01000000021551903,
          0.010000028782852666,
          0.010000126142655184,
          0.01000029375337999,
          0.010000533015530753,
          0.01000084525914866,
          0.010001231727044382,
          0.010001693553434606,
          0.010002231737623265,
          0.0100028471123459,
          0.010003540306373506,
          0.010004311700950255,
          0.01000516137961983,
          0.010006089070982164,
          0.010007094083922335,
          0.010008175234876017,
          0.010009330766755961,
          0.010010558259281778,
          0.010011854530657498,
          0.010013215530864204,
          0.010014636227320784,
          0.010016110484365225,
          0.010017630938975536,
          0.010019188876434264,
          0.01002077411127824,
          0.01002237488087236,
          0.010023977761248852,
          0.010025567617328816,
          0.01002712760203909,
          0.01002863922076607,
          0.010030082478510956,
          0.010031436126374365,
          0.010032678020905388,
          0.010033785603815414,
          0.010034736500303012,
          0.010035509222035987,
          0.010036083946708688,
          0.010036443331865881,
          0.010036573308840724,
          0.010036463795893107,
          0.010036109270215752,
          0.01003550914750792,
          0.01003466793473919,
          0.010033595144213845,
          0.01003230498145682,
          0.010030815841680722,
          0.01002914966613068,
          0.010027331218289696,
          0.010025387340353981,
          0.010023346243729263,
          0.010021236875783367,
          0.010019088391299327,
          0.010016929743354176,
          0.010014789396415109,
          0.010012695155257599,
          0.010010674097137242,
          0.010008752591246221,
          0.010006956388319721,
          0.01000531076367382,
          0.010003840698323765,
          0.01000257108461264,
          0.0100015269445602,
          0.010000733650618867,
          0.010000217139478984,
          0.010000004109811781,
          0.01000012219415655,
          0.01000060009320859,
          0.010001467656967584,
          0.010002755890571811,
          0.010004496851521688,
          0.010006723386715034,
          0.010009468628073677,
          0.010012765118109376,
          0.010016643362067208,
          0.01002112948796313,
          0.010026241522701623,
          0.010031983543074984,
          0.010038336624834996,
          0.010045245116156273,
          0.010052596424962633,
          0.010060192573743822,
          0.010067713003728879,
          0.01007467189422354,
          0.010080381449801216,
          0.010083945957619113,
          0.010084325471783515,
          0.010080508112530874,
          0.01007179656483017,
          0.010058153366191393,
          0.010040530026099816,
          0.0100212399231624,
          0.010004854791181734,
          0.010001345536285962,
          0.010038072569246693,
          0.010145334927072322,
          0.010057291752571272,
          0.010046745658786651,
          0.010004444221529626,
          0.010000051458758097,
          0.010006108540342085,
          0.010002720727419815,
          0.009999991635488849,
          0.010002806253478944,
          0.010034883157555508,
          0.010150868357572337,
          0.010044522590699552,
          0.009999521464098922,
          0.010002924116416638,
          0.010000765470759376,
          0.009999781099260783,
          0.01000236411996649,
          0.010004667921026127,
          0.010006132433913625,
          0.010007249079371696,
          0.010008193882635703,
          0.010008895148354006,
          0.010009253682101971,
          0.010009224350572185,
          0.010008814745760623,
          0.010008071821985026,
          0.010007068891464799,
          0.01000589282866252,
          0.010004634260330048,
          0.010003380967593024,
          0.010002213017804627,
          0.010001198914137227,
          0.010000392674897782,
          0.009999831754673342,
          0.009999535701462324,
          0.009999505550096016,
          0.009999724067754859,
          0.01000015702735389,
          0.010000755664030692,
          0.010001460357387653,
          0.010002205392398631,
          0.010002924430008713,
          0.01000355612849688,
          0.010004049261882676,
          0.010004366720659543,
          0.01000448794975563,
          0.010004409633612061,
          0.010004144709112168,
          0.010003720006878051,
          0.010003172948506119,
          0.01000254775418545,
          0.010001891563006184,
          0.010001250772913268,
          0.010000667804534107,
          0.010000178408964224,
          0.009999809586139226,
          0.009999578156668625,
          0.009999490025359666,
          0.009999540173578812,
          0.00999971340456668,
          0.00999998583006364,
          0.010000327025841442,
          0.010000702705969698,
          0.010001077687868442,
          0.01000141886372682,
          0.010001697877329858,
          0.010001893237783903,
          0.010001991678749208,
          0.010001988677004076,
          0.010001888154308877,
          0.010001701479477704,
          0.010001445948587461,
          0.010001142945896716,
          0.01000081598105843,
          0.01000048876993722,
          0.010000183488471572,
          0.009999919291226811,
          0.009999711154446821,
          0.009999569079380094,
          0.009999497674074808,
          0.009999496117529982,
          0.009999558495549893,
          0.009999674480342906,
          0.00999983030517377,
          0.01000000996275572,
          0.010000196534980526,
          0.01000037354643093,
          0.010000526228995646,
          0.010000642592313631,
          0.010000714214743606,
          0.010000736699494228,
          0.010000709775863816,
          0.01000063706080548,
          0.01000052552633261,
          0.01000038474022445,
          0.010000225959707504,
          0.01000006116077711,
          0.009999902081381998,
          0.009999759347150394,
          0.009999641735862113,
          0.009999555623044637,
          0.009999504636749269,
          0.009999489535027413,
          0.009999508304900288,
          0.009999556466825486,
          0.009999627554321107
         ]
        }
       ],
       "layout": {
        "template": {
         "data": {
          "bar": [
           {
            "error_x": {
             "color": "#2a3f5f"
            },
            "error_y": {
             "color": "#2a3f5f"
            },
            "marker": {
             "line": {
              "color": "#E5ECF6",
              "width": 0.5
             }
            },
            "type": "bar"
           }
          ],
          "barpolar": [
           {
            "marker": {
             "line": {
              "color": "#E5ECF6",
              "width": 0.5
             }
            },
            "type": "barpolar"
           }
          ],
          "carpet": [
           {
            "aaxis": {
             "endlinecolor": "#2a3f5f",
             "gridcolor": "white",
             "linecolor": "white",
             "minorgridcolor": "white",
             "startlinecolor": "#2a3f5f"
            },
            "baxis": {
             "endlinecolor": "#2a3f5f",
             "gridcolor": "white",
             "linecolor": "white",
             "minorgridcolor": "white",
             "startlinecolor": "#2a3f5f"
            },
            "type": "carpet"
           }
          ],
          "choropleth": [
           {
            "colorbar": {
             "outlinewidth": 0,
             "ticks": ""
            },
            "type": "choropleth"
           }
          ],
          "contour": [
           {
            "colorbar": {
             "outlinewidth": 0,
             "ticks": ""
            },
            "colorscale": [
             [
              0,
              "#0d0887"
             ],
             [
              0.1111111111111111,
              "#46039f"
             ],
             [
              0.2222222222222222,
              "#7201a8"
             ],
             [
              0.3333333333333333,
              "#9c179e"
             ],
             [
              0.4444444444444444,
              "#bd3786"
             ],
             [
              0.5555555555555556,
              "#d8576b"
             ],
             [
              0.6666666666666666,
              "#ed7953"
             ],
             [
              0.7777777777777778,
              "#fb9f3a"
             ],
             [
              0.8888888888888888,
              "#fdca26"
             ],
             [
              1,
              "#f0f921"
             ]
            ],
            "type": "contour"
           }
          ],
          "contourcarpet": [
           {
            "colorbar": {
             "outlinewidth": 0,
             "ticks": ""
            },
            "type": "contourcarpet"
           }
          ],
          "heatmap": [
           {
            "colorbar": {
             "outlinewidth": 0,
             "ticks": ""
            },
            "colorscale": [
             [
              0,
              "#0d0887"
             ],
             [
              0.1111111111111111,
              "#46039f"
             ],
             [
              0.2222222222222222,
              "#7201a8"
             ],
             [
              0.3333333333333333,
              "#9c179e"
             ],
             [
              0.4444444444444444,
              "#bd3786"
             ],
             [
              0.5555555555555556,
              "#d8576b"
             ],
             [
              0.6666666666666666,
              "#ed7953"
             ],
             [
              0.7777777777777778,
              "#fb9f3a"
             ],
             [
              0.8888888888888888,
              "#fdca26"
             ],
             [
              1,
              "#f0f921"
             ]
            ],
            "type": "heatmap"
           }
          ],
          "heatmapgl": [
           {
            "colorbar": {
             "outlinewidth": 0,
             "ticks": ""
            },
            "colorscale": [
             [
              0,
              "#0d0887"
             ],
             [
              0.1111111111111111,
              "#46039f"
             ],
             [
              0.2222222222222222,
              "#7201a8"
             ],
             [
              0.3333333333333333,
              "#9c179e"
             ],
             [
              0.4444444444444444,
              "#bd3786"
             ],
             [
              0.5555555555555556,
              "#d8576b"
             ],
             [
              0.6666666666666666,
              "#ed7953"
             ],
             [
              0.7777777777777778,
              "#fb9f3a"
             ],
             [
              0.8888888888888888,
              "#fdca26"
             ],
             [
              1,
              "#f0f921"
             ]
            ],
            "type": "heatmapgl"
           }
          ],
          "histogram": [
           {
            "marker": {
             "colorbar": {
              "outlinewidth": 0,
              "ticks": ""
             }
            },
            "type": "histogram"
           }
          ],
          "histogram2d": [
           {
            "colorbar": {
             "outlinewidth": 0,
             "ticks": ""
            },
            "colorscale": [
             [
              0,
              "#0d0887"
             ],
             [
              0.1111111111111111,
              "#46039f"
             ],
             [
              0.2222222222222222,
              "#7201a8"
             ],
             [
              0.3333333333333333,
              "#9c179e"
             ],
             [
              0.4444444444444444,
              "#bd3786"
             ],
             [
              0.5555555555555556,
              "#d8576b"
             ],
             [
              0.6666666666666666,
              "#ed7953"
             ],
             [
              0.7777777777777778,
              "#fb9f3a"
             ],
             [
              0.8888888888888888,
              "#fdca26"
             ],
             [
              1,
              "#f0f921"
             ]
            ],
            "type": "histogram2d"
           }
          ],
          "histogram2dcontour": [
           {
            "colorbar": {
             "outlinewidth": 0,
             "ticks": ""
            },
            "colorscale": [
             [
              0,
              "#0d0887"
             ],
             [
              0.1111111111111111,
              "#46039f"
             ],
             [
              0.2222222222222222,
              "#7201a8"
             ],
             [
              0.3333333333333333,
              "#9c179e"
             ],
             [
              0.4444444444444444,
              "#bd3786"
             ],
             [
              0.5555555555555556,
              "#d8576b"
             ],
             [
              0.6666666666666666,
              "#ed7953"
             ],
             [
              0.7777777777777778,
              "#fb9f3a"
             ],
             [
              0.8888888888888888,
              "#fdca26"
             ],
             [
              1,
              "#f0f921"
             ]
            ],
            "type": "histogram2dcontour"
           }
          ],
          "mesh3d": [
           {
            "colorbar": {
             "outlinewidth": 0,
             "ticks": ""
            },
            "type": "mesh3d"
           }
          ],
          "parcoords": [
           {
            "line": {
             "colorbar": {
              "outlinewidth": 0,
              "ticks": ""
             }
            },
            "type": "parcoords"
           }
          ],
          "pie": [
           {
            "automargin": true,
            "type": "pie"
           }
          ],
          "scatter": [
           {
            "marker": {
             "colorbar": {
              "outlinewidth": 0,
              "ticks": ""
             }
            },
            "type": "scatter"
           }
          ],
          "scatter3d": [
           {
            "line": {
             "colorbar": {
              "outlinewidth": 0,
              "ticks": ""
             }
            },
            "marker": {
             "colorbar": {
              "outlinewidth": 0,
              "ticks": ""
             }
            },
            "type": "scatter3d"
           }
          ],
          "scattercarpet": [
           {
            "marker": {
             "colorbar": {
              "outlinewidth": 0,
              "ticks": ""
             }
            },
            "type": "scattercarpet"
           }
          ],
          "scattergeo": [
           {
            "marker": {
             "colorbar": {
              "outlinewidth": 0,
              "ticks": ""
             }
            },
            "type": "scattergeo"
           }
          ],
          "scattergl": [
           {
            "marker": {
             "colorbar": {
              "outlinewidth": 0,
              "ticks": ""
             }
            },
            "type": "scattergl"
           }
          ],
          "scattermapbox": [
           {
            "marker": {
             "colorbar": {
              "outlinewidth": 0,
              "ticks": ""
             }
            },
            "type": "scattermapbox"
           }
          ],
          "scatterpolar": [
           {
            "marker": {
             "colorbar": {
              "outlinewidth": 0,
              "ticks": ""
             }
            },
            "type": "scatterpolar"
           }
          ],
          "scatterpolargl": [
           {
            "marker": {
             "colorbar": {
              "outlinewidth": 0,
              "ticks": ""
             }
            },
            "type": "scatterpolargl"
           }
          ],
          "scatterternary": [
           {
            "marker": {
             "colorbar": {
              "outlinewidth": 0,
              "ticks": ""
             }
            },
            "type": "scatterternary"
           }
          ],
          "surface": [
           {
            "colorbar": {
             "outlinewidth": 0,
             "ticks": ""
            },
            "colorscale": [
             [
              0,
              "#0d0887"
             ],
             [
              0.1111111111111111,
              "#46039f"
             ],
             [
              0.2222222222222222,
              "#7201a8"
             ],
             [
              0.3333333333333333,
              "#9c179e"
             ],
             [
              0.4444444444444444,
              "#bd3786"
             ],
             [
              0.5555555555555556,
              "#d8576b"
             ],
             [
              0.6666666666666666,
              "#ed7953"
             ],
             [
              0.7777777777777778,
              "#fb9f3a"
             ],
             [
              0.8888888888888888,
              "#fdca26"
             ],
             [
              1,
              "#f0f921"
             ]
            ],
            "type": "surface"
           }
          ],
          "table": [
           {
            "cells": {
             "fill": {
              "color": "#EBF0F8"
             },
             "line": {
              "color": "white"
             }
            },
            "header": {
             "fill": {
              "color": "#C8D4E3"
             },
             "line": {
              "color": "white"
             }
            },
            "type": "table"
           }
          ]
         },
         "layout": {
          "annotationdefaults": {
           "arrowcolor": "#2a3f5f",
           "arrowhead": 0,
           "arrowwidth": 1
          },
          "coloraxis": {
           "colorbar": {
            "outlinewidth": 0,
            "ticks": ""
           }
          },
          "colorscale": {
           "diverging": [
            [
             0,
             "#8e0152"
            ],
            [
             0.1,
             "#c51b7d"
            ],
            [
             0.2,
             "#de77ae"
            ],
            [
             0.3,
             "#f1b6da"
            ],
            [
             0.4,
             "#fde0ef"
            ],
            [
             0.5,
             "#f7f7f7"
            ],
            [
             0.6,
             "#e6f5d0"
            ],
            [
             0.7,
             "#b8e186"
            ],
            [
             0.8,
             "#7fbc41"
            ],
            [
             0.9,
             "#4d9221"
            ],
            [
             1,
             "#276419"
            ]
           ],
           "sequential": [
            [
             0,
             "#0d0887"
            ],
            [
             0.1111111111111111,
             "#46039f"
            ],
            [
             0.2222222222222222,
             "#7201a8"
            ],
            [
             0.3333333333333333,
             "#9c179e"
            ],
            [
             0.4444444444444444,
             "#bd3786"
            ],
            [
             0.5555555555555556,
             "#d8576b"
            ],
            [
             0.6666666666666666,
             "#ed7953"
            ],
            [
             0.7777777777777778,
             "#fb9f3a"
            ],
            [
             0.8888888888888888,
             "#fdca26"
            ],
            [
             1,
             "#f0f921"
            ]
           ],
           "sequentialminus": [
            [
             0,
             "#0d0887"
            ],
            [
             0.1111111111111111,
             "#46039f"
            ],
            [
             0.2222222222222222,
             "#7201a8"
            ],
            [
             0.3333333333333333,
             "#9c179e"
            ],
            [
             0.4444444444444444,
             "#bd3786"
            ],
            [
             0.5555555555555556,
             "#d8576b"
            ],
            [
             0.6666666666666666,
             "#ed7953"
            ],
            [
             0.7777777777777778,
             "#fb9f3a"
            ],
            [
             0.8888888888888888,
             "#fdca26"
            ],
            [
             1,
             "#f0f921"
            ]
           ]
          },
          "colorway": [
           "#636efa",
           "#EF553B",
           "#00cc96",
           "#ab63fa",
           "#FFA15A",
           "#19d3f3",
           "#FF6692",
           "#B6E880",
           "#FF97FF",
           "#FECB52"
          ],
          "font": {
           "color": "#2a3f5f"
          },
          "geo": {
           "bgcolor": "white",
           "lakecolor": "white",
           "landcolor": "#E5ECF6",
           "showlakes": true,
           "showland": true,
           "subunitcolor": "white"
          },
          "hoverlabel": {
           "align": "left"
          },
          "hovermode": "closest",
          "mapbox": {
           "style": "light"
          },
          "paper_bgcolor": "white",
          "plot_bgcolor": "#E5ECF6",
          "polar": {
           "angularaxis": {
            "gridcolor": "white",
            "linecolor": "white",
            "ticks": ""
           },
           "bgcolor": "#E5ECF6",
           "radialaxis": {
            "gridcolor": "white",
            "linecolor": "white",
            "ticks": ""
           }
          },
          "scene": {
           "xaxis": {
            "backgroundcolor": "#E5ECF6",
            "gridcolor": "white",
            "gridwidth": 2,
            "linecolor": "white",
            "showbackground": true,
            "ticks": "",
            "zerolinecolor": "white"
           },
           "yaxis": {
            "backgroundcolor": "#E5ECF6",
            "gridcolor": "white",
            "gridwidth": 2,
            "linecolor": "white",
            "showbackground": true,
            "ticks": "",
            "zerolinecolor": "white"
           },
           "zaxis": {
            "backgroundcolor": "#E5ECF6",
            "gridcolor": "white",
            "gridwidth": 2,
            "linecolor": "white",
            "showbackground": true,
            "ticks": "",
            "zerolinecolor": "white"
           }
          },
          "shapedefaults": {
           "line": {
            "color": "#2a3f5f"
           }
          },
          "ternary": {
           "aaxis": {
            "gridcolor": "white",
            "linecolor": "white",
            "ticks": ""
           },
           "baxis": {
            "gridcolor": "white",
            "linecolor": "white",
            "ticks": ""
           },
           "bgcolor": "#E5ECF6",
           "caxis": {
            "gridcolor": "white",
            "linecolor": "white",
            "ticks": ""
           }
          },
          "title": {
           "x": 0.05
          },
          "xaxis": {
           "automargin": true,
           "gridcolor": "white",
           "linecolor": "white",
           "ticks": "",
           "title": {
            "standoff": 15
           },
           "zerolinecolor": "white",
           "zerolinewidth": 2
          },
          "yaxis": {
           "automargin": true,
           "gridcolor": "white",
           "linecolor": "white",
           "ticks": "",
           "title": {
            "standoff": 15
           },
           "zerolinecolor": "white",
           "zerolinewidth": 2
          }
         }
        }
       }
      },
      "text/html": [
       "<div>\n",
       "        \n",
       "        \n",
       "            <div id=\"29c7d8b4-387a-4484-acfe-b1f42a1dee76\" class=\"plotly-graph-div\" style=\"height:525px; width:100%;\"></div>\n",
       "            <script type=\"text/javascript\">\n",
       "                require([\"plotly\"], function(Plotly) {\n",
       "                    window.PLOTLYENV=window.PLOTLYENV || {};\n",
       "                    \n",
       "                if (document.getElementById(\"29c7d8b4-387a-4484-acfe-b1f42a1dee76\")) {\n",
       "                    Plotly.newPlot(\n",
       "                        '29c7d8b4-387a-4484-acfe-b1f42a1dee76',\n",
       "                        [{\"type\": \"scatter\", \"x\": [0.0, 3.75, 7.5, 11.25, 15.0, 18.75, 22.5, 26.25, 30.0, 33.75, 37.5, 41.25, 45.0, 48.75, 52.5, 56.25, 60.0, 63.75, 67.5, 71.25, 75.0, 78.75, 82.5, 86.25, 90.0, 93.75, 97.5, 101.25, 105.0, 108.75, 112.5, 116.25, 120.0, 123.75, 127.5, 131.25, 135.0, 138.75, 142.5, 146.25, 150.0, 153.75, 157.5, 161.25, 165.0, 168.75, 172.5, 176.25, 180.0, 183.75, 187.5, 191.25, 195.0, 198.75, 202.5, 206.25, 210.0, 213.75, 217.5, 221.25, 225.0, 228.75, 232.5, 236.25, 240.0, 243.75, 247.5, 251.25, 255.0, 258.75, 262.5, 266.25, 270.0, 273.75, 277.5, 281.25, 285.0, 288.75, 292.5, 296.25, 300.0, 303.75, 307.5, 311.25, 315.0, 318.75, 322.5, 326.25, 330.0, 333.75, 337.5, 341.25, 345.0, 348.75, 352.5, 356.25, 360.0, 363.75, 367.5, 371.25, 375.0, 378.75, 382.5, 386.25, 390.0, 393.75, 397.5, 401.25, 405.0, 408.75, 412.5, 416.25, 420.0, 423.75, 427.5, 431.25, 435.0, 438.75, 442.5, 446.25, 450.0, 453.75, 457.5, 461.25, 465.0, 468.75, 472.5, 476.25, 480.0, 483.75, 487.5, 491.25, 495.0, 498.75, 502.5, 506.25, 510.0, 513.75, 517.5, 521.25, 525.0, 528.75, 532.5, 536.25, 540.0, 543.75, 547.5, 551.25, 555.0, 558.75, 562.5, 566.25, 570.0, 573.75, 577.5, 581.25, 585.0, 588.75, 592.5, 596.25, 600.0, 603.75, 607.5, 611.25, 615.0, 618.75, 622.5, 626.25, 630.0, 633.75, 637.5, 641.25, 645.0, 648.75, 652.5, 656.25, 660.0, 663.75, 667.5, 671.25, 675.0, 678.75, 682.5, 686.25, 690.0, 693.75, 697.5, 701.25, 705.0, 708.75, 712.5, 716.25, 720.0, 723.75, 727.5, 731.25, 735.0, 738.75, 742.5, 746.25, 750.0, 753.75, 757.5, 761.25, 765.0, 768.75, 772.5, 776.25, 780.0, 783.75, 787.5, 791.25, 795.0, 798.75, 802.5, 806.25, 810.0, 813.75, 817.5, 821.25, 825.0, 828.75, 832.5, 836.25, 840.0, 843.75, 847.5, 851.25, 855.0, 858.75, 862.5, 866.25, 870.0, 873.75, 877.5, 881.25, 885.0, 888.75, 892.5, 896.25, 900.0, 903.75, 907.5, 911.25, 915.0, 918.75, 922.5, 926.25, 930.0, 933.75, 937.5, 941.25, 945.0, 948.75, 952.5, 956.25, 960.0, 963.75, 967.5, 971.25, 975.0, 978.75, 982.5, 986.25, 990.0, 993.75, 997.5, 1001.25, 1005.0, 1008.75, 1012.5, 1016.25, 1020.0, 1023.75, 1027.5, 1031.25, 1035.0, 1038.75, 1042.5, 1046.25, 1050.0, 1053.75, 1057.5, 1061.25, 1065.0, 1068.75, 1072.5, 1076.25, 1080.0, 1083.75, 1087.5, 1091.25, 1095.0, 1098.75, 1102.5, 1106.25, 1110.0, 1113.75, 1117.5, 1121.25, 1125.0, 1128.75, 1132.5, 1136.25, 1140.0, 1143.75, 1147.5, 1151.25, 1155.0, 1158.75, 1162.5, 1166.25, 1170.0, 1173.75, 1177.5, 1181.25, 1185.0, 1188.75, 1192.5, 1196.25, 1200.0, 1203.75, 1207.5, 1211.25, 1215.0, 1218.75, 1222.5, 1226.25, 1230.0, 1233.75, 1237.5, 1241.25, 1245.0, 1248.75, 1252.5, 1256.25, 1260.0, 1263.75, 1267.5, 1271.25, 1275.0, 1278.75, 1282.5, 1286.25, 1290.0, 1293.75, 1297.5, 1301.25, 1305.0, 1308.75, 1312.5, 1316.25, 1320.0, 1323.75, 1327.5, 1331.25, 1335.0, 1338.75, 1342.5, 1346.25, 1350.0, 1353.75, 1357.5, 1361.25, 1365.0, 1368.75, 1372.5, 1376.25, 1380.0, 1383.75, 1387.5, 1391.25, 1395.0, 1398.75, 1402.5, 1406.25, 1410.0, 1413.75, 1417.5, 1421.25, 1425.0, 1428.75, 1432.5, 1436.25, 1440.0, 1443.75, 1447.5, 1451.25, 1455.0, 1458.75, 1462.5, 1466.25, 1470.0, 1473.75, 1477.5, 1481.25, 1485.0, 1488.75, 1492.5, 1496.25, 1500.0], \"y\": [0.010000000000000002, 0.009992672820988584, 0.009999978270766941, 0.010000027246362049, 0.010000076133100179, 0.010000149596896558, 0.010000247642551805, 0.010000370268213866, 0.01000051746683264, 0.010000689223642488, 0.010000885513293185, 0.010001106296517561, 0.010001351516338826, 0.01000162109382229, 0.010001914923377755, 0.010002232867621348, 0.010002574751807873, 0.01000294035784839, 0.010003329417930905, 0.010003741607766958, 0.010004176539491498, 0.010004633754249722, 0.010005112714511067, 0.01000561279615873, 0.01000613328041205, 0.010006673345649812, 0.010007232059214477, 0.010007808369291608, 0.010008401096974175, 0.010009008928639788, 0.010009630408788571, 0.010010263933511747, 0.010010907744784742, 0.010011559925803853, 0.010012218397611952, 0.01001288091728359, 0.010013545077964566, 0.0100142083110802, 0.010014867891041484, 0.010015520942782356, 0.010016164452455272, 0.010016795281588867, 0.010017410184970297, 0.010018005832451108, 0.010018578834786905, 0.010019125773507631, 0.010019643234675388, 0.010020127846225677, 0.010020576318407798, 0.0100209854866524, 0.010021352356006043, 0.010021674146098988, 0.010021948335466439, 0.010022172703940185, 0.010022345371778221, 0.01002246483421716, 0.010022529990219721, 0.010022540164348765, 0.010022495120924216, 0.010022395069898805, 0.010022240664204516, 0.01002203298865543, 0.010021773540820518, 0.010021464204582095, 0.010021107217350432, 0.010020705132102039, 0.010020260775534522, 0.010019777203686981, 0.010019257656360006, 0.010018705511594356, 0.010018124241341672, 0.01001751736929938, 0.010016888431697294, 0.010016240941630662, 0.01001557835734444, 0.010014904054696048, 0.010014221303866063, 0.010013533250252404, 0.01001284289937549, 0.010012153105540326, 0.010011466563943916, 0.01001078580588162, 0.010010113196689098, 0.01000945093605622, 0.010008801060359474, 0.010008165446679306, 0.01000754581819413, 0.010006943750670972, 0.010006360679802996, 0.010005797909173865, 0.010005256618657133, 0.0100047378730857, 0.01000424263105003, 0.010003771753705246, 0.01000332601348568, 0.010002906102641302, 0.01000251264152404, 0.010002146186562812, 0.010001807237875613, 0.010001496246474166, 0.010001213621022749, 0.010000959734117363, 0.010000734928055158, 0.010000539520066552, 0.010000373806984868, 0.010000238069329303, 0.010000132574778406, 0.01000005758101159, 0.01000001333789662, 0.01000000008900114, 0.010000018072406271, 0.010000067520800193, 0.010000148660829681, 0.010000261711687455, 0.010000406882913442, 0.010000584371388272, 0.010000794357498129, 0.01000103700045083, 0.0100013124327245, 0.010001620753632078, 0.01000196202198698, 0.010002336247858998, 0.010002743383412466, 0.010003183312824383, 0.010003655841285514, 0.010004160683095037, 0.010004697448868194, 0.010005265631887328, 0.010005864593640312, 0.010006493548607096, 0.01000715154837562, 0.010007837465193658, 0.010008549975094433, 0.010009287540771423, 0.010010048394423869, 0.0100108305208489, 0.010011631641120705, 0.010012449197271877, 0.010013280338476106, 0.010014121909325066, 0.010014970440890999, 0.010015822145368145, 0.010016672915182566, 0.010017518327543553, 0.010018353655468822, 0.010019173886336899, 0.01001997374898743, 0.010020747750288283, 0.01002149022190048, 0.010022195377687232, 0.010022857381823807, 0.010023470427172932, 0.01002402882291068, 0.010024527089744665, 0.010024960060404266, 0.010025322982452416, 0.010025611619934323, 0.0100258223500047, 0.010025952250519849, 0.010025999174689099, 0.010025961809271022, 0.010025839713464844, 0.010025633336546446, 0.0100253440133626, 0.010024973937937071, 0.010024526116559873, 0.010024004302729699, 0.010023412917120795, 0.01002275695629205, 0.010022041894124645, 0.010021273579968334, 0.010020458137227033, 0.01001960186567179, 0.01001871115019415, 0.010017792378067918, 0.01001685186613035, 0.010015895798672361, 0.010014930176276799, 0.010013960775385276, 0.010012993118018062, 0.010012032450816017, 0.010011083732411882, 0.01001015162805657, 0.0100092405104093, 0.010008354465433114, 0.01000749730240376, 0.010006672567128002, 0.010005883557565185, 0.010005133341145795, 0.010004424773176219, 0.010003760515805498, 0.010003143057105946, 0.010002574729882871, 0.010002057729880423, 0.010001594133090192, 0.010001185911898513, 0.010000834949828273, 0.01000054305464337, 0.010000311969588766, 0.010000143382539815, 0.010000038932830028, 0.01000000021551903, 0.010000028782852666, 0.010000126142655184, 0.01000029375337999, 0.010000533015530753, 0.01000084525914866, 0.010001231727044382, 0.010001693553434606, 0.010002231737623265, 0.0100028471123459, 0.010003540306373506, 0.010004311700950255, 0.01000516137961983, 0.010006089070982164, 0.010007094083922335, 0.010008175234876017, 0.010009330766755961, 0.010010558259281778, 0.010011854530657498, 0.010013215530864204, 0.010014636227320784, 0.010016110484365225, 0.010017630938975536, 0.010019188876434264, 0.01002077411127824, 0.01002237488087236, 0.010023977761248852, 0.010025567617328816, 0.01002712760203909, 0.01002863922076607, 0.010030082478510956, 0.010031436126374365, 0.010032678020905388, 0.010033785603815414, 0.010034736500303012, 0.010035509222035987, 0.010036083946708688, 0.010036443331865881, 0.010036573308840724, 0.010036463795893107, 0.010036109270215752, 0.01003550914750792, 0.01003466793473919, 0.010033595144213845, 0.01003230498145682, 0.010030815841680722, 0.01002914966613068, 0.010027331218289696, 0.010025387340353981, 0.010023346243729263, 0.010021236875783367, 0.010019088391299327, 0.010016929743354176, 0.010014789396415109, 0.010012695155257599, 0.010010674097137242, 0.010008752591246221, 0.010006956388319721, 0.01000531076367382, 0.010003840698323765, 0.01000257108461264, 0.0100015269445602, 0.010000733650618867, 0.010000217139478984, 0.010000004109811781, 0.01000012219415655, 0.01000060009320859, 0.010001467656967584, 0.010002755890571811, 0.010004496851521688, 0.010006723386715034, 0.010009468628073677, 0.010012765118109376, 0.010016643362067208, 0.01002112948796313, 0.010026241522701623, 0.010031983543074984, 0.010038336624834996, 0.010045245116156273, 0.010052596424962633, 0.010060192573743822, 0.010067713003728879, 0.01007467189422354, 0.010080381449801216, 0.010083945957619113, 0.010084325471783515, 0.010080508112530874, 0.01007179656483017, 0.010058153366191393, 0.010040530026099816, 0.0100212399231624, 0.010004854791181734, 0.010001345536285962, 0.010038072569246693, 0.010145334927072322, 0.010057291752571272, 0.010046745658786651, 0.010004444221529626, 0.010000051458758097, 0.010006108540342085, 0.010002720727419815, 0.009999991635488849, 0.010002806253478944, 0.010034883157555508, 0.010150868357572337, 0.010044522590699552, 0.009999521464098922, 0.010002924116416638, 0.010000765470759376, 0.009999781099260783, 0.01000236411996649, 0.010004667921026127, 0.010006132433913625, 0.010007249079371696, 0.010008193882635703, 0.010008895148354006, 0.010009253682101971, 0.010009224350572185, 0.010008814745760623, 0.010008071821985026, 0.010007068891464799, 0.01000589282866252, 0.010004634260330048, 0.010003380967593024, 0.010002213017804627, 0.010001198914137227, 0.010000392674897782, 0.009999831754673342, 0.009999535701462324, 0.009999505550096016, 0.009999724067754859, 0.01000015702735389, 0.010000755664030692, 0.010001460357387653, 0.010002205392398631, 0.010002924430008713, 0.01000355612849688, 0.010004049261882676, 0.010004366720659543, 0.01000448794975563, 0.010004409633612061, 0.010004144709112168, 0.010003720006878051, 0.010003172948506119, 0.01000254775418545, 0.010001891563006184, 0.010001250772913268, 0.010000667804534107, 0.010000178408964224, 0.009999809586139226, 0.009999578156668625, 0.009999490025359666, 0.009999540173578812, 0.00999971340456668, 0.00999998583006364, 0.010000327025841442, 0.010000702705969698, 0.010001077687868442, 0.01000141886372682, 0.010001697877329858, 0.010001893237783903, 0.010001991678749208, 0.010001988677004076, 0.010001888154308877, 0.010001701479477704, 0.010001445948587461, 0.010001142945896716, 0.01000081598105843, 0.01000048876993722, 0.010000183488471572, 0.009999919291226811, 0.009999711154446821, 0.009999569079380094, 0.009999497674074808, 0.009999496117529982, 0.009999558495549893, 0.009999674480342906, 0.00999983030517377, 0.01000000996275572, 0.010000196534980526, 0.01000037354643093, 0.010000526228995646, 0.010000642592313631, 0.010000714214743606, 0.010000736699494228, 0.010000709775863816, 0.01000063706080548, 0.01000052552633261, 0.01000038474022445, 0.010000225959707504, 0.01000006116077711, 0.009999902081381998, 0.009999759347150394, 0.009999641735862113, 0.009999555623044637, 0.009999504636749269, 0.009999489535027413, 0.009999508304900288, 0.009999556466825486, 0.009999627554321107]}],\n",
       "                        {\"template\": {\"data\": {\"bar\": [{\"error_x\": {\"color\": \"#2a3f5f\"}, \"error_y\": {\"color\": \"#2a3f5f\"}, \"marker\": {\"line\": {\"color\": \"#E5ECF6\", \"width\": 0.5}}, \"type\": \"bar\"}], \"barpolar\": [{\"marker\": {\"line\": {\"color\": \"#E5ECF6\", \"width\": 0.5}}, \"type\": \"barpolar\"}], \"carpet\": [{\"aaxis\": {\"endlinecolor\": \"#2a3f5f\", \"gridcolor\": \"white\", \"linecolor\": \"white\", \"minorgridcolor\": \"white\", \"startlinecolor\": \"#2a3f5f\"}, \"baxis\": {\"endlinecolor\": \"#2a3f5f\", \"gridcolor\": \"white\", \"linecolor\": \"white\", \"minorgridcolor\": \"white\", \"startlinecolor\": \"#2a3f5f\"}, \"type\": \"carpet\"}], \"choropleth\": [{\"colorbar\": {\"outlinewidth\": 0, \"ticks\": \"\"}, \"type\": \"choropleth\"}], \"contour\": [{\"colorbar\": {\"outlinewidth\": 0, \"ticks\": \"\"}, \"colorscale\": [[0.0, \"#0d0887\"], [0.1111111111111111, \"#46039f\"], [0.2222222222222222, \"#7201a8\"], [0.3333333333333333, \"#9c179e\"], [0.4444444444444444, \"#bd3786\"], [0.5555555555555556, \"#d8576b\"], [0.6666666666666666, \"#ed7953\"], [0.7777777777777778, \"#fb9f3a\"], [0.8888888888888888, \"#fdca26\"], [1.0, \"#f0f921\"]], \"type\": \"contour\"}], \"contourcarpet\": [{\"colorbar\": {\"outlinewidth\": 0, \"ticks\": \"\"}, \"type\": \"contourcarpet\"}], \"heatmap\": [{\"colorbar\": {\"outlinewidth\": 0, \"ticks\": \"\"}, \"colorscale\": [[0.0, \"#0d0887\"], [0.1111111111111111, \"#46039f\"], [0.2222222222222222, \"#7201a8\"], [0.3333333333333333, \"#9c179e\"], [0.4444444444444444, \"#bd3786\"], [0.5555555555555556, \"#d8576b\"], [0.6666666666666666, \"#ed7953\"], [0.7777777777777778, \"#fb9f3a\"], [0.8888888888888888, \"#fdca26\"], [1.0, \"#f0f921\"]], \"type\": \"heatmap\"}], \"heatmapgl\": [{\"colorbar\": {\"outlinewidth\": 0, \"ticks\": \"\"}, \"colorscale\": [[0.0, \"#0d0887\"], [0.1111111111111111, \"#46039f\"], [0.2222222222222222, \"#7201a8\"], [0.3333333333333333, \"#9c179e\"], [0.4444444444444444, \"#bd3786\"], [0.5555555555555556, \"#d8576b\"], [0.6666666666666666, \"#ed7953\"], [0.7777777777777778, \"#fb9f3a\"], [0.8888888888888888, \"#fdca26\"], [1.0, \"#f0f921\"]], \"type\": \"heatmapgl\"}], \"histogram\": [{\"marker\": {\"colorbar\": {\"outlinewidth\": 0, \"ticks\": \"\"}}, \"type\": \"histogram\"}], \"histogram2d\": [{\"colorbar\": {\"outlinewidth\": 0, \"ticks\": \"\"}, \"colorscale\": [[0.0, \"#0d0887\"], [0.1111111111111111, \"#46039f\"], [0.2222222222222222, \"#7201a8\"], [0.3333333333333333, \"#9c179e\"], [0.4444444444444444, \"#bd3786\"], [0.5555555555555556, \"#d8576b\"], [0.6666666666666666, \"#ed7953\"], [0.7777777777777778, \"#fb9f3a\"], [0.8888888888888888, \"#fdca26\"], [1.0, \"#f0f921\"]], \"type\": \"histogram2d\"}], \"histogram2dcontour\": [{\"colorbar\": {\"outlinewidth\": 0, \"ticks\": \"\"}, \"colorscale\": [[0.0, \"#0d0887\"], [0.1111111111111111, \"#46039f\"], [0.2222222222222222, \"#7201a8\"], [0.3333333333333333, \"#9c179e\"], [0.4444444444444444, \"#bd3786\"], [0.5555555555555556, \"#d8576b\"], [0.6666666666666666, \"#ed7953\"], [0.7777777777777778, \"#fb9f3a\"], [0.8888888888888888, \"#fdca26\"], [1.0, \"#f0f921\"]], \"type\": \"histogram2dcontour\"}], \"mesh3d\": [{\"colorbar\": {\"outlinewidth\": 0, \"ticks\": \"\"}, \"type\": \"mesh3d\"}], \"parcoords\": [{\"line\": {\"colorbar\": {\"outlinewidth\": 0, \"ticks\": \"\"}}, \"type\": \"parcoords\"}], \"pie\": [{\"automargin\": true, \"type\": \"pie\"}], \"scatter\": [{\"marker\": {\"colorbar\": {\"outlinewidth\": 0, \"ticks\": \"\"}}, \"type\": \"scatter\"}], \"scatter3d\": [{\"line\": {\"colorbar\": {\"outlinewidth\": 0, \"ticks\": \"\"}}, \"marker\": {\"colorbar\": {\"outlinewidth\": 0, \"ticks\": \"\"}}, \"type\": \"scatter3d\"}], \"scattercarpet\": [{\"marker\": {\"colorbar\": {\"outlinewidth\": 0, \"ticks\": \"\"}}, \"type\": \"scattercarpet\"}], \"scattergeo\": [{\"marker\": {\"colorbar\": {\"outlinewidth\": 0, \"ticks\": \"\"}}, \"type\": \"scattergeo\"}], \"scattergl\": [{\"marker\": {\"colorbar\": {\"outlinewidth\": 0, \"ticks\": \"\"}}, \"type\": \"scattergl\"}], \"scattermapbox\": [{\"marker\": {\"colorbar\": {\"outlinewidth\": 0, \"ticks\": \"\"}}, \"type\": \"scattermapbox\"}], \"scatterpolar\": [{\"marker\": {\"colorbar\": {\"outlinewidth\": 0, \"ticks\": \"\"}}, \"type\": \"scatterpolar\"}], \"scatterpolargl\": [{\"marker\": {\"colorbar\": {\"outlinewidth\": 0, \"ticks\": \"\"}}, \"type\": \"scatterpolargl\"}], \"scatterternary\": [{\"marker\": {\"colorbar\": {\"outlinewidth\": 0, \"ticks\": \"\"}}, \"type\": \"scatterternary\"}], \"surface\": [{\"colorbar\": {\"outlinewidth\": 0, \"ticks\": \"\"}, \"colorscale\": [[0.0, \"#0d0887\"], [0.1111111111111111, \"#46039f\"], [0.2222222222222222, \"#7201a8\"], [0.3333333333333333, \"#9c179e\"], [0.4444444444444444, \"#bd3786\"], [0.5555555555555556, \"#d8576b\"], [0.6666666666666666, \"#ed7953\"], [0.7777777777777778, \"#fb9f3a\"], [0.8888888888888888, \"#fdca26\"], [1.0, \"#f0f921\"]], \"type\": \"surface\"}], \"table\": [{\"cells\": {\"fill\": {\"color\": \"#EBF0F8\"}, \"line\": {\"color\": \"white\"}}, \"header\": {\"fill\": {\"color\": \"#C8D4E3\"}, \"line\": {\"color\": \"white\"}}, \"type\": \"table\"}]}, \"layout\": {\"annotationdefaults\": {\"arrowcolor\": \"#2a3f5f\", \"arrowhead\": 0, \"arrowwidth\": 1}, \"coloraxis\": {\"colorbar\": {\"outlinewidth\": 0, \"ticks\": \"\"}}, \"colorscale\": {\"diverging\": [[0, \"#8e0152\"], [0.1, \"#c51b7d\"], [0.2, \"#de77ae\"], [0.3, \"#f1b6da\"], [0.4, \"#fde0ef\"], [0.5, \"#f7f7f7\"], [0.6, \"#e6f5d0\"], [0.7, \"#b8e186\"], [0.8, \"#7fbc41\"], [0.9, \"#4d9221\"], [1, \"#276419\"]], \"sequential\": [[0.0, \"#0d0887\"], [0.1111111111111111, \"#46039f\"], [0.2222222222222222, \"#7201a8\"], [0.3333333333333333, \"#9c179e\"], [0.4444444444444444, \"#bd3786\"], [0.5555555555555556, \"#d8576b\"], [0.6666666666666666, \"#ed7953\"], [0.7777777777777778, \"#fb9f3a\"], [0.8888888888888888, \"#fdca26\"], [1.0, \"#f0f921\"]], \"sequentialminus\": [[0.0, \"#0d0887\"], [0.1111111111111111, \"#46039f\"], [0.2222222222222222, \"#7201a8\"], [0.3333333333333333, \"#9c179e\"], [0.4444444444444444, \"#bd3786\"], [0.5555555555555556, \"#d8576b\"], [0.6666666666666666, \"#ed7953\"], [0.7777777777777778, \"#fb9f3a\"], [0.8888888888888888, \"#fdca26\"], [1.0, \"#f0f921\"]]}, \"colorway\": [\"#636efa\", \"#EF553B\", \"#00cc96\", \"#ab63fa\", \"#FFA15A\", \"#19d3f3\", \"#FF6692\", \"#B6E880\", \"#FF97FF\", \"#FECB52\"], \"font\": {\"color\": \"#2a3f5f\"}, \"geo\": {\"bgcolor\": \"white\", \"lakecolor\": \"white\", \"landcolor\": \"#E5ECF6\", \"showlakes\": true, \"showland\": true, \"subunitcolor\": \"white\"}, \"hoverlabel\": {\"align\": \"left\"}, \"hovermode\": \"closest\", \"mapbox\": {\"style\": \"light\"}, \"paper_bgcolor\": \"white\", \"plot_bgcolor\": \"#E5ECF6\", \"polar\": {\"angularaxis\": {\"gridcolor\": \"white\", \"linecolor\": \"white\", \"ticks\": \"\"}, \"bgcolor\": \"#E5ECF6\", \"radialaxis\": {\"gridcolor\": \"white\", \"linecolor\": \"white\", \"ticks\": \"\"}}, \"scene\": {\"xaxis\": {\"backgroundcolor\": \"#E5ECF6\", \"gridcolor\": \"white\", \"gridwidth\": 2, \"linecolor\": \"white\", \"showbackground\": true, \"ticks\": \"\", \"zerolinecolor\": \"white\"}, \"yaxis\": {\"backgroundcolor\": \"#E5ECF6\", \"gridcolor\": \"white\", \"gridwidth\": 2, \"linecolor\": \"white\", \"showbackground\": true, \"ticks\": \"\", \"zerolinecolor\": \"white\"}, \"zaxis\": {\"backgroundcolor\": \"#E5ECF6\", \"gridcolor\": \"white\", \"gridwidth\": 2, \"linecolor\": \"white\", \"showbackground\": true, \"ticks\": \"\", \"zerolinecolor\": \"white\"}}, \"shapedefaults\": {\"line\": {\"color\": \"#2a3f5f\"}}, \"ternary\": {\"aaxis\": {\"gridcolor\": \"white\", \"linecolor\": \"white\", \"ticks\": \"\"}, \"baxis\": {\"gridcolor\": \"white\", \"linecolor\": \"white\", \"ticks\": \"\"}, \"bgcolor\": \"#E5ECF6\", \"caxis\": {\"gridcolor\": \"white\", \"linecolor\": \"white\", \"ticks\": \"\"}}, \"title\": {\"x\": 0.05}, \"xaxis\": {\"automargin\": true, \"gridcolor\": \"white\", \"linecolor\": \"white\", \"ticks\": \"\", \"title\": {\"standoff\": 15}, \"zerolinecolor\": \"white\", \"zerolinewidth\": 2}, \"yaxis\": {\"automargin\": true, \"gridcolor\": \"white\", \"linecolor\": \"white\", \"ticks\": \"\", \"title\": {\"standoff\": 15}, \"zerolinecolor\": \"white\", \"zerolinewidth\": 2}}}},\n",
       "                        {\"responsive\": true}\n",
       "                    ).then(function(){\n",
       "                            \n",
       "var gd = document.getElementById('29c7d8b4-387a-4484-acfe-b1f42a1dee76');\n",
       "var x = new MutationObserver(function (mutations, observer) {{\n",
       "        var display = window.getComputedStyle(gd).display;\n",
       "        if (!display || display === 'none') {{\n",
       "            console.log([gd, 'removed!']);\n",
       "            Plotly.purge(gd);\n",
       "            observer.disconnect();\n",
       "        }}\n",
       "}});\n",
       "\n",
       "// Listen for the removal of the full notebook cells\n",
       "var notebookContainer = gd.closest('#notebook-container');\n",
       "if (notebookContainer) {{\n",
       "    x.observe(notebookContainer, {childList: true});\n",
       "}}\n",
       "\n",
       "// Listen for the clearing of the current output cell\n",
       "var outputEl = gd.closest('.output');\n",
       "if (outputEl) {{\n",
       "    x.observe(outputEl, {childList: true});\n",
       "}}\n",
       "\n",
       "                        })\n",
       "                };\n",
       "                });\n",
       "            </script>\n",
       "        </div>"
      ]
     },
     "metadata": {},
     "output_type": "display_data"
    }
   ],
   "source": [
    "fgr=go.Figure()\n",
    "len = np.zeros(M+1)\n",
    "len[:]=(y[:,0]-y[:,2])**2 + (y[:,1]-y[:,3])**2\n",
    "fgr.add_trace(go.Scatter(x=t,y=len[:]))"
   ]
  },
  {
   "cell_type": "code",
   "execution_count": null,
   "metadata": {},
   "outputs": [],
   "source": []
  }
 ],
 "metadata": {
  "kernelspec": {
   "display_name": "Python 3",
   "language": "python",
   "name": "python3"
  },
  "language_info": {
   "codemirror_mode": {
    "name": "ipython",
    "version": 3
   },
   "file_extension": ".py",
   "mimetype": "text/x-python",
   "name": "python",
   "nbconvert_exporter": "python",
   "pygments_lexer": "ipython3",
   "version": "3.7.3"
  }
 },
 "nbformat": 4,
 "nbformat_minor": 2
}
